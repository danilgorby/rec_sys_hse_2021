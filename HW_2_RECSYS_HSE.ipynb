{
 "cells": [
  {
   "cell_type": "markdown",
   "metadata": {
    "id": "8_xV-74IA4bg"
   },
   "source": [
    "# Рекомендателная система для музыки"
   ]
  },
  {
   "cell_type": "markdown",
   "metadata": {
    "id": "w8X8VG3htHXt"
   },
   "source": [
    "Дaтасет:\n",
    "https://www.kaggle.com/c/kkbox-music-recommendation-challenge/overview\n",
    "\n",
    "Можете мерять результат по 5-fold evaluation на train-set,  per user auc roc.  \n",
    "\n",
    "**Задача 1:**\n",
    "\n",
    "Собрать более-менее приличную рекомендательную систему с помощью GBDT. Использование трюков из лекции (и не из неё), тюнинг и разумных объемов фича инжиниринг прям нужен. \n",
    "\n",
    "**Задача 2:**\n",
    "\n",
    "Пользуясь информацией о треках построить неклассические эмбеддинги и попробовать использовать их:\n",
    "\n",
    "a) показать симилары глазами\n",
    "\n",
    "b) в качестве рекоммендера вместо GBDT (разницу в метриках) \n",
    "\n",
    "c) стек с GBDT (прирост / отсутствие / почему / SHAP values)\n",
    "\n",
    "**Soft deadline:** 20.11\n",
    "\n",
    "**Hard deadline:** 27.11"
   ]
  },
  {
   "cell_type": "code",
   "execution_count": null,
   "metadata": {
    "id": "vnU32NYHzODu"
   },
   "outputs": [],
   "source": [
    "!pip -q install catboost\n",
    "!pip -q install shap"
   ]
  },
  {
   "cell_type": "code",
   "execution_count": null,
   "metadata": {
    "id": "Ry0qn-x1yvrI"
   },
   "outputs": [],
   "source": [
    "import matplotlib.pyplot as plt\n",
    "from collections import defaultdict\n",
    "import pandas as pd\n",
    "import numpy as np\n",
    "from numpy.linalg import norm\n",
    "\n",
    "from tqdm.notebook import tqdm\n",
    "from tqdm import trange\n",
    "import multiprocessing\n",
    "import os\n",
    "\n",
    "from sklearn.model_selection import train_test_split\n",
    "from sklearn.metrics import roc_auc_score\n",
    "from catboost import CatBoostClassifier\n",
    "from catboost import Pool\n",
    "from catboost import cv\n",
    "from gensim.models import Word2Vec\n",
    "import shap\n",
    "\n",
    "import warnings \n",
    "warnings.filterwarnings('ignore') "
   ]
  },
  {
   "cell_type": "markdown",
   "metadata": {
    "id": "pxCJnHL5xjAI"
   },
   "source": [
    "## Data loading"
   ]
  },
  {
   "cell_type": "code",
   "execution_count": null,
   "metadata": {
    "id": "YwUhWIHSwiPg"
   },
   "outputs": [],
   "source": [
    "! pip -q install kaggle\n",
    "! mkdir ~/.kaggle\n",
    "! cp kaggle.json ~/.kaggle/\n",
    "! chmod 600 ~/.kaggle/kaggle.json\n",
    "! mkdir data\n",
    "% cd data\n",
    "! kaggle competitions download -c kkbox-music-recommendation-challenge\n",
    "!7z x train.csv.7z\n",
    "!7z x test.csv.7z\n",
    "!7z x songs.csv.7z\n",
    "!7z x song_extra_info.csv.7z\n",
    "!7z x members.csv.7z\n",
    "!7z x sample_submission.csv.7z\n",
    "!rm *.7z\n",
    "% cd .."
   ]
  },
  {
   "cell_type": "markdown",
   "metadata": {
    "id": "-g5Ps2RjxpIr"
   },
   "source": [
    "## Data exploring and processing"
   ]
  },
  {
   "cell_type": "markdown",
   "metadata": {
    "id": "i4pfdA_wB4rt"
   },
   "source": [
    "В этой секции будет feature engineering, очистка датасета, заполнение пропусков, объединение датафреймов."
   ]
  },
  {
   "cell_type": "code",
   "execution_count": null,
   "metadata": {
    "id": "Aymx_BUPxrX3"
   },
   "outputs": [],
   "source": [
    "data_path = './data'\n",
    "train = pd.read_csv(os.path.join(data_path, 'train.csv'))\n",
    "# test = pd.read_csv(os.path.join(data_path, 'test.csv')) # не понадобится, так как без разметки\n",
    "songs = pd.read_csv(os.path.join(data_path, 'songs.csv'))\n",
    "songs_info = pd.read_csv(os.path.join(data_path, 'song_extra_info.csv'))\n",
    "members = pd.read_csv(os.path.join(data_path, 'members.csv'))"
   ]
  },
  {
   "cell_type": "code",
   "execution_count": null,
   "metadata": {
    "colab": {
     "base_uri": "https://localhost:8080/"
    },
    "id": "i6FWTNeczNLD",
    "outputId": "8ce7c8c6-40b5-4223-85c2-d231dfca4c3c"
   },
   "outputs": [
    {
     "name": "stdout",
     "output_type": "stream",
     "text": [
      "train df shape: (7377418, 6)\n",
      "songs df shape: (2296320, 7)\n",
      "songs info df shape: (2295971, 3)\n",
      "members df shape: (34403, 7)\n"
     ]
    }
   ],
   "source": [
    "print('train df shape:', train.shape)\n",
    "print('songs df shape:', songs.shape)\n",
    "print('songs info df shape:', songs_info.shape)\n",
    "print('members df shape:', members.shape)"
   ]
  },
  {
   "cell_type": "code",
   "execution_count": null,
   "metadata": {
    "id": "uy4EjDRQpQnJ"
   },
   "outputs": [],
   "source": [
    "def nan_info(df):\n",
    "    nans = []\n",
    "    for col in df.columns:\n",
    "        nans.append([col, df[col].isna().sum() / len(df[col]) * 100])\n",
    "    return pd.DataFrame(nans, columns=['column', '% nans'])"
   ]
  },
  {
   "cell_type": "markdown",
   "metadata": {
    "id": "9zKyAE6P6oGF"
   },
   "source": [
    "### train"
   ]
  },
  {
   "cell_type": "code",
   "execution_count": null,
   "metadata": {
    "colab": {
     "base_uri": "https://localhost:8080/"
    },
    "id": "wJIVpL4Gy_0E",
    "outputId": "cfa99635-74bb-41e5-d4b8-b160c9176bd9"
   },
   "outputs": [
    {
     "data": {
      "text/html": [
       "<div>\n",
       "<style scoped>\n",
       "    .dataframe tbody tr th:only-of-type {\n",
       "        vertical-align: middle;\n",
       "    }\n",
       "\n",
       "    .dataframe tbody tr th {\n",
       "        vertical-align: top;\n",
       "    }\n",
       "\n",
       "    .dataframe thead th {\n",
       "        text-align: right;\n",
       "    }\n",
       "</style>\n",
       "<table border=\"1\" class=\"dataframe\">\n",
       "  <thead>\n",
       "    <tr style=\"text-align: right;\">\n",
       "      <th></th>\n",
       "      <th>msno</th>\n",
       "      <th>song_id</th>\n",
       "      <th>source_system_tab</th>\n",
       "      <th>source_screen_name</th>\n",
       "      <th>source_type</th>\n",
       "      <th>target</th>\n",
       "    </tr>\n",
       "  </thead>\n",
       "  <tbody>\n",
       "    <tr>\n",
       "      <th>0</th>\n",
       "      <td>FGtllVqz18RPiwJj/edr2gV78zirAiY/9SmYvia+kCg=</td>\n",
       "      <td>BBzumQNXUHKdEBOB7mAJuzok+IJA1c2Ryg/yzTF6tik=</td>\n",
       "      <td>explore</td>\n",
       "      <td>Explore</td>\n",
       "      <td>online-playlist</td>\n",
       "      <td>1</td>\n",
       "    </tr>\n",
       "    <tr>\n",
       "      <th>1</th>\n",
       "      <td>Xumu+NIjS6QYVxDS4/t3SawvJ7viT9hPKXmf0RtLNx8=</td>\n",
       "      <td>bhp/MpSNoqoxOIB+/l8WPqu6jldth4DIpCm3ayXnJqM=</td>\n",
       "      <td>my library</td>\n",
       "      <td>Local playlist more</td>\n",
       "      <td>local-playlist</td>\n",
       "      <td>1</td>\n",
       "    </tr>\n",
       "    <tr>\n",
       "      <th>2</th>\n",
       "      <td>Xumu+NIjS6QYVxDS4/t3SawvJ7viT9hPKXmf0RtLNx8=</td>\n",
       "      <td>JNWfrrC7zNN7BdMpsISKa4Mw+xVJYNnxXh3/Epw7QgY=</td>\n",
       "      <td>my library</td>\n",
       "      <td>Local playlist more</td>\n",
       "      <td>local-playlist</td>\n",
       "      <td>1</td>\n",
       "    </tr>\n",
       "    <tr>\n",
       "      <th>3</th>\n",
       "      <td>Xumu+NIjS6QYVxDS4/t3SawvJ7viT9hPKXmf0RtLNx8=</td>\n",
       "      <td>2A87tzfnJTSWqD7gIZHisolhe4DMdzkbd6LzO1KHjNs=</td>\n",
       "      <td>my library</td>\n",
       "      <td>Local playlist more</td>\n",
       "      <td>local-playlist</td>\n",
       "      <td>1</td>\n",
       "    </tr>\n",
       "    <tr>\n",
       "      <th>4</th>\n",
       "      <td>FGtllVqz18RPiwJj/edr2gV78zirAiY/9SmYvia+kCg=</td>\n",
       "      <td>3qm6XTZ6MOCU11x8FIVbAGH5l5uMkT3/ZalWG1oo2Gc=</td>\n",
       "      <td>explore</td>\n",
       "      <td>Explore</td>\n",
       "      <td>online-playlist</td>\n",
       "      <td>1</td>\n",
       "    </tr>\n",
       "  </tbody>\n",
       "</table>\n",
       "</div>"
      ],
      "text/plain": [
       "                                           msno  ... target\n",
       "0  FGtllVqz18RPiwJj/edr2gV78zirAiY/9SmYvia+kCg=  ...      1\n",
       "1  Xumu+NIjS6QYVxDS4/t3SawvJ7viT9hPKXmf0RtLNx8=  ...      1\n",
       "2  Xumu+NIjS6QYVxDS4/t3SawvJ7viT9hPKXmf0RtLNx8=  ...      1\n",
       "3  Xumu+NIjS6QYVxDS4/t3SawvJ7viT9hPKXmf0RtLNx8=  ...      1\n",
       "4  FGtllVqz18RPiwJj/edr2gV78zirAiY/9SmYvia+kCg=  ...      1\n",
       "\n",
       "[5 rows x 6 columns]"
      ]
     },
     "execution_count": 8,
     "metadata": {},
     "output_type": "execute_result"
    }
   ],
   "source": [
    "train.head()"
   ]
  },
  {
   "cell_type": "code",
   "execution_count": null,
   "metadata": {
    "id": "P0Rc3yJI2dtV"
   },
   "outputs": [],
   "source": [
    "train.target = train.target.astype(np.uint8)\n",
    "for col in train.columns:\n",
    "    if train[col].dtype == object:\n",
    "        train[col] = train[col].astype('category')"
   ]
  },
  {
   "cell_type": "code",
   "execution_count": null,
   "metadata": {
    "colab": {
     "base_uri": "https://localhost:8080/"
    },
    "id": "IRg9-e9t2nFW",
    "outputId": "ba6dae9a-a76c-435e-fd5c-d763a9516e5f"
   },
   "outputs": [
    {
     "name": "stdout",
     "output_type": "stream",
     "text": [
      "<class 'pandas.core.frame.DataFrame'>\n",
      "RangeIndex: 7377418 entries, 0 to 7377417\n",
      "Data columns (total 6 columns):\n",
      " #   Column              Dtype   \n",
      "---  ------              -----   \n",
      " 0   msno                category\n",
      " 1   song_id             category\n",
      " 2   source_system_tab   category\n",
      " 3   source_screen_name  category\n",
      " 4   source_type         category\n",
      " 5   target              uint8   \n",
      "dtypes: category(5), uint8(1)\n",
      "memory usage: 84.6 MB\n"
     ]
    }
   ],
   "source": [
    "train.info()"
   ]
  },
  {
   "cell_type": "code",
   "execution_count": null,
   "metadata": {
    "colab": {
     "base_uri": "https://localhost:8080/"
    },
    "id": "-U_imf-03QUY",
    "outputId": "a17c0ddd-501f-422f-89b8-6386b9c06474"
   },
   "outputs": [
    {
     "data": {
      "text/html": [
       "<div>\n",
       "<style scoped>\n",
       "    .dataframe tbody tr th:only-of-type {\n",
       "        vertical-align: middle;\n",
       "    }\n",
       "\n",
       "    .dataframe tbody tr th {\n",
       "        vertical-align: top;\n",
       "    }\n",
       "\n",
       "    .dataframe thead th {\n",
       "        text-align: right;\n",
       "    }\n",
       "</style>\n",
       "<table border=\"1\" class=\"dataframe\">\n",
       "  <thead>\n",
       "    <tr style=\"text-align: right;\">\n",
       "      <th></th>\n",
       "      <th>column</th>\n",
       "      <th>% nans</th>\n",
       "    </tr>\n",
       "  </thead>\n",
       "  <tbody>\n",
       "    <tr>\n",
       "      <th>0</th>\n",
       "      <td>msno</td>\n",
       "      <td>0.000000</td>\n",
       "    </tr>\n",
       "    <tr>\n",
       "      <th>1</th>\n",
       "      <td>song_id</td>\n",
       "      <td>0.000000</td>\n",
       "    </tr>\n",
       "    <tr>\n",
       "      <th>2</th>\n",
       "      <td>source_system_tab</td>\n",
       "      <td>0.336825</td>\n",
       "    </tr>\n",
       "    <tr>\n",
       "      <th>3</th>\n",
       "      <td>source_screen_name</td>\n",
       "      <td>5.622618</td>\n",
       "    </tr>\n",
       "    <tr>\n",
       "      <th>4</th>\n",
       "      <td>source_type</td>\n",
       "      <td>0.291959</td>\n",
       "    </tr>\n",
       "    <tr>\n",
       "      <th>5</th>\n",
       "      <td>target</td>\n",
       "      <td>0.000000</td>\n",
       "    </tr>\n",
       "  </tbody>\n",
       "</table>\n",
       "</div>"
      ],
      "text/plain": [
       "               column    % nans\n",
       "0                msno  0.000000\n",
       "1             song_id  0.000000\n",
       "2   source_system_tab  0.336825\n",
       "3  source_screen_name  5.622618\n",
       "4         source_type  0.291959\n",
       "5              target  0.000000"
      ]
     },
     "execution_count": 11,
     "metadata": {},
     "output_type": "execute_result"
    }
   ],
   "source": [
    "nan_info(train)"
   ]
  },
  {
   "cell_type": "code",
   "execution_count": null,
   "metadata": {
    "id": "6fBsNy6wqesq"
   },
   "outputs": [],
   "source": [
    "# нанов немного заменим их модой\n",
    "cols = ['source_system_tab', 'source_screen_name', 'source_type']\n",
    "for col in cols:\n",
    "    train[col] = train[col].fillna(train[col].mode().values[0])"
   ]
  },
  {
   "cell_type": "markdown",
   "metadata": {
    "id": "AEat1IUX6vgh"
   },
   "source": [
    "### songs"
   ]
  },
  {
   "cell_type": "code",
   "execution_count": null,
   "metadata": {
    "colab": {
     "base_uri": "https://localhost:8080/"
    },
    "id": "ZPSJEFda0V5o",
    "outputId": "717531c7-acd7-4549-c6e6-7153be1123e8"
   },
   "outputs": [
    {
     "data": {
      "text/html": [
       "<div>\n",
       "<style scoped>\n",
       "    .dataframe tbody tr th:only-of-type {\n",
       "        vertical-align: middle;\n",
       "    }\n",
       "\n",
       "    .dataframe tbody tr th {\n",
       "        vertical-align: top;\n",
       "    }\n",
       "\n",
       "    .dataframe thead th {\n",
       "        text-align: right;\n",
       "    }\n",
       "</style>\n",
       "<table border=\"1\" class=\"dataframe\">\n",
       "  <thead>\n",
       "    <tr style=\"text-align: right;\">\n",
       "      <th></th>\n",
       "      <th>song_id</th>\n",
       "      <th>song_length</th>\n",
       "      <th>genre_ids</th>\n",
       "      <th>artist_name</th>\n",
       "      <th>composer</th>\n",
       "      <th>lyricist</th>\n",
       "      <th>language</th>\n",
       "    </tr>\n",
       "  </thead>\n",
       "  <tbody>\n",
       "    <tr>\n",
       "      <th>0</th>\n",
       "      <td>CXoTN1eb7AI+DntdU1vbcwGRV4SCIDxZu+YD8JP8r4E=</td>\n",
       "      <td>247640</td>\n",
       "      <td>465</td>\n",
       "      <td>張信哲 (Jeff Chang)</td>\n",
       "      <td>董貞</td>\n",
       "      <td>何啟弘</td>\n",
       "      <td>3.0</td>\n",
       "    </tr>\n",
       "    <tr>\n",
       "      <th>1</th>\n",
       "      <td>o0kFgae9QtnYgRkVPqLJwa05zIhRlUjfF7O1tDw0ZDU=</td>\n",
       "      <td>197328</td>\n",
       "      <td>444</td>\n",
       "      <td>BLACKPINK</td>\n",
       "      <td>TEDDY|  FUTURE BOUNCE|  Bekuh BOOM</td>\n",
       "      <td>TEDDY</td>\n",
       "      <td>31.0</td>\n",
       "    </tr>\n",
       "    <tr>\n",
       "      <th>2</th>\n",
       "      <td>DwVvVurfpuz+XPuFvucclVQEyPqcpUkHR0ne1RQzPs0=</td>\n",
       "      <td>231781</td>\n",
       "      <td>465</td>\n",
       "      <td>SUPER JUNIOR</td>\n",
       "      <td>NaN</td>\n",
       "      <td>NaN</td>\n",
       "      <td>31.0</td>\n",
       "    </tr>\n",
       "    <tr>\n",
       "      <th>3</th>\n",
       "      <td>dKMBWoZyScdxSkihKG+Vf47nc18N9q4m58+b4e7dSSE=</td>\n",
       "      <td>273554</td>\n",
       "      <td>465</td>\n",
       "      <td>S.H.E</td>\n",
       "      <td>湯小康</td>\n",
       "      <td>徐世珍</td>\n",
       "      <td>3.0</td>\n",
       "    </tr>\n",
       "    <tr>\n",
       "      <th>4</th>\n",
       "      <td>W3bqWd3T+VeHFzHAUfARgW9AvVRaF4N5Yzm4Mr6Eo/o=</td>\n",
       "      <td>140329</td>\n",
       "      <td>726</td>\n",
       "      <td>貴族精選</td>\n",
       "      <td>Traditional</td>\n",
       "      <td>Traditional</td>\n",
       "      <td>52.0</td>\n",
       "    </tr>\n",
       "  </tbody>\n",
       "</table>\n",
       "</div>"
      ],
      "text/plain": [
       "                                        song_id  ...  language\n",
       "0  CXoTN1eb7AI+DntdU1vbcwGRV4SCIDxZu+YD8JP8r4E=  ...       3.0\n",
       "1  o0kFgae9QtnYgRkVPqLJwa05zIhRlUjfF7O1tDw0ZDU=  ...      31.0\n",
       "2  DwVvVurfpuz+XPuFvucclVQEyPqcpUkHR0ne1RQzPs0=  ...      31.0\n",
       "3  dKMBWoZyScdxSkihKG+Vf47nc18N9q4m58+b4e7dSSE=  ...       3.0\n",
       "4  W3bqWd3T+VeHFzHAUfARgW9AvVRaF4N5Yzm4Mr6Eo/o=  ...      52.0\n",
       "\n",
       "[5 rows x 7 columns]"
      ]
     },
     "execution_count": 13,
     "metadata": {},
     "output_type": "execute_result"
    }
   ],
   "source": [
    "songs.head()"
   ]
  },
  {
   "cell_type": "code",
   "execution_count": null,
   "metadata": {
    "colab": {
     "base_uri": "https://localhost:8080/"
    },
    "id": "k_O3_QSvspRk",
    "outputId": "8fead72a-c509-4bdf-a102-a13eb76ac852"
   },
   "outputs": [
    {
     "data": {
      "text/html": [
       "<div>\n",
       "<style scoped>\n",
       "    .dataframe tbody tr th:only-of-type {\n",
       "        vertical-align: middle;\n",
       "    }\n",
       "\n",
       "    .dataframe tbody tr th {\n",
       "        vertical-align: top;\n",
       "    }\n",
       "\n",
       "    .dataframe thead th {\n",
       "        text-align: right;\n",
       "    }\n",
       "</style>\n",
       "<table border=\"1\" class=\"dataframe\">\n",
       "  <thead>\n",
       "    <tr style=\"text-align: right;\">\n",
       "      <th></th>\n",
       "      <th>column</th>\n",
       "      <th>% nans</th>\n",
       "    </tr>\n",
       "  </thead>\n",
       "  <tbody>\n",
       "    <tr>\n",
       "      <th>0</th>\n",
       "      <td>song_id</td>\n",
       "      <td>0.000000</td>\n",
       "    </tr>\n",
       "    <tr>\n",
       "      <th>1</th>\n",
       "      <td>song_length</td>\n",
       "      <td>0.000000</td>\n",
       "    </tr>\n",
       "    <tr>\n",
       "      <th>2</th>\n",
       "      <td>genre_ids</td>\n",
       "      <td>4.098558</td>\n",
       "    </tr>\n",
       "    <tr>\n",
       "      <th>3</th>\n",
       "      <td>artist_name</td>\n",
       "      <td>0.000000</td>\n",
       "    </tr>\n",
       "    <tr>\n",
       "      <th>4</th>\n",
       "      <td>composer</td>\n",
       "      <td>46.655257</td>\n",
       "    </tr>\n",
       "    <tr>\n",
       "      <th>5</th>\n",
       "      <td>lyricist</td>\n",
       "      <td>84.712409</td>\n",
       "    </tr>\n",
       "    <tr>\n",
       "      <th>6</th>\n",
       "      <td>language</td>\n",
       "      <td>0.000044</td>\n",
       "    </tr>\n",
       "  </tbody>\n",
       "</table>\n",
       "</div>"
      ],
      "text/plain": [
       "        column     % nans\n",
       "0      song_id   0.000000\n",
       "1  song_length   0.000000\n",
       "2    genre_ids   4.098558\n",
       "3  artist_name   0.000000\n",
       "4     composer  46.655257\n",
       "5     lyricist  84.712409\n",
       "6     language   0.000044"
      ]
     },
     "execution_count": 14,
     "metadata": {},
     "output_type": "execute_result"
    }
   ],
   "source": [
    "nan_info(songs)"
   ]
  },
  {
   "cell_type": "code",
   "execution_count": null,
   "metadata": {
    "id": "paAIkFjysudO"
   },
   "outputs": [],
   "source": [
    "# слишком много нанов в lyricist и composer\n",
    "songs['lyricist'] = songs['lyricist'].fillna('UNK')\n",
    "songs['composer'] = songs['composer'].fillna('UNK')\n",
    "# заполним наны\n",
    "songs['language'] = songs['language'].fillna(-1)\n",
    "songs['genre_ids'] = songs['genre_ids'].fillna(songs['genre_ids'].mode().values[0])\n",
    "\n",
    "songs.language = songs.language.astype(int)\n",
    "for col in songs.columns:\n",
    "    if songs[col].dtype == object:\n",
    "        songs[col] = songs[col].astype('category')"
   ]
  },
  {
   "cell_type": "code",
   "execution_count": null,
   "metadata": {
    "colab": {
     "base_uri": "https://localhost:8080/"
    },
    "id": "06KMDcvCsHMu",
    "outputId": "683251f6-5ad3-45ef-9193-cf7b174c99bc"
   },
   "outputs": [
    {
     "name": "stdout",
     "output_type": "stream",
     "text": [
      "<class 'pandas.core.frame.DataFrame'>\n",
      "RangeIndex: 2296320 entries, 0 to 2296319\n",
      "Data columns (total 7 columns):\n",
      " #   Column       Dtype   \n",
      "---  ------       -----   \n",
      " 0   song_id      category\n",
      " 1   song_length  int64   \n",
      " 2   genre_ids    category\n",
      " 3   artist_name  category\n",
      " 4   composer     category\n",
      " 5   lyricist     category\n",
      " 6   language     int64   \n",
      "dtypes: category(5), int64(2)\n",
      "memory usage: 202.1 MB\n"
     ]
    }
   ],
   "source": [
    "songs.info()"
   ]
  },
  {
   "cell_type": "markdown",
   "metadata": {
    "id": "13GJjQxe6xo2"
   },
   "source": [
    "### songs info"
   ]
  },
  {
   "cell_type": "code",
   "execution_count": null,
   "metadata": {
    "colab": {
     "base_uri": "https://localhost:8080/"
    },
    "id": "BTniuibA0ZQc",
    "outputId": "38c1cd4a-b9ef-4465-c027-155d42f08625"
   },
   "outputs": [
    {
     "data": {
      "text/html": [
       "<div>\n",
       "<style scoped>\n",
       "    .dataframe tbody tr th:only-of-type {\n",
       "        vertical-align: middle;\n",
       "    }\n",
       "\n",
       "    .dataframe tbody tr th {\n",
       "        vertical-align: top;\n",
       "    }\n",
       "\n",
       "    .dataframe thead th {\n",
       "        text-align: right;\n",
       "    }\n",
       "</style>\n",
       "<table border=\"1\" class=\"dataframe\">\n",
       "  <thead>\n",
       "    <tr style=\"text-align: right;\">\n",
       "      <th></th>\n",
       "      <th>song_id</th>\n",
       "      <th>name</th>\n",
       "      <th>isrc</th>\n",
       "    </tr>\n",
       "  </thead>\n",
       "  <tbody>\n",
       "    <tr>\n",
       "      <th>0</th>\n",
       "      <td>LP7pLJoJFBvyuUwvu+oLzjT+bI+UeBPURCecJsX1jjs=</td>\n",
       "      <td>我們</td>\n",
       "      <td>TWUM71200043</td>\n",
       "    </tr>\n",
       "    <tr>\n",
       "      <th>1</th>\n",
       "      <td>ClazTFnk6r0Bnuie44bocdNMM3rdlrq0bCGAsGUWcHE=</td>\n",
       "      <td>Let Me Love You</td>\n",
       "      <td>QMZSY1600015</td>\n",
       "    </tr>\n",
       "    <tr>\n",
       "      <th>2</th>\n",
       "      <td>u2ja/bZE3zhCGxvbbOB3zOoUjx27u40cf5g09UXMoKQ=</td>\n",
       "      <td>原諒我</td>\n",
       "      <td>TWA530887303</td>\n",
       "    </tr>\n",
       "    <tr>\n",
       "      <th>3</th>\n",
       "      <td>92Fqsy0+p6+RHe2EoLKjHahORHR1Kq1TBJoClW9v+Ts=</td>\n",
       "      <td>Classic</td>\n",
       "      <td>USSM11301446</td>\n",
       "    </tr>\n",
       "    <tr>\n",
       "      <th>4</th>\n",
       "      <td>0QFmz/+rJy1Q56C1DuYqT9hKKqi5TUqx0sN0IwvoHrw=</td>\n",
       "      <td>愛投羅網</td>\n",
       "      <td>TWA471306001</td>\n",
       "    </tr>\n",
       "  </tbody>\n",
       "</table>\n",
       "</div>"
      ],
      "text/plain": [
       "                                        song_id             name          isrc\n",
       "0  LP7pLJoJFBvyuUwvu+oLzjT+bI+UeBPURCecJsX1jjs=               我們  TWUM71200043\n",
       "1  ClazTFnk6r0Bnuie44bocdNMM3rdlrq0bCGAsGUWcHE=  Let Me Love You  QMZSY1600015\n",
       "2  u2ja/bZE3zhCGxvbbOB3zOoUjx27u40cf5g09UXMoKQ=              原諒我  TWA530887303\n",
       "3  92Fqsy0+p6+RHe2EoLKjHahORHR1Kq1TBJoClW9v+Ts=          Classic  USSM11301446\n",
       "4  0QFmz/+rJy1Q56C1DuYqT9hKKqi5TUqx0sN0IwvoHrw=             愛投羅網  TWA471306001"
      ]
     },
     "execution_count": 17,
     "metadata": {},
     "output_type": "execute_result"
    }
   ],
   "source": [
    "songs_info.head()"
   ]
  },
  {
   "cell_type": "code",
   "execution_count": null,
   "metadata": {
    "colab": {
     "base_uri": "https://localhost:8080/"
    },
    "id": "foAmxlPsupH6",
    "outputId": "682c0731-5fd4-4080-9498-033cff069ce9"
   },
   "outputs": [
    {
     "name": "stdout",
     "output_type": "stream",
     "text": [
      "<class 'pandas.core.frame.DataFrame'>\n",
      "RangeIndex: 2295971 entries, 0 to 2295970\n",
      "Data columns (total 3 columns):\n",
      " #   Column   Dtype \n",
      "---  ------   ----- \n",
      " 0   song_id  object\n",
      " 1   name     object\n",
      " 2   isrc     object\n",
      "dtypes: object(3)\n",
      "memory usage: 52.6+ MB\n"
     ]
    }
   ],
   "source": [
    "songs_info.info()"
   ]
  },
  {
   "cell_type": "code",
   "execution_count": null,
   "metadata": {
    "colab": {
     "base_uri": "https://localhost:8080/"
    },
    "id": "4c-B_8umwFFx",
    "outputId": "9ecfa7b7-2f70-41c3-ccde-6d987f1ed56d"
   },
   "outputs": [
    {
     "data": {
      "text/html": [
       "<div>\n",
       "<style scoped>\n",
       "    .dataframe tbody tr th:only-of-type {\n",
       "        vertical-align: middle;\n",
       "    }\n",
       "\n",
       "    .dataframe tbody tr th {\n",
       "        vertical-align: top;\n",
       "    }\n",
       "\n",
       "    .dataframe thead th {\n",
       "        text-align: right;\n",
       "    }\n",
       "</style>\n",
       "<table border=\"1\" class=\"dataframe\">\n",
       "  <thead>\n",
       "    <tr style=\"text-align: right;\">\n",
       "      <th></th>\n",
       "      <th>column</th>\n",
       "      <th>% nans</th>\n",
       "    </tr>\n",
       "  </thead>\n",
       "  <tbody>\n",
       "    <tr>\n",
       "      <th>0</th>\n",
       "      <td>song_id</td>\n",
       "      <td>0.000000</td>\n",
       "    </tr>\n",
       "    <tr>\n",
       "      <th>1</th>\n",
       "      <td>name</td>\n",
       "      <td>0.000087</td>\n",
       "    </tr>\n",
       "    <tr>\n",
       "      <th>2</th>\n",
       "      <td>isrc</td>\n",
       "      <td>5.947288</td>\n",
       "    </tr>\n",
       "  </tbody>\n",
       "</table>\n",
       "</div>"
      ],
      "text/plain": [
       "    column    % nans\n",
       "0  song_id  0.000000\n",
       "1     name  0.000087\n",
       "2     isrc  5.947288"
      ]
     },
     "execution_count": 19,
     "metadata": {},
     "output_type": "execute_result"
    }
   ],
   "source": [
    "nan_info(songs_info)"
   ]
  },
  {
   "cell_type": "code",
   "execution_count": null,
   "metadata": {
    "id": "VCUIVrmOoIP-"
   },
   "outputs": [],
   "source": [
    "# Достанем из isrc год\n",
    "def isrc_to_year(isrc):\n",
    "    if type(isrc) == str:\n",
    "        if int(isrc[5:7]) > 17:\n",
    "            return 1900 + int(isrc[5:7])\n",
    "        else:\n",
    "            return 2000 + int(isrc[5:7])\n",
    "    else:\n",
    "        return np.nan\n",
    "\n",
    "songs_info['song_year'] = songs_info['isrc'].apply(isrc_to_year)\n",
    "songs_info = songs_info.drop(['isrc'], axis=1)"
   ]
  },
  {
   "cell_type": "code",
   "execution_count": null,
   "metadata": {
    "id": "r6MK6vvLxmGz"
   },
   "outputs": [],
   "source": [
    "# смёржим songs и songs_info, заполним наны\n",
    "songs = songs.merge(songs_info, on=\"song_id\", how='left')\n",
    "songs['name'] = songs['name'].fillna('UNK')\n",
    "songs['song_year'] = songs['song_year'].fillna(songs['song_year'].mode().values[0])\n",
    "songs['song_year'] = songs['song_year'].astype(int)\n",
    "\n",
    "for col in songs.columns:\n",
    "    if songs[col].dtype == object:\n",
    "        songs[col] = songs[col].astype('category')"
   ]
  },
  {
   "cell_type": "markdown",
   "metadata": {
    "id": "JKwx9XK41Kut"
   },
   "source": [
    "Оставим в train и songs только те песни которые есть в обоих датафреймах от этого train уменьшится всего на 114 записей, а мёржить эти датафреймы всё равно будем по song_id"
   ]
  },
  {
   "cell_type": "code",
   "execution_count": null,
   "metadata": {
    "id": "AP1xOlid0DsI"
   },
   "outputs": [],
   "source": [
    "song_ids = np.intersect1d(train['song_id'], songs['song_id'])\n",
    "train = train[train['song_id'].isin(song_ids)]\n",
    "songs = songs[songs['song_id'].isin(song_ids)]"
   ]
  },
  {
   "cell_type": "code",
   "execution_count": null,
   "metadata": {
    "id": "H2hTrIXZzt0R"
   },
   "outputs": [],
   "source": [
    "# добавим фичу счётчик прослушиваний\n",
    "\n",
    "count_song_played_train = {k: v for k, v in train['song_id'].value_counts().iteritems()}\n",
    "\n",
    "def count_played(x):\n",
    "    return count_song_played_train[x]\n",
    "\n",
    "train['song_played'] = train['song_id'].apply(lambda x: count_played(x))"
   ]
  },
  {
   "cell_type": "code",
   "execution_count": null,
   "metadata": {
    "id": "wzkUiYBY3FBH"
   },
   "outputs": [],
   "source": [
    "# смёржим train и songs\n",
    "train = train.merge(songs, on=\"song_id\", how='left')"
   ]
  },
  {
   "cell_type": "code",
   "execution_count": null,
   "metadata": {
    "colab": {
     "base_uri": "https://localhost:8080/"
    },
    "id": "Gk1AUFl7C41d",
    "outputId": "b5464ea9-0efc-4c03-cdcb-e2950d150515"
   },
   "outputs": [
    {
     "data": {
      "text/html": [
       "<div>\n",
       "<style scoped>\n",
       "    .dataframe tbody tr th:only-of-type {\n",
       "        vertical-align: middle;\n",
       "    }\n",
       "\n",
       "    .dataframe tbody tr th {\n",
       "        vertical-align: top;\n",
       "    }\n",
       "\n",
       "    .dataframe thead th {\n",
       "        text-align: right;\n",
       "    }\n",
       "</style>\n",
       "<table border=\"1\" class=\"dataframe\">\n",
       "  <thead>\n",
       "    <tr style=\"text-align: right;\">\n",
       "      <th></th>\n",
       "      <th>msno</th>\n",
       "      <th>song_id</th>\n",
       "      <th>source_system_tab</th>\n",
       "      <th>source_screen_name</th>\n",
       "      <th>source_type</th>\n",
       "      <th>target</th>\n",
       "      <th>song_played</th>\n",
       "      <th>song_length</th>\n",
       "      <th>genre_ids</th>\n",
       "      <th>artist_name</th>\n",
       "      <th>composer</th>\n",
       "      <th>lyricist</th>\n",
       "      <th>language</th>\n",
       "      <th>name</th>\n",
       "      <th>song_year</th>\n",
       "    </tr>\n",
       "  </thead>\n",
       "  <tbody>\n",
       "    <tr>\n",
       "      <th>0</th>\n",
       "      <td>FGtllVqz18RPiwJj/edr2gV78zirAiY/9SmYvia+kCg=</td>\n",
       "      <td>BBzumQNXUHKdEBOB7mAJuzok+IJA1c2Ryg/yzTF6tik=</td>\n",
       "      <td>explore</td>\n",
       "      <td>Explore</td>\n",
       "      <td>online-playlist</td>\n",
       "      <td>1</td>\n",
       "      <td>215</td>\n",
       "      <td>206471</td>\n",
       "      <td>359</td>\n",
       "      <td>Bastille</td>\n",
       "      <td>Dan Smith| Mark Crew</td>\n",
       "      <td>UNK</td>\n",
       "      <td>52</td>\n",
       "      <td>Good Grief</td>\n",
       "      <td>2016</td>\n",
       "    </tr>\n",
       "    <tr>\n",
       "      <th>1</th>\n",
       "      <td>Xumu+NIjS6QYVxDS4/t3SawvJ7viT9hPKXmf0RtLNx8=</td>\n",
       "      <td>bhp/MpSNoqoxOIB+/l8WPqu6jldth4DIpCm3ayXnJqM=</td>\n",
       "      <td>my library</td>\n",
       "      <td>Local playlist more</td>\n",
       "      <td>local-playlist</td>\n",
       "      <td>1</td>\n",
       "      <td>1</td>\n",
       "      <td>284584</td>\n",
       "      <td>1259</td>\n",
       "      <td>Various Artists</td>\n",
       "      <td>UNK</td>\n",
       "      <td>UNK</td>\n",
       "      <td>52</td>\n",
       "      <td>Lords of Cardboard</td>\n",
       "      <td>1999</td>\n",
       "    </tr>\n",
       "    <tr>\n",
       "      <th>2</th>\n",
       "      <td>Xumu+NIjS6QYVxDS4/t3SawvJ7viT9hPKXmf0RtLNx8=</td>\n",
       "      <td>JNWfrrC7zNN7BdMpsISKa4Mw+xVJYNnxXh3/Epw7QgY=</td>\n",
       "      <td>my library</td>\n",
       "      <td>Local playlist more</td>\n",
       "      <td>local-playlist</td>\n",
       "      <td>1</td>\n",
       "      <td>4</td>\n",
       "      <td>225396</td>\n",
       "      <td>1259</td>\n",
       "      <td>Nas</td>\n",
       "      <td>N. Jones、W. Adams、J. Lordan、D. Ingle</td>\n",
       "      <td>UNK</td>\n",
       "      <td>52</td>\n",
       "      <td>Hip Hop Is Dead(Album Version (Edited))</td>\n",
       "      <td>2006</td>\n",
       "    </tr>\n",
       "    <tr>\n",
       "      <th>3</th>\n",
       "      <td>Xumu+NIjS6QYVxDS4/t3SawvJ7viT9hPKXmf0RtLNx8=</td>\n",
       "      <td>2A87tzfnJTSWqD7gIZHisolhe4DMdzkbd6LzO1KHjNs=</td>\n",
       "      <td>my library</td>\n",
       "      <td>Local playlist more</td>\n",
       "      <td>local-playlist</td>\n",
       "      <td>1</td>\n",
       "      <td>1</td>\n",
       "      <td>255512</td>\n",
       "      <td>1019</td>\n",
       "      <td>Soundway</td>\n",
       "      <td>Kwadwo Donkoh</td>\n",
       "      <td>UNK</td>\n",
       "      <td>-1</td>\n",
       "      <td>Disco Africa</td>\n",
       "      <td>2010</td>\n",
       "    </tr>\n",
       "    <tr>\n",
       "      <th>4</th>\n",
       "      <td>FGtllVqz18RPiwJj/edr2gV78zirAiY/9SmYvia+kCg=</td>\n",
       "      <td>3qm6XTZ6MOCU11x8FIVbAGH5l5uMkT3/ZalWG1oo2Gc=</td>\n",
       "      <td>explore</td>\n",
       "      <td>Explore</td>\n",
       "      <td>online-playlist</td>\n",
       "      <td>1</td>\n",
       "      <td>412</td>\n",
       "      <td>187802</td>\n",
       "      <td>1011</td>\n",
       "      <td>Brett Young</td>\n",
       "      <td>Brett Young| Kelly Archer| Justin Ebach</td>\n",
       "      <td>UNK</td>\n",
       "      <td>52</td>\n",
       "      <td>Sleep Without You</td>\n",
       "      <td>2016</td>\n",
       "    </tr>\n",
       "  </tbody>\n",
       "</table>\n",
       "</div>"
      ],
      "text/plain": [
       "                                           msno  ... song_year\n",
       "0  FGtllVqz18RPiwJj/edr2gV78zirAiY/9SmYvia+kCg=  ...      2016\n",
       "1  Xumu+NIjS6QYVxDS4/t3SawvJ7viT9hPKXmf0RtLNx8=  ...      1999\n",
       "2  Xumu+NIjS6QYVxDS4/t3SawvJ7viT9hPKXmf0RtLNx8=  ...      2006\n",
       "3  Xumu+NIjS6QYVxDS4/t3SawvJ7viT9hPKXmf0RtLNx8=  ...      2010\n",
       "4  FGtllVqz18RPiwJj/edr2gV78zirAiY/9SmYvia+kCg=  ...      2016\n",
       "\n",
       "[5 rows x 15 columns]"
      ]
     },
     "execution_count": 25,
     "metadata": {},
     "output_type": "execute_result"
    }
   ],
   "source": [
    "train.head()"
   ]
  },
  {
   "cell_type": "code",
   "execution_count": null,
   "metadata": {
    "colab": {
     "base_uri": "https://localhost:8080/"
    },
    "id": "5ry_xRrdD2Nd",
    "outputId": "62f82c8a-9250-4e56-f89e-d7602eefea6c"
   },
   "outputs": [
    {
     "name": "stdout",
     "output_type": "stream",
     "text": [
      "<class 'pandas.core.frame.DataFrame'>\n",
      "Int64Index: 7377304 entries, 0 to 7377303\n",
      "Data columns (total 15 columns):\n",
      " #   Column              Dtype   \n",
      "---  ------              -----   \n",
      " 0   msno                category\n",
      " 1   song_id             object  \n",
      " 2   source_system_tab   category\n",
      " 3   source_screen_name  category\n",
      " 4   source_type         category\n",
      " 5   target              uint8   \n",
      " 6   song_played         int64   \n",
      " 7   song_length         int64   \n",
      " 8   genre_ids           category\n",
      " 9   artist_name         category\n",
      " 10  composer            category\n",
      " 11  lyricist            category\n",
      " 12  language            int64   \n",
      " 13  name                category\n",
      " 14  song_year           int64   \n",
      "dtypes: category(9), int64(4), object(1), uint8(1)\n",
      "memory usage: 587.1+ MB\n"
     ]
    }
   ],
   "source": [
    "train.info()"
   ]
  },
  {
   "cell_type": "code",
   "execution_count": null,
   "metadata": {
    "id": "ZOqpgL7NC7MZ"
   },
   "outputs": [],
   "source": [
    "# у песен genre_ids, artist_name, composer, lyricist может быть несколько значений.\n",
    "# Сделаем счётчики значений дополнительной фичёй\n",
    "\n",
    "def get_cnt(col):\n",
    "    cnt = len(col.split('|'))\n",
    "    return cnt\n",
    "\n",
    "train['genre_cnt'] = train.genre_ids.apply(get_cnt)\n",
    "train['artist_cnt'] = train.artist_name.apply(get_cnt)\n",
    "train['composer_cnt'] = train.composer.apply(get_cnt)\n",
    "train['lyricist_cnt'] = train.lyricist.apply(get_cnt)"
   ]
  },
  {
   "cell_type": "markdown",
   "metadata": {
    "id": "CTcb0xua61GN"
   },
   "source": [
    "### members"
   ]
  },
  {
   "cell_type": "code",
   "execution_count": null,
   "metadata": {
    "colab": {
     "base_uri": "https://localhost:8080/"
    },
    "id": "tf3AdDaM0duJ",
    "outputId": "d48e8f19-9350-42e2-a40e-027783b7c405"
   },
   "outputs": [
    {
     "data": {
      "text/html": [
       "<div>\n",
       "<style scoped>\n",
       "    .dataframe tbody tr th:only-of-type {\n",
       "        vertical-align: middle;\n",
       "    }\n",
       "\n",
       "    .dataframe tbody tr th {\n",
       "        vertical-align: top;\n",
       "    }\n",
       "\n",
       "    .dataframe thead th {\n",
       "        text-align: right;\n",
       "    }\n",
       "</style>\n",
       "<table border=\"1\" class=\"dataframe\">\n",
       "  <thead>\n",
       "    <tr style=\"text-align: right;\">\n",
       "      <th></th>\n",
       "      <th>msno</th>\n",
       "      <th>city</th>\n",
       "      <th>bd</th>\n",
       "      <th>gender</th>\n",
       "      <th>registered_via</th>\n",
       "      <th>registration_init_time</th>\n",
       "      <th>expiration_date</th>\n",
       "    </tr>\n",
       "  </thead>\n",
       "  <tbody>\n",
       "    <tr>\n",
       "      <th>0</th>\n",
       "      <td>XQxgAYj3klVKjR3oxPPXYYFp4soD4TuBghkhMTD4oTw=</td>\n",
       "      <td>1</td>\n",
       "      <td>0</td>\n",
       "      <td>NaN</td>\n",
       "      <td>7</td>\n",
       "      <td>20110820</td>\n",
       "      <td>20170920</td>\n",
       "    </tr>\n",
       "    <tr>\n",
       "      <th>1</th>\n",
       "      <td>UizsfmJb9mV54qE9hCYyU07Va97c0lCRLEQX3ae+ztM=</td>\n",
       "      <td>1</td>\n",
       "      <td>0</td>\n",
       "      <td>NaN</td>\n",
       "      <td>7</td>\n",
       "      <td>20150628</td>\n",
       "      <td>20170622</td>\n",
       "    </tr>\n",
       "    <tr>\n",
       "      <th>2</th>\n",
       "      <td>D8nEhsIOBSoE6VthTaqDX8U6lqjJ7dLdr72mOyLya2A=</td>\n",
       "      <td>1</td>\n",
       "      <td>0</td>\n",
       "      <td>NaN</td>\n",
       "      <td>4</td>\n",
       "      <td>20160411</td>\n",
       "      <td>20170712</td>\n",
       "    </tr>\n",
       "    <tr>\n",
       "      <th>3</th>\n",
       "      <td>mCuD+tZ1hERA/o5GPqk38e041J8ZsBaLcu7nGoIIvhI=</td>\n",
       "      <td>1</td>\n",
       "      <td>0</td>\n",
       "      <td>NaN</td>\n",
       "      <td>9</td>\n",
       "      <td>20150906</td>\n",
       "      <td>20150907</td>\n",
       "    </tr>\n",
       "    <tr>\n",
       "      <th>4</th>\n",
       "      <td>q4HRBfVSssAFS9iRfxWrohxuk9kCYMKjHOEagUMV6rQ=</td>\n",
       "      <td>1</td>\n",
       "      <td>0</td>\n",
       "      <td>NaN</td>\n",
       "      <td>4</td>\n",
       "      <td>20170126</td>\n",
       "      <td>20170613</td>\n",
       "    </tr>\n",
       "  </tbody>\n",
       "</table>\n",
       "</div>"
      ],
      "text/plain": [
       "                                           msno  ...  expiration_date\n",
       "0  XQxgAYj3klVKjR3oxPPXYYFp4soD4TuBghkhMTD4oTw=  ...         20170920\n",
       "1  UizsfmJb9mV54qE9hCYyU07Va97c0lCRLEQX3ae+ztM=  ...         20170622\n",
       "2  D8nEhsIOBSoE6VthTaqDX8U6lqjJ7dLdr72mOyLya2A=  ...         20170712\n",
       "3  mCuD+tZ1hERA/o5GPqk38e041J8ZsBaLcu7nGoIIvhI=  ...         20150907\n",
       "4  q4HRBfVSssAFS9iRfxWrohxuk9kCYMKjHOEagUMV6rQ=  ...         20170613\n",
       "\n",
       "[5 rows x 7 columns]"
      ]
     },
     "execution_count": 28,
     "metadata": {},
     "output_type": "execute_result"
    }
   ],
   "source": [
    "members.head()"
   ]
  },
  {
   "cell_type": "code",
   "execution_count": null,
   "metadata": {
    "colab": {
     "base_uri": "https://localhost:8080/"
    },
    "id": "6XECqxw70fs1",
    "outputId": "80acfb2b-99ea-4fff-b138-b982c116fdbc"
   },
   "outputs": [
    {
     "name": "stdout",
     "output_type": "stream",
     "text": [
      "<class 'pandas.core.frame.DataFrame'>\n",
      "RangeIndex: 34403 entries, 0 to 34402\n",
      "Data columns (total 7 columns):\n",
      " #   Column                  Non-Null Count  Dtype \n",
      "---  ------                  --------------  ----- \n",
      " 0   msno                    34403 non-null  object\n",
      " 1   city                    34403 non-null  int64 \n",
      " 2   bd                      34403 non-null  int64 \n",
      " 3   gender                  14501 non-null  object\n",
      " 4   registered_via          34403 non-null  int64 \n",
      " 5   registration_init_time  34403 non-null  int64 \n",
      " 6   expiration_date         34403 non-null  int64 \n",
      "dtypes: int64(5), object(2)\n",
      "memory usage: 1.8+ MB\n"
     ]
    }
   ],
   "source": [
    "members.info()"
   ]
  },
  {
   "cell_type": "code",
   "execution_count": null,
   "metadata": {
    "colab": {
     "base_uri": "https://localhost:8080/"
    },
    "id": "PUTTqG1-3ln0",
    "outputId": "f458b967-a952-4522-b59f-bef4b4e0c0f7"
   },
   "outputs": [
    {
     "data": {
      "text/html": [
       "<div>\n",
       "<style scoped>\n",
       "    .dataframe tbody tr th:only-of-type {\n",
       "        vertical-align: middle;\n",
       "    }\n",
       "\n",
       "    .dataframe tbody tr th {\n",
       "        vertical-align: top;\n",
       "    }\n",
       "\n",
       "    .dataframe thead th {\n",
       "        text-align: right;\n",
       "    }\n",
       "</style>\n",
       "<table border=\"1\" class=\"dataframe\">\n",
       "  <thead>\n",
       "    <tr style=\"text-align: right;\">\n",
       "      <th></th>\n",
       "      <th>column</th>\n",
       "      <th>% nans</th>\n",
       "    </tr>\n",
       "  </thead>\n",
       "  <tbody>\n",
       "    <tr>\n",
       "      <th>0</th>\n",
       "      <td>msno</td>\n",
       "      <td>0.000000</td>\n",
       "    </tr>\n",
       "    <tr>\n",
       "      <th>1</th>\n",
       "      <td>city</td>\n",
       "      <td>0.000000</td>\n",
       "    </tr>\n",
       "    <tr>\n",
       "      <th>2</th>\n",
       "      <td>bd</td>\n",
       "      <td>0.000000</td>\n",
       "    </tr>\n",
       "    <tr>\n",
       "      <th>3</th>\n",
       "      <td>gender</td>\n",
       "      <td>57.849606</td>\n",
       "    </tr>\n",
       "    <tr>\n",
       "      <th>4</th>\n",
       "      <td>registered_via</td>\n",
       "      <td>0.000000</td>\n",
       "    </tr>\n",
       "    <tr>\n",
       "      <th>5</th>\n",
       "      <td>registration_init_time</td>\n",
       "      <td>0.000000</td>\n",
       "    </tr>\n",
       "    <tr>\n",
       "      <th>6</th>\n",
       "      <td>expiration_date</td>\n",
       "      <td>0.000000</td>\n",
       "    </tr>\n",
       "  </tbody>\n",
       "</table>\n",
       "</div>"
      ],
      "text/plain": [
       "                   column     % nans\n",
       "0                    msno   0.000000\n",
       "1                    city   0.000000\n",
       "2                      bd   0.000000\n",
       "3                  gender  57.849606\n",
       "4          registered_via   0.000000\n",
       "5  registration_init_time   0.000000\n",
       "6         expiration_date   0.000000"
      ]
     },
     "execution_count": 30,
     "metadata": {},
     "output_type": "execute_result"
    }
   ],
   "source": [
    "nan_info(members)"
   ]
  },
  {
   "cell_type": "code",
   "execution_count": null,
   "metadata": {
    "id": "dQyNlXAJ3x7X"
   },
   "outputs": [],
   "source": [
    "# примерно у половины пользователей не известен пол, введём доп. значение UNK\n",
    "members['gender'] = members['gender'].fillna('UNK')\n",
    "\n",
    "# достанем год регистрации\n",
    "members['registration_year'] = members['registration_init_time'].apply(lambda x: int(str(x)[0: 4]))\n",
    "\n",
    "# достанем год окончания подписки\n",
    "members['expiration_year'] = members['expiration_date'].apply(lambda x: int(str(x)[0: 4]))\n",
    "\n",
    "# длительность подписки\n",
    "expiration = members.expiration_year * 12 + members['expiration_date'].apply(lambda x: int(str(x)[4: 6]))\n",
    "registration = members.registration_year * 12 + members['registration_init_time'].apply(lambda x: int(str(x)[4: 6]))\n",
    "members['membership_month'] = expiration - registration\n",
    "\n",
    "for col in members.columns:\n",
    "    if members[col].dtype == object:\n",
    "        members[col] = members[col].astype('category')"
   ]
  },
  {
   "cell_type": "code",
   "execution_count": null,
   "metadata": {
    "colab": {
     "base_uri": "https://localhost:8080/"
    },
    "id": "g7M1kVLY2D9d",
    "outputId": "a21faf34-187e-4c37-9198-77e9e304b38d"
   },
   "outputs": [
    {
     "data": {
      "text/html": [
       "<div>\n",
       "<style scoped>\n",
       "    .dataframe tbody tr th:only-of-type {\n",
       "        vertical-align: middle;\n",
       "    }\n",
       "\n",
       "    .dataframe tbody tr th {\n",
       "        vertical-align: top;\n",
       "    }\n",
       "\n",
       "    .dataframe thead th {\n",
       "        text-align: right;\n",
       "    }\n",
       "</style>\n",
       "<table border=\"1\" class=\"dataframe\">\n",
       "  <thead>\n",
       "    <tr style=\"text-align: right;\">\n",
       "      <th></th>\n",
       "      <th>msno</th>\n",
       "      <th>city</th>\n",
       "      <th>bd</th>\n",
       "      <th>gender</th>\n",
       "      <th>registered_via</th>\n",
       "      <th>registration_init_time</th>\n",
       "      <th>expiration_date</th>\n",
       "      <th>registration_year</th>\n",
       "      <th>expiration_year</th>\n",
       "      <th>membership_month</th>\n",
       "    </tr>\n",
       "  </thead>\n",
       "  <tbody>\n",
       "    <tr>\n",
       "      <th>0</th>\n",
       "      <td>XQxgAYj3klVKjR3oxPPXYYFp4soD4TuBghkhMTD4oTw=</td>\n",
       "      <td>1</td>\n",
       "      <td>0</td>\n",
       "      <td>UNK</td>\n",
       "      <td>7</td>\n",
       "      <td>20110820</td>\n",
       "      <td>20170920</td>\n",
       "      <td>2011</td>\n",
       "      <td>2017</td>\n",
       "      <td>73</td>\n",
       "    </tr>\n",
       "    <tr>\n",
       "      <th>1</th>\n",
       "      <td>UizsfmJb9mV54qE9hCYyU07Va97c0lCRLEQX3ae+ztM=</td>\n",
       "      <td>1</td>\n",
       "      <td>0</td>\n",
       "      <td>UNK</td>\n",
       "      <td>7</td>\n",
       "      <td>20150628</td>\n",
       "      <td>20170622</td>\n",
       "      <td>2015</td>\n",
       "      <td>2017</td>\n",
       "      <td>24</td>\n",
       "    </tr>\n",
       "    <tr>\n",
       "      <th>2</th>\n",
       "      <td>D8nEhsIOBSoE6VthTaqDX8U6lqjJ7dLdr72mOyLya2A=</td>\n",
       "      <td>1</td>\n",
       "      <td>0</td>\n",
       "      <td>UNK</td>\n",
       "      <td>4</td>\n",
       "      <td>20160411</td>\n",
       "      <td>20170712</td>\n",
       "      <td>2016</td>\n",
       "      <td>2017</td>\n",
       "      <td>15</td>\n",
       "    </tr>\n",
       "    <tr>\n",
       "      <th>3</th>\n",
       "      <td>mCuD+tZ1hERA/o5GPqk38e041J8ZsBaLcu7nGoIIvhI=</td>\n",
       "      <td>1</td>\n",
       "      <td>0</td>\n",
       "      <td>UNK</td>\n",
       "      <td>9</td>\n",
       "      <td>20150906</td>\n",
       "      <td>20150907</td>\n",
       "      <td>2015</td>\n",
       "      <td>2015</td>\n",
       "      <td>0</td>\n",
       "    </tr>\n",
       "    <tr>\n",
       "      <th>4</th>\n",
       "      <td>q4HRBfVSssAFS9iRfxWrohxuk9kCYMKjHOEagUMV6rQ=</td>\n",
       "      <td>1</td>\n",
       "      <td>0</td>\n",
       "      <td>UNK</td>\n",
       "      <td>4</td>\n",
       "      <td>20170126</td>\n",
       "      <td>20170613</td>\n",
       "      <td>2017</td>\n",
       "      <td>2017</td>\n",
       "      <td>5</td>\n",
       "    </tr>\n",
       "  </tbody>\n",
       "</table>\n",
       "</div>"
      ],
      "text/plain": [
       "                                           msno  ...  membership_month\n",
       "0  XQxgAYj3klVKjR3oxPPXYYFp4soD4TuBghkhMTD4oTw=  ...                73\n",
       "1  UizsfmJb9mV54qE9hCYyU07Va97c0lCRLEQX3ae+ztM=  ...                24\n",
       "2  D8nEhsIOBSoE6VthTaqDX8U6lqjJ7dLdr72mOyLya2A=  ...                15\n",
       "3  mCuD+tZ1hERA/o5GPqk38e041J8ZsBaLcu7nGoIIvhI=  ...                 0\n",
       "4  q4HRBfVSssAFS9iRfxWrohxuk9kCYMKjHOEagUMV6rQ=  ...                 5\n",
       "\n",
       "[5 rows x 10 columns]"
      ]
     },
     "execution_count": 32,
     "metadata": {},
     "output_type": "execute_result"
    }
   ],
   "source": [
    "members.head()"
   ]
  },
  {
   "cell_type": "code",
   "execution_count": null,
   "metadata": {
    "id": "xjnHayQgnai-"
   },
   "outputs": [],
   "source": [
    "# фича: активность пользователя\n",
    "\n",
    "user_activity = {k:v for k,v in train['msno'].value_counts().iteritems()}\n",
    "def count_user_activity(x):\n",
    "    return user_activity[x]\n",
    "\n",
    "train['user_activity'] = train['msno'].apply(lambda x: count_user_activity(x))"
   ]
  },
  {
   "cell_type": "code",
   "execution_count": null,
   "metadata": {
    "id": "86-eA76Q6NI9"
   },
   "outputs": [],
   "source": [
    "# смёржим train и songs\n",
    "train = train.merge(members, on=\"msno\", how='left')"
   ]
  },
  {
   "cell_type": "code",
   "execution_count": null,
   "metadata": {
    "id": "WgYYCaNi7TnZ"
   },
   "outputs": [],
   "source": [
    "# train = train.drop(['msno', 'song_id'], axis=1)\n",
    "train = train.drop(['registration_init_time', 'expiration_date'], axis=1)"
   ]
  },
  {
   "cell_type": "code",
   "execution_count": null,
   "metadata": {
    "colab": {
     "base_uri": "https://localhost:8080/"
    },
    "id": "pV5Z-Ms67Zps",
    "outputId": "1a3a042c-ddae-4f8b-9ea6-9312081eecad"
   },
   "outputs": [
    {
     "data": {
      "text/html": [
       "<div>\n",
       "<style scoped>\n",
       "    .dataframe tbody tr th:only-of-type {\n",
       "        vertical-align: middle;\n",
       "    }\n",
       "\n",
       "    .dataframe tbody tr th {\n",
       "        vertical-align: top;\n",
       "    }\n",
       "\n",
       "    .dataframe thead th {\n",
       "        text-align: right;\n",
       "    }\n",
       "</style>\n",
       "<table border=\"1\" class=\"dataframe\">\n",
       "  <thead>\n",
       "    <tr style=\"text-align: right;\">\n",
       "      <th></th>\n",
       "      <th>msno</th>\n",
       "      <th>song_id</th>\n",
       "      <th>source_system_tab</th>\n",
       "      <th>source_screen_name</th>\n",
       "      <th>source_type</th>\n",
       "      <th>target</th>\n",
       "      <th>song_played</th>\n",
       "      <th>song_length</th>\n",
       "      <th>genre_ids</th>\n",
       "      <th>artist_name</th>\n",
       "      <th>composer</th>\n",
       "      <th>lyricist</th>\n",
       "      <th>language</th>\n",
       "      <th>name</th>\n",
       "      <th>song_year</th>\n",
       "      <th>genre_cnt</th>\n",
       "      <th>artist_cnt</th>\n",
       "      <th>composer_cnt</th>\n",
       "      <th>lyricist_cnt</th>\n",
       "      <th>user_activity</th>\n",
       "      <th>city</th>\n",
       "      <th>bd</th>\n",
       "      <th>gender</th>\n",
       "      <th>registered_via</th>\n",
       "      <th>registration_year</th>\n",
       "      <th>expiration_year</th>\n",
       "      <th>membership_month</th>\n",
       "    </tr>\n",
       "  </thead>\n",
       "  <tbody>\n",
       "    <tr>\n",
       "      <th>0</th>\n",
       "      <td>FGtllVqz18RPiwJj/edr2gV78zirAiY/9SmYvia+kCg=</td>\n",
       "      <td>BBzumQNXUHKdEBOB7mAJuzok+IJA1c2Ryg/yzTF6tik=</td>\n",
       "      <td>explore</td>\n",
       "      <td>Explore</td>\n",
       "      <td>online-playlist</td>\n",
       "      <td>1</td>\n",
       "      <td>215</td>\n",
       "      <td>206471</td>\n",
       "      <td>359</td>\n",
       "      <td>Bastille</td>\n",
       "      <td>Dan Smith| Mark Crew</td>\n",
       "      <td>UNK</td>\n",
       "      <td>52</td>\n",
       "      <td>Good Grief</td>\n",
       "      <td>2016</td>\n",
       "      <td>1</td>\n",
       "      <td>1</td>\n",
       "      <td>2</td>\n",
       "      <td>1</td>\n",
       "      <td>5511</td>\n",
       "      <td>1</td>\n",
       "      <td>0</td>\n",
       "      <td>UNK</td>\n",
       "      <td>7</td>\n",
       "      <td>2012</td>\n",
       "      <td>2017</td>\n",
       "      <td>69</td>\n",
       "    </tr>\n",
       "    <tr>\n",
       "      <th>1</th>\n",
       "      <td>Xumu+NIjS6QYVxDS4/t3SawvJ7viT9hPKXmf0RtLNx8=</td>\n",
       "      <td>bhp/MpSNoqoxOIB+/l8WPqu6jldth4DIpCm3ayXnJqM=</td>\n",
       "      <td>my library</td>\n",
       "      <td>Local playlist more</td>\n",
       "      <td>local-playlist</td>\n",
       "      <td>1</td>\n",
       "      <td>1</td>\n",
       "      <td>284584</td>\n",
       "      <td>1259</td>\n",
       "      <td>Various Artists</td>\n",
       "      <td>UNK</td>\n",
       "      <td>UNK</td>\n",
       "      <td>52</td>\n",
       "      <td>Lords of Cardboard</td>\n",
       "      <td>1999</td>\n",
       "      <td>1</td>\n",
       "      <td>1</td>\n",
       "      <td>1</td>\n",
       "      <td>1</td>\n",
       "      <td>622</td>\n",
       "      <td>13</td>\n",
       "      <td>24</td>\n",
       "      <td>female</td>\n",
       "      <td>9</td>\n",
       "      <td>2011</td>\n",
       "      <td>2017</td>\n",
       "      <td>76</td>\n",
       "    </tr>\n",
       "    <tr>\n",
       "      <th>2</th>\n",
       "      <td>Xumu+NIjS6QYVxDS4/t3SawvJ7viT9hPKXmf0RtLNx8=</td>\n",
       "      <td>JNWfrrC7zNN7BdMpsISKa4Mw+xVJYNnxXh3/Epw7QgY=</td>\n",
       "      <td>my library</td>\n",
       "      <td>Local playlist more</td>\n",
       "      <td>local-playlist</td>\n",
       "      <td>1</td>\n",
       "      <td>4</td>\n",
       "      <td>225396</td>\n",
       "      <td>1259</td>\n",
       "      <td>Nas</td>\n",
       "      <td>N. Jones、W. Adams、J. Lordan、D. Ingle</td>\n",
       "      <td>UNK</td>\n",
       "      <td>52</td>\n",
       "      <td>Hip Hop Is Dead(Album Version (Edited))</td>\n",
       "      <td>2006</td>\n",
       "      <td>1</td>\n",
       "      <td>1</td>\n",
       "      <td>1</td>\n",
       "      <td>1</td>\n",
       "      <td>622</td>\n",
       "      <td>13</td>\n",
       "      <td>24</td>\n",
       "      <td>female</td>\n",
       "      <td>9</td>\n",
       "      <td>2011</td>\n",
       "      <td>2017</td>\n",
       "      <td>76</td>\n",
       "    </tr>\n",
       "    <tr>\n",
       "      <th>3</th>\n",
       "      <td>Xumu+NIjS6QYVxDS4/t3SawvJ7viT9hPKXmf0RtLNx8=</td>\n",
       "      <td>2A87tzfnJTSWqD7gIZHisolhe4DMdzkbd6LzO1KHjNs=</td>\n",
       "      <td>my library</td>\n",
       "      <td>Local playlist more</td>\n",
       "      <td>local-playlist</td>\n",
       "      <td>1</td>\n",
       "      <td>1</td>\n",
       "      <td>255512</td>\n",
       "      <td>1019</td>\n",
       "      <td>Soundway</td>\n",
       "      <td>Kwadwo Donkoh</td>\n",
       "      <td>UNK</td>\n",
       "      <td>-1</td>\n",
       "      <td>Disco Africa</td>\n",
       "      <td>2010</td>\n",
       "      <td>1</td>\n",
       "      <td>1</td>\n",
       "      <td>1</td>\n",
       "      <td>1</td>\n",
       "      <td>622</td>\n",
       "      <td>13</td>\n",
       "      <td>24</td>\n",
       "      <td>female</td>\n",
       "      <td>9</td>\n",
       "      <td>2011</td>\n",
       "      <td>2017</td>\n",
       "      <td>76</td>\n",
       "    </tr>\n",
       "    <tr>\n",
       "      <th>4</th>\n",
       "      <td>FGtllVqz18RPiwJj/edr2gV78zirAiY/9SmYvia+kCg=</td>\n",
       "      <td>3qm6XTZ6MOCU11x8FIVbAGH5l5uMkT3/ZalWG1oo2Gc=</td>\n",
       "      <td>explore</td>\n",
       "      <td>Explore</td>\n",
       "      <td>online-playlist</td>\n",
       "      <td>1</td>\n",
       "      <td>412</td>\n",
       "      <td>187802</td>\n",
       "      <td>1011</td>\n",
       "      <td>Brett Young</td>\n",
       "      <td>Brett Young| Kelly Archer| Justin Ebach</td>\n",
       "      <td>UNK</td>\n",
       "      <td>52</td>\n",
       "      <td>Sleep Without You</td>\n",
       "      <td>2016</td>\n",
       "      <td>1</td>\n",
       "      <td>1</td>\n",
       "      <td>3</td>\n",
       "      <td>1</td>\n",
       "      <td>5511</td>\n",
       "      <td>1</td>\n",
       "      <td>0</td>\n",
       "      <td>UNK</td>\n",
       "      <td>7</td>\n",
       "      <td>2012</td>\n",
       "      <td>2017</td>\n",
       "      <td>69</td>\n",
       "    </tr>\n",
       "  </tbody>\n",
       "</table>\n",
       "</div>"
      ],
      "text/plain": [
       "                                           msno  ... membership_month\n",
       "0  FGtllVqz18RPiwJj/edr2gV78zirAiY/9SmYvia+kCg=  ...               69\n",
       "1  Xumu+NIjS6QYVxDS4/t3SawvJ7viT9hPKXmf0RtLNx8=  ...               76\n",
       "2  Xumu+NIjS6QYVxDS4/t3SawvJ7viT9hPKXmf0RtLNx8=  ...               76\n",
       "3  Xumu+NIjS6QYVxDS4/t3SawvJ7viT9hPKXmf0RtLNx8=  ...               76\n",
       "4  FGtllVqz18RPiwJj/edr2gV78zirAiY/9SmYvia+kCg=  ...               69\n",
       "\n",
       "[5 rows x 27 columns]"
      ]
     },
     "execution_count": 36,
     "metadata": {},
     "output_type": "execute_result"
    }
   ],
   "source": [
    "train.head()"
   ]
  },
  {
   "cell_type": "code",
   "execution_count": null,
   "metadata": {
    "id": "4FZiOjNyHHfB"
   },
   "outputs": [],
   "source": [
    "# Note: bd column has outlier values.\n",
    "\n",
    "# есть отрицательные значения\n",
    "# есть слишком большие и маленькие значения\n",
    "\n",
    "mask1 = train.bd < 0\n",
    "train.bd[mask1] = -train.bd[mask1]\n",
    "\n",
    "mask2 = (train.bd > 5) & (train.bd < 95)\n",
    "age_mode = train.bd[mask2].mode()\n",
    "train.bd[~mask2] = age_mode\n",
    "\n",
    "train['bd'] = train['bd'].fillna(train['bd'].mode().values[0])\n",
    "train['bd'] = train['bd'].astype(int)"
   ]
  },
  {
   "cell_type": "markdown",
   "metadata": {
    "id": "3bsNMyBv8PnG"
   },
   "source": [
    "## Задача 1: GBDT"
   ]
  },
  {
   "cell_type": "code",
   "execution_count": null,
   "metadata": {
    "id": "XHM1O_y8sLOb"
   },
   "outputs": [],
   "source": [
    "X = train.copy()\n",
    "X = X.drop(['song_id', 'msno', 'target', 'genre_ids', 'artist_name', 'composer', 'lyricist', 'name'], axis=1)\n",
    "y = train.target"
   ]
  },
  {
   "cell_type": "code",
   "execution_count": null,
   "metadata": {
    "colab": {
     "base_uri": "https://localhost:8080/"
    },
    "id": "M4hbnnx3xGw4",
    "outputId": "83f8d1b9-433c-402c-b6cb-390d9eb2347d"
   },
   "outputs": [
    {
     "name": "stdout",
     "output_type": "stream",
     "text": [
      "<class 'pandas.core.frame.DataFrame'>\n",
      "Int64Index: 7377304 entries, 0 to 7377303\n",
      "Data columns (total 19 columns):\n",
      " #   Column              Dtype   \n",
      "---  ------              -----   \n",
      " 0   source_system_tab   category\n",
      " 1   source_screen_name  category\n",
      " 2   source_type         category\n",
      " 3   song_played         int64   \n",
      " 4   song_length         int64   \n",
      " 5   language            int64   \n",
      " 6   song_year           int64   \n",
      " 7   genre_cnt           int64   \n",
      " 8   artist_cnt          int64   \n",
      " 9   composer_cnt        int64   \n",
      " 10  lyricist_cnt        int64   \n",
      " 11  user_activity       int64   \n",
      " 12  city                int64   \n",
      " 13  bd                  int64   \n",
      " 14  gender              category\n",
      " 15  registered_via      int64   \n",
      " 16  registration_year   int64   \n",
      " 17  expiration_year     int64   \n",
      " 18  membership_month    int64   \n",
      "dtypes: category(4), int64(15)\n",
      "memory usage: 1.2 GB\n"
     ]
    }
   ],
   "source": [
    "X.info()"
   ]
  },
  {
   "cell_type": "markdown",
   "metadata": {
    "id": "_2sEmvjRxdH3"
   },
   "source": [
    "Категориальные фичи: `gender`, `city`, `language`, `source_type`, `source_screen_name`, `source_system_tab`"
   ]
  },
  {
   "cell_type": "code",
   "execution_count": null,
   "metadata": {
    "colab": {
     "base_uri": "https://localhost:8080/"
    },
    "id": "gnwDf_Cd1bsW",
    "outputId": "4dbb8e3a-c2a2-4adf-c9ce-6fb71a72a83f"
   },
   "outputs": [
    {
     "name": "stdout",
     "output_type": "stream",
     "text": [
      "0:\tlearn: 0.6922862\ttest: 0.6922883\tbest: 0.6922883 (0)\ttotal: 5.31s\tremaining: 4m 20s\n",
      "1:\tlearn: 0.6914552\ttest: 0.6914610\tbest: 0.6914610 (1)\ttotal: 9.83s\tremaining: 3m 56s\n",
      "2:\tlearn: 0.6906264\ttest: 0.6906345\tbest: 0.6906345 (2)\ttotal: 14.7s\tremaining: 3m 49s\n",
      "3:\tlearn: 0.6898242\ttest: 0.6898341\tbest: 0.6898341 (3)\ttotal: 18.8s\tremaining: 3m 36s\n",
      "4:\tlearn: 0.6890383\ttest: 0.6890499\tbest: 0.6890499 (4)\ttotal: 23s\tremaining: 3m 27s\n",
      "5:\tlearn: 0.6882609\ttest: 0.6882738\tbest: 0.6882738 (5)\ttotal: 27.7s\tremaining: 3m 23s\n",
      "6:\tlearn: 0.6874957\ttest: 0.6875107\tbest: 0.6875107 (6)\ttotal: 31.6s\tremaining: 3m 14s\n",
      "7:\tlearn: 0.6867538\ttest: 0.6867714\tbest: 0.6867714 (7)\ttotal: 35.6s\tremaining: 3m 7s\n",
      "8:\tlearn: 0.6860332\ttest: 0.6860527\tbest: 0.6860527 (8)\ttotal: 39.7s\tremaining: 3m\n",
      "9:\tlearn: 0.6853199\ttest: 0.6853409\tbest: 0.6853409 (9)\ttotal: 43.6s\tremaining: 2m 54s\n",
      "10:\tlearn: 0.6846148\ttest: 0.6846378\tbest: 0.6846378 (10)\ttotal: 47.7s\tremaining: 2m 49s\n",
      "11:\tlearn: 0.6839287\ttest: 0.6839530\tbest: 0.6839530 (11)\ttotal: 52.3s\tremaining: 2m 45s\n",
      "12:\tlearn: 0.6832566\ttest: 0.6832833\tbest: 0.6832833 (12)\ttotal: 56.3s\tremaining: 2m 40s\n",
      "13:\tlearn: 0.6825923\ttest: 0.6826210\tbest: 0.6826210 (13)\ttotal: 1m\tremaining: 2m 36s\n",
      "14:\tlearn: 0.6819476\ttest: 0.6819787\tbest: 0.6819787 (14)\ttotal: 1m 5s\tremaining: 2m 32s\n",
      "15:\tlearn: 0.6813200\ttest: 0.6813542\tbest: 0.6813542 (15)\ttotal: 1m 9s\tremaining: 2m 27s\n",
      "16:\tlearn: 0.6806902\ttest: 0.6807264\tbest: 0.6807264 (16)\ttotal: 1m 13s\tremaining: 2m 22s\n",
      "17:\tlearn: 0.6800834\ttest: 0.6801218\tbest: 0.6801218 (17)\ttotal: 1m 17s\tremaining: 2m 17s\n",
      "18:\tlearn: 0.6794916\ttest: 0.6795329\tbest: 0.6795329 (18)\ttotal: 1m 21s\tremaining: 2m 12s\n",
      "19:\tlearn: 0.6789055\ttest: 0.6789494\tbest: 0.6789494 (19)\ttotal: 1m 25s\tremaining: 2m 8s\n",
      "20:\tlearn: 0.6783268\ttest: 0.6783726\tbest: 0.6783726 (20)\ttotal: 1m 30s\tremaining: 2m 4s\n",
      "21:\tlearn: 0.6777688\ttest: 0.6778163\tbest: 0.6778163 (21)\ttotal: 1m 33s\tremaining: 1m 59s\n",
      "22:\tlearn: 0.6772192\ttest: 0.6772697\tbest: 0.6772697 (22)\ttotal: 1m 37s\tremaining: 1m 55s\n",
      "23:\tlearn: 0.6766741\ttest: 0.6767274\tbest: 0.6767274 (23)\ttotal: 1m 41s\tremaining: 1m 50s\n",
      "24:\tlearn: 0.6761382\ttest: 0.6761927\tbest: 0.6761927 (24)\ttotal: 1m 46s\tremaining: 1m 46s\n",
      "25:\tlearn: 0.6756194\ttest: 0.6756768\tbest: 0.6756768 (25)\ttotal: 1m 50s\tremaining: 1m 42s\n",
      "26:\tlearn: 0.6751116\ttest: 0.6751702\tbest: 0.6751702 (26)\ttotal: 1m 54s\tremaining: 1m 37s\n",
      "27:\tlearn: 0.6746123\ttest: 0.6746731\tbest: 0.6746731 (27)\ttotal: 1m 59s\tremaining: 1m 33s\n",
      "28:\tlearn: 0.6741150\ttest: 0.6741773\tbest: 0.6741773 (28)\ttotal: 2m 3s\tremaining: 1m 29s\n",
      "29:\tlearn: 0.6736248\ttest: 0.6736886\tbest: 0.6736886 (29)\ttotal: 2m 7s\tremaining: 1m 25s\n",
      "30:\tlearn: 0.6731465\ttest: 0.6732120\tbest: 0.6732120 (30)\ttotal: 2m 11s\tremaining: 1m 20s\n",
      "31:\tlearn: 0.6726864\ttest: 0.6727544\tbest: 0.6727544 (31)\ttotal: 2m 15s\tremaining: 1m 16s\n",
      "32:\tlearn: 0.6722296\ttest: 0.6723001\tbest: 0.6723001 (32)\ttotal: 2m 19s\tremaining: 1m 12s\n",
      "33:\tlearn: 0.6717753\ttest: 0.6718474\tbest: 0.6718474 (33)\ttotal: 2m 23s\tremaining: 1m 7s\n",
      "34:\tlearn: 0.6713334\ttest: 0.6714073\tbest: 0.6714073 (34)\ttotal: 2m 28s\tremaining: 1m 3s\n",
      "35:\tlearn: 0.6709075\ttest: 0.6709839\tbest: 0.6709839 (35)\ttotal: 2m 32s\tremaining: 59.2s\n",
      "36:\tlearn: 0.6704922\ttest: 0.6705708\tbest: 0.6705708 (36)\ttotal: 2m 36s\tremaining: 54.9s\n",
      "37:\tlearn: 0.6700773\ttest: 0.6701583\tbest: 0.6701583 (37)\ttotal: 2m 40s\tremaining: 50.7s\n",
      "38:\tlearn: 0.6696705\ttest: 0.6697537\tbest: 0.6697537 (38)\ttotal: 2m 44s\tremaining: 46.5s\n",
      "39:\tlearn: 0.6692664\ttest: 0.6693511\tbest: 0.6693511 (39)\ttotal: 2m 48s\tremaining: 42.2s\n",
      "40:\tlearn: 0.6688750\ttest: 0.6689617\tbest: 0.6689617 (40)\ttotal: 2m 53s\tremaining: 38s\n",
      "41:\tlearn: 0.6684931\ttest: 0.6685825\tbest: 0.6685825 (41)\ttotal: 2m 57s\tremaining: 33.8s\n",
      "42:\tlearn: 0.6681186\ttest: 0.6682104\tbest: 0.6682104 (42)\ttotal: 3m 1s\tremaining: 29.5s\n",
      "43:\tlearn: 0.6677489\ttest: 0.6678424\tbest: 0.6678424 (43)\ttotal: 3m 5s\tremaining: 25.3s\n",
      "44:\tlearn: 0.6673873\ttest: 0.6674830\tbest: 0.6674830 (44)\ttotal: 3m 9s\tremaining: 21s\n",
      "45:\tlearn: 0.6670332\ttest: 0.6671307\tbest: 0.6671307 (45)\ttotal: 3m 13s\tremaining: 16.8s\n",
      "46:\tlearn: 0.6666859\ttest: 0.6667854\tbest: 0.6667854 (46)\ttotal: 3m 17s\tremaining: 12.6s\n",
      "47:\tlearn: 0.6663450\ttest: 0.6664458\tbest: 0.6664458 (47)\ttotal: 3m 21s\tremaining: 8.41s\n",
      "48:\tlearn: 0.6660086\ttest: 0.6661117\tbest: 0.6661117 (48)\ttotal: 3m 25s\tremaining: 4.2s\n",
      "49:\tlearn: 0.6656793\ttest: 0.6657846\tbest: 0.6657846 (49)\ttotal: 3m 29s\tremaining: 0us\n",
      "\n",
      "bestTest = 0.6657845535\n",
      "bestIteration = 49\n",
      "\n",
      "Metric AUC is not calculated on train by default. To calculate this metric on train, add hints=skip_train~false to metric parameters.\n",
      "0:\tlearn: 0.6849578\ttest: 0.6849800\tbest: 0.6849800 (0)\ttotal: 4.66s\tremaining: 3m 48s\n",
      "1:\tlearn: 0.6783796\ttest: 0.6784349\tbest: 0.6784349 (1)\ttotal: 9.04s\tremaining: 3m 36s\n",
      "2:\tlearn: 0.6729495\ttest: 0.6730186\tbest: 0.6730186 (2)\ttotal: 15.3s\tremaining: 3m 59s\n",
      "3:\tlearn: 0.6685717\ttest: 0.6686654\tbest: 0.6686654 (3)\ttotal: 19.2s\tremaining: 3m 40s\n",
      "4:\tlearn: 0.6649214\ttest: 0.6650355\tbest: 0.6650355 (4)\ttotal: 23.5s\tremaining: 3m 31s\n",
      "5:\tlearn: 0.6619844\ttest: 0.6621079\tbest: 0.6621079 (5)\ttotal: 27.7s\tremaining: 3m 23s\n",
      "6:\tlearn: 0.6594775\ttest: 0.6596080\tbest: 0.6596080 (6)\ttotal: 32.5s\tremaining: 3m 19s\n",
      "7:\tlearn: 0.6553638\ttest: 0.6554991\tbest: 0.6554991 (7)\ttotal: 36.8s\tremaining: 3m 13s\n",
      "8:\tlearn: 0.6519258\ttest: 0.6520339\tbest: 0.6520339 (8)\ttotal: 41.1s\tremaining: 3m 7s\n",
      "9:\tlearn: 0.6490287\ttest: 0.6491415\tbest: 0.6491415 (9)\ttotal: 45.5s\tremaining: 3m 2s\n",
      "10:\tlearn: 0.6467233\ttest: 0.6468137\tbest: 0.6468137 (10)\ttotal: 49.7s\tremaining: 2m 56s\n",
      "11:\tlearn: 0.6448376\ttest: 0.6448939\tbest: 0.6448939 (11)\ttotal: 54s\tremaining: 2m 50s\n",
      "12:\tlearn: 0.6431620\ttest: 0.6432184\tbest: 0.6432184 (12)\ttotal: 58.3s\tremaining: 2m 45s\n",
      "13:\tlearn: 0.6418591\ttest: 0.6418946\tbest: 0.6418946 (13)\ttotal: 1m 2s\tremaining: 2m 41s\n",
      "14:\tlearn: 0.6406744\ttest: 0.6406905\tbest: 0.6406905 (14)\ttotal: 1m 6s\tremaining: 2m 36s\n",
      "15:\tlearn: 0.6396129\ttest: 0.6396239\tbest: 0.6396239 (15)\ttotal: 1m 11s\tremaining: 2m 31s\n",
      "16:\tlearn: 0.6386925\ttest: 0.6386886\tbest: 0.6386886 (16)\ttotal: 1m 15s\tremaining: 2m 26s\n",
      "17:\tlearn: 0.6379321\ttest: 0.6379069\tbest: 0.6379069 (17)\ttotal: 1m 19s\tremaining: 2m 21s\n",
      "18:\tlearn: 0.6372782\ttest: 0.6372409\tbest: 0.6372409 (18)\ttotal: 1m 24s\tremaining: 2m 17s\n",
      "19:\tlearn: 0.6366950\ttest: 0.6366338\tbest: 0.6366338 (19)\ttotal: 1m 28s\tremaining: 2m 13s\n",
      "20:\tlearn: 0.6361910\ttest: 0.6361249\tbest: 0.6361249 (20)\ttotal: 1m 33s\tremaining: 2m 8s\n",
      "21:\tlearn: 0.6357641\ttest: 0.6356893\tbest: 0.6356893 (21)\ttotal: 1m 37s\tremaining: 2m 4s\n",
      "22:\tlearn: 0.6353883\ttest: 0.6353036\tbest: 0.6353036 (22)\ttotal: 1m 41s\tremaining: 1m 59s\n",
      "23:\tlearn: 0.6349698\ttest: 0.6348653\tbest: 0.6348653 (23)\ttotal: 1m 46s\tremaining: 1m 55s\n",
      "24:\tlearn: 0.6346764\ttest: 0.6345602\tbest: 0.6345602 (24)\ttotal: 1m 50s\tremaining: 1m 50s\n",
      "25:\tlearn: 0.6343642\ttest: 0.6342279\tbest: 0.6342279 (25)\ttotal: 1m 55s\tremaining: 1m 46s\n",
      "26:\tlearn: 0.6341108\ttest: 0.6339637\tbest: 0.6339637 (26)\ttotal: 1m 59s\tremaining: 1m 41s\n",
      "27:\tlearn: 0.6338695\ttest: 0.6337178\tbest: 0.6337178 (27)\ttotal: 2m 4s\tremaining: 1m 37s\n",
      "28:\tlearn: 0.6336538\ttest: 0.6334948\tbest: 0.6334948 (28)\ttotal: 2m 8s\tremaining: 1m 33s\n",
      "29:\tlearn: 0.6334464\ttest: 0.6332769\tbest: 0.6332769 (29)\ttotal: 2m 12s\tremaining: 1m 28s\n",
      "30:\tlearn: 0.6332267\ttest: 0.6330585\tbest: 0.6330585 (30)\ttotal: 2m 17s\tremaining: 1m 24s\n",
      "31:\tlearn: 0.6330076\ttest: 0.6328376\tbest: 0.6328376 (31)\ttotal: 2m 22s\tremaining: 1m 20s\n",
      "32:\tlearn: 0.6328209\ttest: 0.6326502\tbest: 0.6326502 (32)\ttotal: 2m 27s\tremaining: 1m 15s\n",
      "33:\tlearn: 0.6326110\ttest: 0.6324376\tbest: 0.6324376 (33)\ttotal: 2m 31s\tremaining: 1m 11s\n",
      "34:\tlearn: 0.6324489\ttest: 0.6322801\tbest: 0.6322801 (34)\ttotal: 2m 35s\tremaining: 1m 6s\n",
      "35:\tlearn: 0.6323053\ttest: 0.6321305\tbest: 0.6321305 (35)\ttotal: 2m 40s\tremaining: 1m 2s\n",
      "36:\tlearn: 0.6321458\ttest: 0.6319700\tbest: 0.6319700 (36)\ttotal: 2m 45s\tremaining: 58s\n",
      "37:\tlearn: 0.6319936\ttest: 0.6318177\tbest: 0.6318177 (37)\ttotal: 2m 49s\tremaining: 53.7s\n",
      "38:\tlearn: 0.6318594\ttest: 0.6316788\tbest: 0.6316788 (38)\ttotal: 2m 54s\tremaining: 49.1s\n",
      "39:\tlearn: 0.6317050\ttest: 0.6315225\tbest: 0.6315225 (39)\ttotal: 2m 58s\tremaining: 44.6s\n",
      "40:\tlearn: 0.6315667\ttest: 0.6313823\tbest: 0.6313823 (40)\ttotal: 3m 2s\tremaining: 40.1s\n",
      "41:\tlearn: 0.6314835\ttest: 0.6312985\tbest: 0.6312985 (41)\ttotal: 3m 6s\tremaining: 35.6s\n",
      "42:\tlearn: 0.6313789\ttest: 0.6311884\tbest: 0.6311884 (42)\ttotal: 3m 11s\tremaining: 31.1s\n",
      "43:\tlearn: 0.6312761\ttest: 0.6310831\tbest: 0.6310831 (43)\ttotal: 3m 15s\tremaining: 26.7s\n",
      "44:\tlearn: 0.6311926\ttest: 0.6310013\tbest: 0.6310013 (44)\ttotal: 3m 20s\tremaining: 22.3s\n",
      "45:\tlearn: 0.6310935\ttest: 0.6309001\tbest: 0.6309001 (45)\ttotal: 3m 25s\tremaining: 17.8s\n",
      "46:\tlearn: 0.6310182\ttest: 0.6308236\tbest: 0.6308236 (46)\ttotal: 3m 29s\tremaining: 13.4s\n",
      "47:\tlearn: 0.6309248\ttest: 0.6307373\tbest: 0.6307373 (47)\ttotal: 3m 34s\tremaining: 8.96s\n",
      "48:\tlearn: 0.6308444\ttest: 0.6306539\tbest: 0.6306539 (48)\ttotal: 3m 39s\tremaining: 4.47s\n",
      "49:\tlearn: 0.6307582\ttest: 0.6305672\tbest: 0.6305672 (49)\ttotal: 3m 43s\tremaining: 0us\n",
      "\n",
      "bestTest = 0.6305671864\n",
      "bestIteration = 49\n",
      "\n",
      "Metric AUC is not calculated on train by default. To calculate this metric on train, add hints=skip_train~false to metric parameters.\n",
      "0:\tlearn: 0.6614264\ttest: 0.6615550\tbest: 0.6615550 (0)\ttotal: 4.91s\tremaining: 4m\n",
      "1:\tlearn: 0.6517631\ttest: 0.6519981\tbest: 0.6519981 (1)\ttotal: 9.76s\tremaining: 3m 54s\n",
      "2:\tlearn: 0.6399119\ttest: 0.6400595\tbest: 0.6400595 (2)\ttotal: 14.3s\tremaining: 3m 44s\n",
      "3:\tlearn: 0.6360235\ttest: 0.6359612\tbest: 0.6359612 (3)\ttotal: 18.5s\tremaining: 3m 32s\n",
      "4:\tlearn: 0.6344339\ttest: 0.6342910\tbest: 0.6342910 (4)\ttotal: 22.8s\tremaining: 3m 25s\n",
      "5:\tlearn: 0.6333800\ttest: 0.6331802\tbest: 0.6331802 (5)\ttotal: 26.8s\tremaining: 3m 16s\n",
      "6:\tlearn: 0.6324020\ttest: 0.6321524\tbest: 0.6321524 (6)\ttotal: 31.3s\tremaining: 3m 12s\n",
      "7:\tlearn: 0.6318806\ttest: 0.6316261\tbest: 0.6316261 (7)\ttotal: 35.4s\tremaining: 3m 5s\n",
      "8:\tlearn: 0.6315652\ttest: 0.6313201\tbest: 0.6313201 (8)\ttotal: 39.5s\tremaining: 2m 59s\n",
      "9:\tlearn: 0.6309976\ttest: 0.6307709\tbest: 0.6307709 (9)\ttotal: 43.8s\tremaining: 2m 55s\n",
      "10:\tlearn: 0.6306043\ttest: 0.6303902\tbest: 0.6303902 (10)\ttotal: 48s\tremaining: 2m 50s\n",
      "11:\tlearn: 0.6302190\ttest: 0.6300308\tbest: 0.6300308 (11)\ttotal: 52.7s\tremaining: 2m 46s\n",
      "12:\tlearn: 0.6298472\ttest: 0.6296508\tbest: 0.6296508 (12)\ttotal: 57s\tremaining: 2m 42s\n",
      "13:\tlearn: 0.6296162\ttest: 0.6294432\tbest: 0.6294432 (13)\ttotal: 1m 1s\tremaining: 2m 37s\n",
      "14:\tlearn: 0.6293447\ttest: 0.6291685\tbest: 0.6291685 (14)\ttotal: 1m 5s\tremaining: 2m 33s\n",
      "15:\tlearn: 0.6290911\ttest: 0.6289128\tbest: 0.6289128 (15)\ttotal: 1m 10s\tremaining: 2m 28s\n",
      "16:\tlearn: 0.6289499\ttest: 0.6287627\tbest: 0.6287627 (16)\ttotal: 1m 14s\tremaining: 2m 24s\n",
      "17:\tlearn: 0.6288032\ttest: 0.6286178\tbest: 0.6286178 (17)\ttotal: 1m 18s\tremaining: 2m 19s\n",
      "18:\tlearn: 0.6286139\ttest: 0.6284283\tbest: 0.6284283 (18)\ttotal: 1m 22s\tremaining: 2m 15s\n",
      "19:\tlearn: 0.6284346\ttest: 0.6282602\tbest: 0.6282602 (19)\ttotal: 1m 27s\tremaining: 2m 11s\n",
      "20:\tlearn: 0.6282802\ttest: 0.6280941\tbest: 0.6280941 (20)\ttotal: 1m 31s\tremaining: 2m 6s\n",
      "21:\tlearn: 0.6281238\ttest: 0.6279767\tbest: 0.6279767 (21)\ttotal: 1m 36s\tremaining: 2m 2s\n",
      "22:\tlearn: 0.6279806\ttest: 0.6278479\tbest: 0.6278479 (22)\ttotal: 1m 40s\tremaining: 1m 58s\n",
      "23:\tlearn: 0.6278357\ttest: 0.6277151\tbest: 0.6277151 (23)\ttotal: 1m 44s\tremaining: 1m 53s\n",
      "24:\tlearn: 0.6276465\ttest: 0.6275153\tbest: 0.6275153 (24)\ttotal: 1m 49s\tremaining: 1m 49s\n",
      "25:\tlearn: 0.6275488\ttest: 0.6274083\tbest: 0.6274083 (25)\ttotal: 1m 53s\tremaining: 1m 44s\n",
      "26:\tlearn: 0.6274493\ttest: 0.6273177\tbest: 0.6273177 (26)\ttotal: 1m 57s\tremaining: 1m 40s\n",
      "27:\tlearn: 0.6272560\ttest: 0.6271242\tbest: 0.6271242 (27)\ttotal: 2m 1s\tremaining: 1m 35s\n",
      "28:\tlearn: 0.6271771\ttest: 0.6270432\tbest: 0.6270432 (28)\ttotal: 2m 5s\tremaining: 1m 31s\n",
      "29:\tlearn: 0.6270462\ttest: 0.6269116\tbest: 0.6269116 (29)\ttotal: 2m 10s\tremaining: 1m 26s\n",
      "30:\tlearn: 0.6269257\ttest: 0.6268159\tbest: 0.6268159 (30)\ttotal: 2m 15s\tremaining: 1m 22s\n",
      "31:\tlearn: 0.6267816\ttest: 0.6266678\tbest: 0.6266678 (31)\ttotal: 2m 19s\tremaining: 1m 18s\n",
      "32:\tlearn: 0.6267210\ttest: 0.6266115\tbest: 0.6266115 (32)\ttotal: 2m 23s\tremaining: 1m 14s\n",
      "33:\tlearn: 0.6266454\ttest: 0.6265395\tbest: 0.6265395 (33)\ttotal: 2m 28s\tremaining: 1m 9s\n",
      "34:\tlearn: 0.6265796\ttest: 0.6264719\tbest: 0.6264719 (34)\ttotal: 2m 32s\tremaining: 1m 5s\n",
      "35:\tlearn: 0.6264624\ttest: 0.6263633\tbest: 0.6263633 (35)\ttotal: 2m 36s\tremaining: 1m\n",
      "36:\tlearn: 0.6262903\ttest: 0.6261920\tbest: 0.6261920 (36)\ttotal: 2m 40s\tremaining: 56.3s\n",
      "37:\tlearn: 0.6261404\ttest: 0.6260228\tbest: 0.6260228 (37)\ttotal: 2m 44s\tremaining: 52.1s\n",
      "38:\tlearn: 0.6260726\ttest: 0.6259694\tbest: 0.6259694 (38)\ttotal: 2m 49s\tremaining: 47.7s\n",
      "39:\tlearn: 0.6260168\ttest: 0.6259185\tbest: 0.6259185 (39)\ttotal: 2m 53s\tremaining: 43.3s\n",
      "40:\tlearn: 0.6259432\ttest: 0.6258575\tbest: 0.6258575 (40)\ttotal: 2m 57s\tremaining: 39s\n",
      "41:\tlearn: 0.6258896\ttest: 0.6258081\tbest: 0.6258081 (41)\ttotal: 3m 1s\tremaining: 34.6s\n",
      "42:\tlearn: 0.6257922\ttest: 0.6257186\tbest: 0.6257186 (42)\ttotal: 3m 6s\tremaining: 30.4s\n",
      "43:\tlearn: 0.6257217\ttest: 0.6256577\tbest: 0.6256577 (43)\ttotal: 3m 10s\tremaining: 26s\n",
      "44:\tlearn: 0.6256658\ttest: 0.6256007\tbest: 0.6256007 (44)\ttotal: 3m 15s\tremaining: 21.7s\n",
      "45:\tlearn: 0.6256279\ttest: 0.6255699\tbest: 0.6255699 (45)\ttotal: 3m 19s\tremaining: 17.3s\n",
      "46:\tlearn: 0.6255525\ttest: 0.6254964\tbest: 0.6254964 (46)\ttotal: 3m 23s\tremaining: 13s\n",
      "47:\tlearn: 0.6254526\ttest: 0.6254004\tbest: 0.6254004 (47)\ttotal: 3m 27s\tremaining: 8.66s\n",
      "48:\tlearn: 0.6253206\ttest: 0.6252705\tbest: 0.6252705 (48)\ttotal: 3m 32s\tremaining: 4.33s\n",
      "49:\tlearn: 0.6251920\ttest: 0.6251456\tbest: 0.6251456 (49)\ttotal: 3m 36s\tremaining: 0us\n",
      "\n",
      "bestTest = 0.6251456393\n",
      "bestIteration = 49\n",
      "\n",
      "Metric AUC is not calculated on train by default. To calculate this metric on train, add hints=skip_train~false to metric parameters.\n",
      "0:\tlearn: 0.6921936\ttest: 0.6921964\tbest: 0.6921964 (0)\ttotal: 8.22s\tremaining: 6m 42s\n",
      "1:\tlearn: 0.6912588\ttest: 0.6912638\tbest: 0.6912638 (1)\ttotal: 15.2s\tremaining: 6m 5s\n",
      "2:\tlearn: 0.6903345\ttest: 0.6903427\tbest: 0.6903427 (2)\ttotal: 22.1s\tremaining: 5m 46s\n",
      "3:\tlearn: 0.6894355\ttest: 0.6894469\tbest: 0.6894469 (3)\ttotal: 29.3s\tremaining: 5m 37s\n",
      "4:\tlearn: 0.6885556\ttest: 0.6885701\tbest: 0.6885701 (4)\ttotal: 36.3s\tremaining: 5m 26s\n",
      "5:\tlearn: 0.6876868\ttest: 0.6877037\tbest: 0.6877037 (5)\ttotal: 43.3s\tremaining: 5m 17s\n",
      "6:\tlearn: 0.6868434\ttest: 0.6868627\tbest: 0.6868627 (6)\ttotal: 50.7s\tremaining: 5m 11s\n",
      "7:\tlearn: 0.6860118\ttest: 0.6860327\tbest: 0.6860327 (7)\ttotal: 57.9s\tremaining: 5m 3s\n",
      "8:\tlearn: 0.6851941\ttest: 0.6852168\tbest: 0.6852168 (8)\ttotal: 1m 4s\tremaining: 4m 55s\n",
      "9:\tlearn: 0.6843934\ttest: 0.6844184\tbest: 0.6844184 (9)\ttotal: 1m 12s\tremaining: 4m 48s\n",
      "10:\tlearn: 0.6836114\ttest: 0.6836383\tbest: 0.6836383 (10)\ttotal: 1m 19s\tremaining: 4m 40s\n",
      "11:\tlearn: 0.6828430\ttest: 0.6828718\tbest: 0.6828718 (11)\ttotal: 1m 26s\tremaining: 4m 32s\n",
      "12:\tlearn: 0.6820905\ttest: 0.6821212\tbest: 0.6821212 (12)\ttotal: 1m 33s\tremaining: 4m 25s\n",
      "13:\tlearn: 0.6813578\ttest: 0.6813922\tbest: 0.6813922 (13)\ttotal: 1m 40s\tremaining: 4m 18s\n",
      "14:\tlearn: 0.6806336\ttest: 0.6806706\tbest: 0.6806706 (14)\ttotal: 1m 47s\tremaining: 4m 11s\n",
      "15:\tlearn: 0.6799226\ttest: 0.6799615\tbest: 0.6799615 (15)\ttotal: 1m 54s\tremaining: 4m 4s\n",
      "16:\tlearn: 0.6792225\ttest: 0.6792642\tbest: 0.6792642 (16)\ttotal: 2m 1s\tremaining: 3m 56s\n",
      "17:\tlearn: 0.6785445\ttest: 0.6785887\tbest: 0.6785887 (17)\ttotal: 2m 8s\tremaining: 3m 48s\n",
      "18:\tlearn: 0.6778763\ttest: 0.6779233\tbest: 0.6779233 (18)\ttotal: 2m 15s\tremaining: 3m 41s\n",
      "19:\tlearn: 0.6772256\ttest: 0.6772756\tbest: 0.6772756 (19)\ttotal: 2m 22s\tremaining: 3m 34s\n",
      "20:\tlearn: 0.6765936\ttest: 0.6766468\tbest: 0.6766468 (20)\ttotal: 2m 30s\tremaining: 3m 27s\n",
      "21:\tlearn: 0.6759658\ttest: 0.6760212\tbest: 0.6760212 (21)\ttotal: 2m 37s\tremaining: 3m 20s\n",
      "22:\tlearn: 0.6753471\ttest: 0.6754053\tbest: 0.6754053 (22)\ttotal: 2m 44s\tremaining: 3m 13s\n",
      "23:\tlearn: 0.6747448\ttest: 0.6748054\tbest: 0.6748054 (23)\ttotal: 2m 51s\tremaining: 3m 6s\n",
      "24:\tlearn: 0.6741577\ttest: 0.6742207\tbest: 0.6742207 (24)\ttotal: 2m 58s\tremaining: 2m 58s\n",
      "25:\tlearn: 0.6735755\ttest: 0.6736409\tbest: 0.6736409 (25)\ttotal: 3m 6s\tremaining: 2m 51s\n",
      "26:\tlearn: 0.6730052\ttest: 0.6730727\tbest: 0.6730727 (26)\ttotal: 3m 13s\tremaining: 2m 44s\n",
      "27:\tlearn: 0.6724477\ttest: 0.6725184\tbest: 0.6725184 (27)\ttotal: 3m 20s\tremaining: 2m 37s\n",
      "28:\tlearn: 0.6719028\ttest: 0.6719760\tbest: 0.6719760 (28)\ttotal: 3m 27s\tremaining: 2m 30s\n",
      "29:\tlearn: 0.6713731\ttest: 0.6714482\tbest: 0.6714482 (29)\ttotal: 3m 34s\tremaining: 2m 23s\n",
      "30:\tlearn: 0.6708484\ttest: 0.6709268\tbest: 0.6709268 (30)\ttotal: 3m 41s\tremaining: 2m 15s\n",
      "31:\tlearn: 0.6703336\ttest: 0.6704137\tbest: 0.6704137 (31)\ttotal: 3m 48s\tremaining: 2m 8s\n",
      "32:\tlearn: 0.6698342\ttest: 0.6699168\tbest: 0.6699168 (32)\ttotal: 3m 55s\tremaining: 2m 1s\n",
      "33:\tlearn: 0.6693420\ttest: 0.6694267\tbest: 0.6694267 (33)\ttotal: 4m 3s\tremaining: 1m 54s\n",
      "34:\tlearn: 0.6688580\ttest: 0.6689448\tbest: 0.6689448 (34)\ttotal: 4m 10s\tremaining: 1m 47s\n",
      "35:\tlearn: 0.6683816\ttest: 0.6684702\tbest: 0.6684702 (35)\ttotal: 4m 17s\tremaining: 1m 40s\n",
      "36:\tlearn: 0.6679152\ttest: 0.6680060\tbest: 0.6680060 (36)\ttotal: 4m 24s\tremaining: 1m 33s\n",
      "37:\tlearn: 0.6674536\ttest: 0.6675457\tbest: 0.6675457 (37)\ttotal: 4m 32s\tremaining: 1m 25s\n",
      "38:\tlearn: 0.6670085\ttest: 0.6671033\tbest: 0.6671033 (38)\ttotal: 4m 39s\tremaining: 1m 18s\n",
      "39:\tlearn: 0.6665671\ttest: 0.6666642\tbest: 0.6666642 (39)\ttotal: 4m 46s\tremaining: 1m 11s\n",
      "40:\tlearn: 0.6661318\ttest: 0.6662299\tbest: 0.6662299 (40)\ttotal: 4m 53s\tremaining: 1m 4s\n",
      "41:\tlearn: 0.6657060\ttest: 0.6658055\tbest: 0.6658055 (41)\ttotal: 5m 1s\tremaining: 57.3s\n",
      "42:\tlearn: 0.6652879\ttest: 0.6653900\tbest: 0.6653900 (42)\ttotal: 5m 8s\tremaining: 50.2s\n",
      "43:\tlearn: 0.6648853\ttest: 0.6649895\tbest: 0.6649895 (43)\ttotal: 5m 15s\tremaining: 43s\n",
      "44:\tlearn: 0.6644854\ttest: 0.6645914\tbest: 0.6645914 (44)\ttotal: 5m 22s\tremaining: 35.8s\n",
      "45:\tlearn: 0.6640942\ttest: 0.6642026\tbest: 0.6642026 (45)\ttotal: 5m 29s\tremaining: 28.6s\n",
      "46:\tlearn: 0.6637109\ttest: 0.6638212\tbest: 0.6638212 (46)\ttotal: 5m 36s\tremaining: 21.5s\n",
      "47:\tlearn: 0.6633302\ttest: 0.6634423\tbest: 0.6634423 (47)\ttotal: 5m 43s\tremaining: 14.3s\n",
      "48:\tlearn: 0.6629568\ttest: 0.6630706\tbest: 0.6630706 (48)\ttotal: 5m 51s\tremaining: 7.17s\n",
      "49:\tlearn: 0.6625971\ttest: 0.6627122\tbest: 0.6627122 (49)\ttotal: 5m 58s\tremaining: 0us\n",
      "\n",
      "bestTest = 0.6627121884\n",
      "bestIteration = 49\n",
      "\n",
      "Metric AUC is not calculated on train by default. To calculate this metric on train, add hints=skip_train~false to metric parameters.\n",
      "0:\tlearn: 0.6840815\ttest: 0.6841106\tbest: 0.6841106 (0)\ttotal: 8.12s\tremaining: 6m 37s\n",
      "1:\tlearn: 0.6767635\ttest: 0.6768189\tbest: 0.6768189 (1)\ttotal: 15.4s\tremaining: 6m 8s\n",
      "2:\tlearn: 0.6707826\ttest: 0.6708685\tbest: 0.6708685 (2)\ttotal: 22.8s\tremaining: 5m 56s\n",
      "3:\tlearn: 0.6659265\ttest: 0.6660239\tbest: 0.6660239 (3)\ttotal: 29.7s\tremaining: 5m 42s\n",
      "4:\tlearn: 0.6619202\ttest: 0.6620473\tbest: 0.6620473 (4)\ttotal: 36.8s\tremaining: 5m 31s\n",
      "5:\tlearn: 0.6586545\ttest: 0.6587984\tbest: 0.6587984 (5)\ttotal: 44.2s\tremaining: 5m 23s\n",
      "6:\tlearn: 0.6559183\ttest: 0.6560724\tbest: 0.6560724 (6)\ttotal: 51.6s\tremaining: 5m 16s\n",
      "7:\tlearn: 0.6514793\ttest: 0.6516455\tbest: 0.6516455 (7)\ttotal: 58.7s\tremaining: 5m 7s\n",
      "8:\tlearn: 0.6477524\ttest: 0.6479004\tbest: 0.6479004 (8)\ttotal: 1m 5s\tremaining: 4m 58s\n",
      "9:\tlearn: 0.6448420\ttest: 0.6449788\tbest: 0.6449788 (9)\ttotal: 1m 12s\tremaining: 4m 49s\n",
      "10:\tlearn: 0.6423439\ttest: 0.6424462\tbest: 0.6424462 (10)\ttotal: 1m 19s\tremaining: 4m 41s\n",
      "11:\tlearn: 0.6402856\ttest: 0.6403564\tbest: 0.6403564 (11)\ttotal: 1m 26s\tremaining: 4m 32s\n",
      "12:\tlearn: 0.6386617\ttest: 0.6387205\tbest: 0.6387205 (12)\ttotal: 1m 33s\tremaining: 4m 26s\n",
      "13:\tlearn: 0.6372072\ttest: 0.6372510\tbest: 0.6372510 (13)\ttotal: 1m 40s\tremaining: 4m 19s\n",
      "14:\tlearn: 0.6360409\ttest: 0.6360688\tbest: 0.6360688 (14)\ttotal: 1m 48s\tremaining: 4m 12s\n",
      "15:\tlearn: 0.6350549\ttest: 0.6350548\tbest: 0.6350548 (15)\ttotal: 1m 55s\tremaining: 4m 5s\n",
      "16:\tlearn: 0.6342191\ttest: 0.6342161\tbest: 0.6342161 (16)\ttotal: 2m 2s\tremaining: 3m 57s\n",
      "17:\tlearn: 0.6334842\ttest: 0.6334582\tbest: 0.6334582 (17)\ttotal: 2m 9s\tremaining: 3m 50s\n",
      "18:\tlearn: 0.6328480\ttest: 0.6328241\tbest: 0.6328241 (18)\ttotal: 2m 16s\tremaining: 3m 43s\n",
      "19:\tlearn: 0.6322955\ttest: 0.6322602\tbest: 0.6322602 (19)\ttotal: 2m 23s\tremaining: 3m 35s\n",
      "20:\tlearn: 0.6317769\ttest: 0.6317443\tbest: 0.6317443 (20)\ttotal: 2m 31s\tremaining: 3m 29s\n",
      "21:\tlearn: 0.6313108\ttest: 0.6312698\tbest: 0.6312698 (21)\ttotal: 2m 38s\tremaining: 3m 21s\n",
      "22:\tlearn: 0.6308265\ttest: 0.6307994\tbest: 0.6307994 (22)\ttotal: 2m 45s\tremaining: 3m 14s\n",
      "23:\tlearn: 0.6304967\ttest: 0.6304707\tbest: 0.6304707 (23)\ttotal: 2m 53s\tremaining: 3m 7s\n",
      "24:\tlearn: 0.6301700\ttest: 0.6301505\tbest: 0.6301505 (24)\ttotal: 3m\tremaining: 3m\n",
      "25:\tlearn: 0.6298506\ttest: 0.6298305\tbest: 0.6298305 (25)\ttotal: 3m 7s\tremaining: 2m 53s\n",
      "26:\tlearn: 0.6295734\ttest: 0.6295483\tbest: 0.6295483 (26)\ttotal: 3m 14s\tremaining: 2m 46s\n",
      "27:\tlearn: 0.6293334\ttest: 0.6293088\tbest: 0.6293088 (27)\ttotal: 3m 21s\tremaining: 2m 38s\n",
      "28:\tlearn: 0.6289812\ttest: 0.6289588\tbest: 0.6289588 (28)\ttotal: 3m 29s\tremaining: 2m 31s\n",
      "29:\tlearn: 0.6286516\ttest: 0.6286414\tbest: 0.6286414 (29)\ttotal: 3m 36s\tremaining: 2m 24s\n",
      "30:\tlearn: 0.6283466\ttest: 0.6283550\tbest: 0.6283550 (30)\ttotal: 3m 44s\tremaining: 2m 17s\n",
      "31:\tlearn: 0.6281507\ttest: 0.6281704\tbest: 0.6281704 (31)\ttotal: 3m 50s\tremaining: 2m 9s\n",
      "32:\tlearn: 0.6279025\ttest: 0.6279352\tbest: 0.6279352 (32)\ttotal: 3m 58s\tremaining: 2m 2s\n",
      "33:\tlearn: 0.6276378\ttest: 0.6276832\tbest: 0.6276832 (33)\ttotal: 4m 5s\tremaining: 1m 55s\n",
      "34:\tlearn: 0.6274769\ttest: 0.6275261\tbest: 0.6275261 (34)\ttotal: 4m 13s\tremaining: 1m 48s\n",
      "35:\tlearn: 0.6272979\ttest: 0.6273560\tbest: 0.6273560 (35)\ttotal: 4m 20s\tremaining: 1m 41s\n",
      "36:\tlearn: 0.6271066\ttest: 0.6271700\tbest: 0.6271700 (36)\ttotal: 4m 27s\tremaining: 1m 33s\n",
      "37:\tlearn: 0.6268914\ttest: 0.6269703\tbest: 0.6269703 (37)\ttotal: 4m 34s\tremaining: 1m 26s\n",
      "38:\tlearn: 0.6267320\ttest: 0.6268159\tbest: 0.6268159 (38)\ttotal: 4m 42s\tremaining: 1m 19s\n",
      "39:\tlearn: 0.6265624\ttest: 0.6266597\tbest: 0.6266597 (39)\ttotal: 4m 49s\tremaining: 1m 12s\n",
      "40:\tlearn: 0.6263702\ttest: 0.6264807\tbest: 0.6264807 (40)\ttotal: 4m 56s\tremaining: 1m 5s\n",
      "41:\tlearn: 0.6261597\ttest: 0.6262747\tbest: 0.6262747 (41)\ttotal: 5m 4s\tremaining: 58s\n",
      "42:\tlearn: 0.6259859\ttest: 0.6261087\tbest: 0.6261087 (42)\ttotal: 5m 11s\tremaining: 50.7s\n",
      "43:\tlearn: 0.6258770\ttest: 0.6260151\tbest: 0.6260151 (43)\ttotal: 5m 18s\tremaining: 43.4s\n",
      "44:\tlearn: 0.6257864\ttest: 0.6259263\tbest: 0.6259263 (44)\ttotal: 5m 25s\tremaining: 36.2s\n",
      "45:\tlearn: 0.6257048\ttest: 0.6258540\tbest: 0.6258540 (45)\ttotal: 5m 32s\tremaining: 28.9s\n",
      "46:\tlearn: 0.6255238\ttest: 0.6256777\tbest: 0.6256777 (46)\ttotal: 5m 39s\tremaining: 21.7s\n",
      "47:\tlearn: 0.6254072\ttest: 0.6255701\tbest: 0.6255701 (47)\ttotal: 5m 47s\tremaining: 14.5s\n",
      "48:\tlearn: 0.6251972\ttest: 0.6253635\tbest: 0.6253635 (48)\ttotal: 5m 54s\tremaining: 7.23s\n",
      "49:\tlearn: 0.6250478\ttest: 0.6252213\tbest: 0.6252213 (49)\ttotal: 6m 1s\tremaining: 0us\n",
      "\n",
      "bestTest = 0.6252213226\n",
      "bestIteration = 49\n",
      "\n",
      "Metric AUC is not calculated on train by default. To calculate this metric on train, add hints=skip_train~false to metric parameters.\n",
      "0:\tlearn: 0.6581195\ttest: 0.6582776\tbest: 0.6582776 (0)\ttotal: 8.4s\tremaining: 6m 51s\n",
      "1:\tlearn: 0.6480433\ttest: 0.6482950\tbest: 0.6482950 (1)\ttotal: 16s\tremaining: 6m 23s\n",
      "2:\tlearn: 0.6358788\ttest: 0.6359841\tbest: 0.6359841 (2)\ttotal: 23.4s\tremaining: 6m 6s\n",
      "3:\tlearn: 0.6322148\ttest: 0.6321774\tbest: 0.6321774 (3)\ttotal: 31.1s\tremaining: 5m 57s\n",
      "4:\tlearn: 0.6300419\ttest: 0.6300313\tbest: 0.6300313 (4)\ttotal: 38.3s\tremaining: 5m 44s\n",
      "5:\tlearn: 0.6289564\ttest: 0.6289269\tbest: 0.6289269 (5)\ttotal: 45.7s\tremaining: 5m 35s\n",
      "6:\tlearn: 0.6277632\ttest: 0.6278038\tbest: 0.6278038 (6)\ttotal: 52.8s\tremaining: 5m 24s\n",
      "7:\tlearn: 0.6269283\ttest: 0.6270431\tbest: 0.6270431 (7)\ttotal: 1m\tremaining: 5m 15s\n",
      "8:\tlearn: 0.6262949\ttest: 0.6264787\tbest: 0.6264787 (8)\ttotal: 1m 7s\tremaining: 5m 6s\n",
      "9:\tlearn: 0.6258634\ttest: 0.6261062\tbest: 0.6261062 (9)\ttotal: 1m 14s\tremaining: 4m 59s\n",
      "10:\tlearn: 0.6253085\ttest: 0.6256147\tbest: 0.6256147 (10)\ttotal: 1m 22s\tremaining: 4m 51s\n",
      "11:\tlearn: 0.6247795\ttest: 0.6251039\tbest: 0.6251039 (11)\ttotal: 1m 29s\tremaining: 4m 42s\n",
      "12:\tlearn: 0.6241723\ttest: 0.6245242\tbest: 0.6245242 (12)\ttotal: 1m 36s\tremaining: 4m 34s\n",
      "13:\tlearn: 0.6239058\ttest: 0.6243202\tbest: 0.6243202 (13)\ttotal: 1m 43s\tremaining: 4m 26s\n",
      "14:\tlearn: 0.6236179\ttest: 0.6240924\tbest: 0.6240924 (14)\ttotal: 1m 50s\tremaining: 4m 18s\n",
      "15:\tlearn: 0.6230798\ttest: 0.6235519\tbest: 0.6235519 (15)\ttotal: 1m 58s\tremaining: 4m 10s\n",
      "16:\tlearn: 0.6222114\ttest: 0.6226767\tbest: 0.6226767 (16)\ttotal: 2m 5s\tremaining: 4m 3s\n",
      "17:\tlearn: 0.6216853\ttest: 0.6221664\tbest: 0.6221664 (17)\ttotal: 2m 13s\tremaining: 3m 56s\n",
      "18:\tlearn: 0.6211376\ttest: 0.6216576\tbest: 0.6216576 (18)\ttotal: 2m 20s\tremaining: 3m 49s\n",
      "19:\tlearn: 0.6205709\ttest: 0.6211502\tbest: 0.6211502 (19)\ttotal: 2m 28s\tremaining: 3m 42s\n",
      "20:\tlearn: 0.6201539\ttest: 0.6207490\tbest: 0.6207490 (20)\ttotal: 2m 35s\tremaining: 3m 34s\n",
      "21:\tlearn: 0.6197739\ttest: 0.6204236\tbest: 0.6204236 (21)\ttotal: 2m 42s\tremaining: 3m 26s\n",
      "22:\tlearn: 0.6196329\ttest: 0.6203141\tbest: 0.6203141 (22)\ttotal: 2m 49s\tremaining: 3m 19s\n",
      "23:\tlearn: 0.6191545\ttest: 0.6198478\tbest: 0.6198478 (23)\ttotal: 2m 56s\tremaining: 3m 11s\n",
      "24:\tlearn: 0.6185896\ttest: 0.6193320\tbest: 0.6193320 (24)\ttotal: 3m 4s\tremaining: 3m 4s\n",
      "25:\tlearn: 0.6184645\ttest: 0.6192364\tbest: 0.6192364 (25)\ttotal: 3m 11s\tremaining: 2m 56s\n",
      "26:\tlearn: 0.6180693\ttest: 0.6188932\tbest: 0.6188932 (26)\ttotal: 3m 18s\tremaining: 2m 49s\n",
      "27:\tlearn: 0.6178116\ttest: 0.6186575\tbest: 0.6186575 (27)\ttotal: 3m 26s\tremaining: 2m 41s\n",
      "28:\tlearn: 0.6175212\ttest: 0.6184306\tbest: 0.6184306 (28)\ttotal: 3m 33s\tremaining: 2m 34s\n",
      "29:\tlearn: 0.6172697\ttest: 0.6182497\tbest: 0.6182497 (29)\ttotal: 3m 40s\tremaining: 2m 26s\n",
      "30:\tlearn: 0.6170340\ttest: 0.6180613\tbest: 0.6180613 (30)\ttotal: 3m 47s\tremaining: 2m 19s\n",
      "31:\tlearn: 0.6167721\ttest: 0.6178387\tbest: 0.6178387 (31)\ttotal: 3m 55s\tremaining: 2m 12s\n",
      "32:\tlearn: 0.6163953\ttest: 0.6175102\tbest: 0.6175102 (32)\ttotal: 4m 2s\tremaining: 2m 4s\n",
      "33:\tlearn: 0.6159492\ttest: 0.6170914\tbest: 0.6170914 (33)\ttotal: 4m 9s\tremaining: 1m 57s\n",
      "34:\tlearn: 0.6151494\ttest: 0.6163234\tbest: 0.6163234 (34)\ttotal: 4m 17s\tremaining: 1m 50s\n",
      "35:\tlearn: 0.6149665\ttest: 0.6161678\tbest: 0.6161678 (35)\ttotal: 4m 24s\tremaining: 1m 42s\n",
      "36:\tlearn: 0.6148322\ttest: 0.6160779\tbest: 0.6160779 (36)\ttotal: 4m 32s\tremaining: 1m 35s\n",
      "37:\tlearn: 0.6144584\ttest: 0.6157241\tbest: 0.6157241 (37)\ttotal: 4m 39s\tremaining: 1m 28s\n",
      "38:\tlearn: 0.6136687\ttest: 0.6149759\tbest: 0.6149759 (38)\ttotal: 4m 46s\tremaining: 1m 20s\n",
      "39:\tlearn: 0.6131298\ttest: 0.6144516\tbest: 0.6144516 (39)\ttotal: 4m 53s\tremaining: 1m 13s\n",
      "40:\tlearn: 0.6129851\ttest: 0.6143328\tbest: 0.6143328 (40)\ttotal: 5m 1s\tremaining: 1m 6s\n",
      "41:\tlearn: 0.6127130\ttest: 0.6140876\tbest: 0.6140876 (41)\ttotal: 5m 8s\tremaining: 58.8s\n",
      "42:\tlearn: 0.6125137\ttest: 0.6139372\tbest: 0.6139372 (42)\ttotal: 5m 15s\tremaining: 51.4s\n",
      "43:\tlearn: 0.6118806\ttest: 0.6133590\tbest: 0.6133590 (43)\ttotal: 5m 23s\tremaining: 44.1s\n",
      "44:\tlearn: 0.6115213\ttest: 0.6130285\tbest: 0.6130285 (44)\ttotal: 5m 30s\tremaining: 36.7s\n",
      "45:\tlearn: 0.6112798\ttest: 0.6128222\tbest: 0.6128222 (45)\ttotal: 5m 37s\tremaining: 29.4s\n",
      "46:\tlearn: 0.6109354\ttest: 0.6125358\tbest: 0.6125358 (46)\ttotal: 5m 45s\tremaining: 22s\n",
      "47:\tlearn: 0.6103914\ttest: 0.6120128\tbest: 0.6120128 (47)\ttotal: 5m 52s\tremaining: 14.7s\n",
      "48:\tlearn: 0.6099984\ttest: 0.6116537\tbest: 0.6116537 (48)\ttotal: 5m 59s\tremaining: 7.34s\n",
      "49:\tlearn: 0.6097199\ttest: 0.6114311\tbest: 0.6114311 (49)\ttotal: 6m 6s\tremaining: 0us\n",
      "\n",
      "bestTest = 0.6114310938\n",
      "bestIteration = 49\n",
      "\n",
      "Metric AUC is not calculated on train by default. To calculate this metric on train, add hints=skip_train~false to metric parameters.\n",
      "Training on fold [0/5]\n",
      "0:\tlearn: 0.6578810\ttest: 0.6582329\tbest: 0.6582329 (0)\ttotal: 9.66s\tremaining: 7m 53s\n",
      "1:\tlearn: 0.6477341\ttest: 0.6481842\tbest: 0.6481842 (1)\ttotal: 18.1s\tremaining: 7m 14s\n",
      "2:\tlearn: 0.6353572\ttest: 0.6356801\tbest: 0.6356801 (2)\ttotal: 26.2s\tremaining: 6m 50s\n",
      "3:\tlearn: 0.6316442\ttest: 0.6318700\tbest: 0.6318700 (3)\ttotal: 34.5s\tremaining: 6m 36s\n",
      "4:\tlearn: 0.6294561\ttest: 0.6295756\tbest: 0.6295756 (4)\ttotal: 42.8s\tremaining: 6m 25s\n",
      "5:\tlearn: 0.6283497\ttest: 0.6284846\tbest: 0.6284846 (5)\ttotal: 51.1s\tremaining: 6m 14s\n",
      "6:\tlearn: 0.6273820\ttest: 0.6275058\tbest: 0.6275058 (6)\ttotal: 59.4s\tremaining: 6m 4s\n",
      "7:\tlearn: 0.6266380\ttest: 0.6268193\tbest: 0.6268193 (7)\ttotal: 1m 7s\tremaining: 5m 53s\n",
      "8:\tlearn: 0.6258761\ttest: 0.6261400\tbest: 0.6261400 (8)\ttotal: 1m 15s\tremaining: 5m 44s\n",
      "9:\tlearn: 0.6252810\ttest: 0.6255848\tbest: 0.6255848 (9)\ttotal: 1m 23s\tremaining: 5m 34s\n",
      "10:\tlearn: 0.6248131\ttest: 0.6251469\tbest: 0.6251469 (10)\ttotal: 1m 31s\tremaining: 5m 24s\n",
      "11:\tlearn: 0.6244464\ttest: 0.6248241\tbest: 0.6248241 (11)\ttotal: 1m 39s\tremaining: 5m 14s\n",
      "12:\tlearn: 0.6235201\ttest: 0.6239103\tbest: 0.6239103 (12)\ttotal: 1m 47s\tremaining: 5m 6s\n",
      "13:\tlearn: 0.6233138\ttest: 0.6237089\tbest: 0.6237089 (13)\ttotal: 1m 55s\tremaining: 4m 56s\n",
      "14:\tlearn: 0.6230337\ttest: 0.6234755\tbest: 0.6234755 (14)\ttotal: 2m 3s\tremaining: 4m 47s\n",
      "15:\tlearn: 0.6222926\ttest: 0.6227868\tbest: 0.6227868 (15)\ttotal: 2m 11s\tremaining: 4m 39s\n",
      "16:\tlearn: 0.6216805\ttest: 0.6222282\tbest: 0.6222282 (16)\ttotal: 2m 19s\tremaining: 4m 31s\n",
      "17:\tlearn: 0.6211753\ttest: 0.6217544\tbest: 0.6217544 (17)\ttotal: 2m 28s\tremaining: 4m 23s\n",
      "18:\tlearn: 0.6203456\ttest: 0.6209363\tbest: 0.6209363 (18)\ttotal: 2m 36s\tremaining: 4m 15s\n",
      "19:\tlearn: 0.6198957\ttest: 0.6205031\tbest: 0.6205031 (19)\ttotal: 2m 44s\tremaining: 4m 6s\n",
      "20:\tlearn: 0.6194864\ttest: 0.6201443\tbest: 0.6201443 (20)\ttotal: 2m 52s\tremaining: 3m 58s\n",
      "21:\tlearn: 0.6192323\ttest: 0.6199053\tbest: 0.6199053 (21)\ttotal: 3m\tremaining: 3m 50s\n",
      "22:\tlearn: 0.6190577\ttest: 0.6197573\tbest: 0.6197573 (22)\ttotal: 3m 8s\tremaining: 3m 41s\n",
      "23:\tlearn: 0.6188051\ttest: 0.6195239\tbest: 0.6195239 (23)\ttotal: 3m 16s\tremaining: 3m 32s\n",
      "24:\tlearn: 0.6185441\ttest: 0.6193126\tbest: 0.6193126 (24)\ttotal: 3m 23s\tremaining: 3m 23s\n",
      "25:\tlearn: 0.6182226\ttest: 0.6189987\tbest: 0.6189987 (25)\ttotal: 3m 32s\tremaining: 3m 15s\n",
      "26:\tlearn: 0.6181526\ttest: 0.6189455\tbest: 0.6189455 (26)\ttotal: 3m 40s\tremaining: 3m 7s\n",
      "27:\tlearn: 0.6179919\ttest: 0.6187898\tbest: 0.6187898 (27)\ttotal: 3m 48s\tremaining: 2m 59s\n",
      "28:\tlearn: 0.6177104\ttest: 0.6185098\tbest: 0.6185098 (28)\ttotal: 3m 56s\tremaining: 2m 51s\n",
      "29:\tlearn: 0.6174722\ttest: 0.6182903\tbest: 0.6182903 (29)\ttotal: 4m 4s\tremaining: 2m 42s\n",
      "30:\tlearn: 0.6170520\ttest: 0.6178947\tbest: 0.6178947 (30)\ttotal: 4m 12s\tremaining: 2m 34s\n",
      "31:\tlearn: 0.6168372\ttest: 0.6177354\tbest: 0.6177354 (31)\ttotal: 4m 20s\tremaining: 2m 26s\n",
      "32:\tlearn: 0.6162407\ttest: 0.6171524\tbest: 0.6171524 (32)\ttotal: 4m 28s\tremaining: 2m 18s\n",
      "33:\tlearn: 0.6156150\ttest: 0.6165771\tbest: 0.6165771 (33)\ttotal: 4m 36s\tremaining: 2m 10s\n",
      "34:\tlearn: 0.6152547\ttest: 0.6162616\tbest: 0.6162616 (34)\ttotal: 4m 44s\tremaining: 2m 1s\n",
      "35:\tlearn: 0.6149581\ttest: 0.6159979\tbest: 0.6159979 (35)\ttotal: 4m 52s\tremaining: 1m 53s\n",
      "36:\tlearn: 0.6146928\ttest: 0.6157829\tbest: 0.6157829 (36)\ttotal: 5m 1s\tremaining: 1m 45s\n",
      "37:\tlearn: 0.6143142\ttest: 0.6154388\tbest: 0.6154388 (37)\ttotal: 5m 9s\tremaining: 1m 37s\n",
      "38:\tlearn: 0.6139810\ttest: 0.6151211\tbest: 0.6151211 (38)\ttotal: 5m 16s\tremaining: 1m 29s\n",
      "39:\tlearn: 0.6133205\ttest: 0.6145030\tbest: 0.6145030 (39)\ttotal: 5m 24s\tremaining: 1m 21s\n",
      "40:\tlearn: 0.6130545\ttest: 0.6142968\tbest: 0.6142968 (40)\ttotal: 5m 32s\tremaining: 1m 13s\n",
      "41:\tlearn: 0.6129322\ttest: 0.6141993\tbest: 0.6141993 (41)\ttotal: 5m 40s\tremaining: 1m 4s\n",
      "42:\tlearn: 0.6125710\ttest: 0.6138283\tbest: 0.6138283 (42)\ttotal: 5m 48s\tremaining: 56.8s\n",
      "43:\tlearn: 0.6119199\ttest: 0.6131762\tbest: 0.6131762 (43)\ttotal: 5m 56s\tremaining: 48.6s\n",
      "44:\tlearn: 0.6115119\ttest: 0.6128015\tbest: 0.6128015 (44)\ttotal: 6m 4s\tremaining: 40.5s\n",
      "45:\tlearn: 0.6110365\ttest: 0.6123804\tbest: 0.6123804 (45)\ttotal: 6m 12s\tremaining: 32.4s\n",
      "46:\tlearn: 0.6106379\ttest: 0.6120110\tbest: 0.6120110 (46)\ttotal: 6m 20s\tremaining: 24.3s\n",
      "47:\tlearn: 0.6102803\ttest: 0.6116958\tbest: 0.6116958 (47)\ttotal: 6m 28s\tremaining: 16.2s\n",
      "48:\tlearn: 0.6099691\ttest: 0.6114281\tbest: 0.6114281 (48)\ttotal: 6m 35s\tremaining: 8.08s\n",
      "49:\tlearn: 0.6097665\ttest: 0.6112927\tbest: 0.6112927 (49)\ttotal: 6m 43s\tremaining: 0us\n",
      "\n",
      "bestTest = 0.6112926662\n",
      "bestIteration = 49\n",
      "\n",
      "Training on fold [1/5]\n",
      "0:\tlearn: 0.6579997\ttest: 0.6578154\tbest: 0.6578154 (0)\ttotal: 9.41s\tremaining: 7m 41s\n",
      "1:\tlearn: 0.6478483\ttest: 0.6477010\tbest: 0.6477010 (1)\ttotal: 17.7s\tremaining: 7m 5s\n",
      "2:\tlearn: 0.6355151\ttest: 0.6351791\tbest: 0.6351791 (2)\ttotal: 25.9s\tremaining: 6m 45s\n",
      "3:\tlearn: 0.6317571\ttest: 0.6312586\tbest: 0.6312586 (3)\ttotal: 34.1s\tremaining: 6m 31s\n",
      "4:\tlearn: 0.6299450\ttest: 0.6294133\tbest: 0.6294133 (4)\ttotal: 42.7s\tremaining: 6m 23s\n",
      "5:\tlearn: 0.6287820\ttest: 0.6282391\tbest: 0.6282391 (5)\ttotal: 51.1s\tremaining: 6m 14s\n",
      "6:\tlearn: 0.6276901\ttest: 0.6271558\tbest: 0.6271558 (6)\ttotal: 58.8s\tremaining: 6m 1s\n",
      "7:\tlearn: 0.6267124\ttest: 0.6261962\tbest: 0.6261962 (7)\ttotal: 1m 6s\tremaining: 5m 51s\n",
      "8:\tlearn: 0.6261746\ttest: 0.6256976\tbest: 0.6256976 (8)\ttotal: 1m 14s\tremaining: 5m 40s\n",
      "9:\tlearn: 0.6258032\ttest: 0.6253730\tbest: 0.6253730 (9)\ttotal: 1m 22s\tremaining: 5m 31s\n",
      "10:\tlearn: 0.6252908\ttest: 0.6248753\tbest: 0.6248753 (10)\ttotal: 1m 31s\tremaining: 5m 23s\n",
      "11:\tlearn: 0.6245385\ttest: 0.6241566\tbest: 0.6241566 (11)\ttotal: 1m 39s\tremaining: 5m 15s\n",
      "12:\tlearn: 0.6233078\ttest: 0.6229786\tbest: 0.6229786 (12)\ttotal: 1m 47s\tremaining: 5m 6s\n",
      "13:\tlearn: 0.6228992\ttest: 0.6226040\tbest: 0.6226040 (13)\ttotal: 1m 56s\tremaining: 4m 58s\n",
      "14:\tlearn: 0.6226645\ttest: 0.6223962\tbest: 0.6223962 (14)\ttotal: 2m 4s\tremaining: 4m 49s\n",
      "15:\tlearn: 0.6216920\ttest: 0.6214212\tbest: 0.6214212 (15)\ttotal: 2m 12s\tremaining: 4m 41s\n",
      "16:\tlearn: 0.6214946\ttest: 0.6212566\tbest: 0.6212566 (16)\ttotal: 2m 20s\tremaining: 4m 32s\n",
      "17:\tlearn: 0.6211414\ttest: 0.6209575\tbest: 0.6209575 (17)\ttotal: 2m 28s\tremaining: 4m 23s\n",
      "18:\tlearn: 0.6204309\ttest: 0.6202932\tbest: 0.6202932 (18)\ttotal: 2m 36s\tremaining: 4m 15s\n",
      "19:\tlearn: 0.6202151\ttest: 0.6200840\tbest: 0.6200840 (19)\ttotal: 2m 44s\tremaining: 4m 7s\n",
      "20:\tlearn: 0.6198862\ttest: 0.6198008\tbest: 0.6198008 (20)\ttotal: 2m 52s\tremaining: 3m 58s\n",
      "21:\tlearn: 0.6196075\ttest: 0.6195400\tbest: 0.6195400 (21)\ttotal: 3m\tremaining: 3m 50s\n",
      "22:\tlearn: 0.6192636\ttest: 0.6192154\tbest: 0.6192154 (22)\ttotal: 3m 8s\tremaining: 3m 41s\n",
      "23:\tlearn: 0.6189880\ttest: 0.6189972\tbest: 0.6189972 (23)\ttotal: 3m 16s\tremaining: 3m 32s\n",
      "24:\tlearn: 0.6188232\ttest: 0.6188675\tbest: 0.6188675 (24)\ttotal: 3m 24s\tremaining: 3m 24s\n",
      "25:\tlearn: 0.6184467\ttest: 0.6185423\tbest: 0.6185423 (25)\ttotal: 3m 32s\tremaining: 3m 16s\n",
      "26:\tlearn: 0.6182914\ttest: 0.6184304\tbest: 0.6184304 (26)\ttotal: 3m 40s\tremaining: 3m 8s\n",
      "27:\tlearn: 0.6179864\ttest: 0.6180991\tbest: 0.6180991 (27)\ttotal: 3m 48s\tremaining: 2m 59s\n",
      "28:\tlearn: 0.6178135\ttest: 0.6179461\tbest: 0.6179461 (28)\ttotal: 3m 56s\tremaining: 2m 51s\n",
      "29:\tlearn: 0.6175058\ttest: 0.6175999\tbest: 0.6175999 (29)\ttotal: 4m 4s\tremaining: 2m 43s\n",
      "30:\tlearn: 0.6172947\ttest: 0.6174218\tbest: 0.6174218 (30)\ttotal: 4m 12s\tremaining: 2m 35s\n",
      "31:\tlearn: 0.6169322\ttest: 0.6170628\tbest: 0.6170628 (31)\ttotal: 4m 21s\tremaining: 2m 27s\n",
      "32:\tlearn: 0.6162417\ttest: 0.6163964\tbest: 0.6163964 (32)\ttotal: 4m 29s\tremaining: 2m 18s\n",
      "33:\tlearn: 0.6157220\ttest: 0.6158867\tbest: 0.6158867 (33)\ttotal: 4m 37s\tremaining: 2m 10s\n",
      "34:\tlearn: 0.6151552\ttest: 0.6153213\tbest: 0.6153213 (34)\ttotal: 4m 45s\tremaining: 2m 2s\n",
      "35:\tlearn: 0.6149726\ttest: 0.6151547\tbest: 0.6151547 (35)\ttotal: 4m 54s\tremaining: 1m 54s\n",
      "36:\tlearn: 0.6146960\ttest: 0.6149083\tbest: 0.6149083 (36)\ttotal: 5m 2s\tremaining: 1m 46s\n",
      "37:\tlearn: 0.6141144\ttest: 0.6143774\tbest: 0.6143774 (37)\ttotal: 5m 10s\tremaining: 1m 38s\n",
      "38:\tlearn: 0.6139857\ttest: 0.6142928\tbest: 0.6142928 (38)\ttotal: 5m 18s\tremaining: 1m 29s\n",
      "39:\tlearn: 0.6138387\ttest: 0.6141435\tbest: 0.6141435 (39)\ttotal: 5m 27s\tremaining: 1m 21s\n",
      "40:\tlearn: 0.6130712\ttest: 0.6133843\tbest: 0.6133843 (40)\ttotal: 5m 35s\tremaining: 1m 13s\n",
      "41:\tlearn: 0.6126445\ttest: 0.6129759\tbest: 0.6129759 (41)\ttotal: 5m 43s\tremaining: 1m 5s\n",
      "42:\tlearn: 0.6124161\ttest: 0.6127992\tbest: 0.6127992 (42)\ttotal: 5m 51s\tremaining: 57.3s\n",
      "43:\tlearn: 0.6117803\ttest: 0.6122201\tbest: 0.6122201 (43)\ttotal: 6m\tremaining: 49.1s\n",
      "44:\tlearn: 0.6115871\ttest: 0.6120489\tbest: 0.6120489 (44)\ttotal: 6m 8s\tremaining: 41s\n",
      "45:\tlearn: 0.6113608\ttest: 0.6118601\tbest: 0.6118601 (45)\ttotal: 6m 17s\tremaining: 32.8s\n",
      "46:\tlearn: 0.6105941\ttest: 0.6111143\tbest: 0.6111143 (46)\ttotal: 6m 26s\tremaining: 24.6s\n",
      "47:\tlearn: 0.6101889\ttest: 0.6107303\tbest: 0.6107303 (47)\ttotal: 6m 34s\tremaining: 16.4s\n",
      "48:\tlearn: 0.6098906\ttest: 0.6104676\tbest: 0.6104676 (48)\ttotal: 6m 42s\tremaining: 8.22s\n",
      "49:\tlearn: 0.6094997\ttest: 0.6101369\tbest: 0.6101369 (49)\ttotal: 6m 50s\tremaining: 0us\n",
      "\n",
      "bestTest = 0.6101368864\n",
      "bestIteration = 49\n",
      "\n",
      "Training on fold [2/5]\n",
      "0:\tlearn: 0.6582243\ttest: 0.6579903\tbest: 0.6579903 (0)\ttotal: 9.56s\tremaining: 7m 48s\n",
      "1:\tlearn: 0.6480567\ttest: 0.6477395\tbest: 0.6477395 (1)\ttotal: 18s\tremaining: 7m 11s\n",
      "2:\tlearn: 0.6357455\ttest: 0.6353235\tbest: 0.6353235 (2)\ttotal: 26.8s\tremaining: 6m 59s\n",
      "3:\tlearn: 0.6321408\ttest: 0.6316164\tbest: 0.6316164 (3)\ttotal: 35.4s\tremaining: 6m 47s\n",
      "4:\tlearn: 0.6301159\ttest: 0.6295092\tbest: 0.6295092 (4)\ttotal: 43.2s\tremaining: 6m 28s\n",
      "5:\tlearn: 0.6290346\ttest: 0.6284235\tbest: 0.6284235 (5)\ttotal: 51s\tremaining: 6m 13s\n",
      "6:\tlearn: 0.6280399\ttest: 0.6274956\tbest: 0.6274956 (6)\ttotal: 59.4s\tremaining: 6m 4s\n",
      "7:\tlearn: 0.6264039\ttest: 0.6258561\tbest: 0.6258561 (7)\ttotal: 1m 7s\tremaining: 5m 56s\n",
      "8:\tlearn: 0.6258793\ttest: 0.6253771\tbest: 0.6253771 (8)\ttotal: 1m 16s\tremaining: 5m 46s\n",
      "9:\tlearn: 0.6252954\ttest: 0.6248129\tbest: 0.6248129 (9)\ttotal: 1m 24s\tremaining: 5m 37s\n",
      "10:\tlearn: 0.6247830\ttest: 0.6243391\tbest: 0.6243391 (10)\ttotal: 1m 32s\tremaining: 5m 26s\n",
      "11:\tlearn: 0.6242852\ttest: 0.6238994\tbest: 0.6238994 (11)\ttotal: 1m 40s\tremaining: 5m 17s\n",
      "12:\tlearn: 0.6234634\ttest: 0.6231059\tbest: 0.6231059 (12)\ttotal: 1m 48s\tremaining: 5m 7s\n",
      "13:\tlearn: 0.6232343\ttest: 0.6229260\tbest: 0.6229260 (13)\ttotal: 1m 56s\tremaining: 4m 58s\n",
      "14:\tlearn: 0.6228390\ttest: 0.6224886\tbest: 0.6224886 (14)\ttotal: 2m 3s\tremaining: 4m 48s\n",
      "15:\tlearn: 0.6223018\ttest: 0.6219886\tbest: 0.6219886 (15)\ttotal: 2m 11s\tremaining: 4m 40s\n",
      "16:\tlearn: 0.6220117\ttest: 0.6217497\tbest: 0.6217497 (16)\ttotal: 2m 19s\tremaining: 4m 30s\n",
      "17:\tlearn: 0.6217215\ttest: 0.6214957\tbest: 0.6214957 (17)\ttotal: 2m 27s\tremaining: 4m 22s\n",
      "18:\tlearn: 0.6213429\ttest: 0.6211278\tbest: 0.6211278 (18)\ttotal: 2m 35s\tremaining: 4m 13s\n",
      "19:\tlearn: 0.6208802\ttest: 0.6207626\tbest: 0.6207626 (19)\ttotal: 2m 44s\tremaining: 4m 6s\n",
      "20:\tlearn: 0.6201596\ttest: 0.6200828\tbest: 0.6200828 (20)\ttotal: 2m 52s\tremaining: 3m 57s\n",
      "21:\tlearn: 0.6198665\ttest: 0.6198226\tbest: 0.6198226 (21)\ttotal: 3m\tremaining: 3m 49s\n",
      "22:\tlearn: 0.6192725\ttest: 0.6192500\tbest: 0.6192500 (22)\ttotal: 3m 8s\tremaining: 3m 40s\n",
      "23:\tlearn: 0.6191799\ttest: 0.6191857\tbest: 0.6191857 (23)\ttotal: 3m 15s\tremaining: 3m 32s\n",
      "24:\tlearn: 0.6188568\ttest: 0.6188885\tbest: 0.6188885 (24)\ttotal: 3m 23s\tremaining: 3m 23s\n",
      "25:\tlearn: 0.6185720\ttest: 0.6186458\tbest: 0.6186458 (25)\ttotal: 3m 31s\tremaining: 3m 15s\n",
      "26:\tlearn: 0.6182054\ttest: 0.6183070\tbest: 0.6183070 (26)\ttotal: 3m 39s\tremaining: 3m 7s\n",
      "27:\tlearn: 0.6180346\ttest: 0.6181473\tbest: 0.6181473 (27)\ttotal: 3m 47s\tremaining: 2m 58s\n",
      "28:\tlearn: 0.6173928\ttest: 0.6175724\tbest: 0.6175724 (28)\ttotal: 3m 55s\tremaining: 2m 50s\n",
      "29:\tlearn: 0.6171482\ttest: 0.6174027\tbest: 0.6174027 (29)\ttotal: 4m 3s\tremaining: 2m 42s\n",
      "30:\tlearn: 0.6169616\ttest: 0.6172476\tbest: 0.6172476 (30)\ttotal: 4m 11s\tremaining: 2m 34s\n",
      "31:\tlearn: 0.6165880\ttest: 0.6168966\tbest: 0.6168966 (31)\ttotal: 4m 19s\tremaining: 2m 26s\n",
      "32:\tlearn: 0.6162848\ttest: 0.6166058\tbest: 0.6166058 (32)\ttotal: 4m 27s\tremaining: 2m 17s\n",
      "33:\tlearn: 0.6161034\ttest: 0.6164599\tbest: 0.6164599 (33)\ttotal: 4m 35s\tremaining: 2m 9s\n",
      "34:\tlearn: 0.6156881\ttest: 0.6160682\tbest: 0.6160682 (34)\ttotal: 4m 42s\tremaining: 2m 1s\n",
      "35:\tlearn: 0.6152610\ttest: 0.6156935\tbest: 0.6156935 (35)\ttotal: 4m 51s\tremaining: 1m 53s\n",
      "36:\tlearn: 0.6145893\ttest: 0.6150520\tbest: 0.6150520 (36)\ttotal: 4m 59s\tremaining: 1m 45s\n",
      "37:\tlearn: 0.6143317\ttest: 0.6148471\tbest: 0.6148471 (37)\ttotal: 5m 7s\tremaining: 1m 37s\n",
      "38:\tlearn: 0.6142252\ttest: 0.6147718\tbest: 0.6147718 (38)\ttotal: 5m 15s\tremaining: 1m 28s\n",
      "39:\tlearn: 0.6140589\ttest: 0.6146197\tbest: 0.6146197 (39)\ttotal: 5m 23s\tremaining: 1m 20s\n",
      "40:\tlearn: 0.6137806\ttest: 0.6143817\tbest: 0.6143817 (40)\ttotal: 5m 31s\tremaining: 1m 12s\n",
      "41:\tlearn: 0.6135334\ttest: 0.6141474\tbest: 0.6141474 (41)\ttotal: 5m 39s\tremaining: 1m 4s\n",
      "42:\tlearn: 0.6128802\ttest: 0.6135017\tbest: 0.6135017 (42)\ttotal: 5m 47s\tremaining: 56.6s\n",
      "43:\tlearn: 0.6122687\ttest: 0.6129505\tbest: 0.6129505 (43)\ttotal: 5m 55s\tremaining: 48.5s\n",
      "44:\tlearn: 0.6117075\ttest: 0.6124059\tbest: 0.6124059 (44)\ttotal: 6m 3s\tremaining: 40.4s\n",
      "45:\tlearn: 0.6115727\ttest: 0.6123078\tbest: 0.6123078 (45)\ttotal: 6m 11s\tremaining: 32.3s\n",
      "46:\tlearn: 0.6114681\ttest: 0.6122164\tbest: 0.6122164 (46)\ttotal: 6m 19s\tremaining: 24.2s\n",
      "47:\tlearn: 0.6112111\ttest: 0.6119702\tbest: 0.6119702 (47)\ttotal: 6m 27s\tremaining: 16.1s\n",
      "48:\tlearn: 0.6110946\ttest: 0.6118867\tbest: 0.6118867 (48)\ttotal: 6m 35s\tremaining: 8.07s\n",
      "49:\tlearn: 0.6107639\ttest: 0.6115906\tbest: 0.6115906 (49)\ttotal: 6m 43s\tremaining: 0us\n",
      "\n",
      "bestTest = 0.6115906041\n",
      "bestIteration = 49\n",
      "\n",
      "Training on fold [3/5]\n",
      "0:\tlearn: 0.6578993\ttest: 0.6580891\tbest: 0.6580891 (0)\ttotal: 9.47s\tremaining: 7m 44s\n",
      "1:\tlearn: 0.6476873\ttest: 0.6480634\tbest: 0.6480634 (1)\ttotal: 17.7s\tremaining: 7m 4s\n",
      "2:\tlearn: 0.6354394\ttest: 0.6356270\tbest: 0.6356270 (2)\ttotal: 25.9s\tremaining: 6m 45s\n",
      "3:\tlearn: 0.6319154\ttest: 0.6320368\tbest: 0.6320368 (3)\ttotal: 33.8s\tremaining: 6m 28s\n",
      "4:\tlearn: 0.6299163\ttest: 0.6299595\tbest: 0.6299595 (4)\ttotal: 41.5s\tremaining: 6m 13s\n",
      "5:\tlearn: 0.6285194\ttest: 0.6286010\tbest: 0.6286010 (5)\ttotal: 49.6s\tremaining: 6m 3s\n",
      "6:\tlearn: 0.6277435\ttest: 0.6278076\tbest: 0.6278076 (6)\ttotal: 57.5s\tremaining: 5m 53s\n",
      "7:\tlearn: 0.6268392\ttest: 0.6269805\tbest: 0.6269805 (7)\ttotal: 1m 5s\tremaining: 5m 45s\n",
      "8:\tlearn: 0.6259780\ttest: 0.6261331\tbest: 0.6261331 (8)\ttotal: 1m 13s\tremaining: 5m 36s\n",
      "9:\tlearn: 0.6254295\ttest: 0.6256353\tbest: 0.6256353 (9)\ttotal: 1m 22s\tremaining: 5m 28s\n",
      "10:\tlearn: 0.6250947\ttest: 0.6253789\tbest: 0.6253789 (10)\ttotal: 1m 30s\tremaining: 5m 20s\n",
      "11:\tlearn: 0.6242939\ttest: 0.6246151\tbest: 0.6246151 (11)\ttotal: 1m 38s\tremaining: 5m 12s\n",
      "12:\tlearn: 0.6239129\ttest: 0.6242798\tbest: 0.6242798 (12)\ttotal: 1m 46s\tremaining: 5m 3s\n",
      "13:\tlearn: 0.6235976\ttest: 0.6240190\tbest: 0.6240190 (13)\ttotal: 1m 54s\tremaining: 4m 55s\n",
      "14:\tlearn: 0.6231129\ttest: 0.6236156\tbest: 0.6236156 (14)\ttotal: 2m 2s\tremaining: 4m 46s\n",
      "15:\tlearn: 0.6224793\ttest: 0.6229765\tbest: 0.6229765 (15)\ttotal: 2m 10s\tremaining: 4m 37s\n",
      "16:\tlearn: 0.6216800\ttest: 0.6222051\tbest: 0.6222051 (16)\ttotal: 2m 18s\tremaining: 4m 28s\n",
      "17:\tlearn: 0.6212036\ttest: 0.6217301\tbest: 0.6217301 (17)\ttotal: 2m 26s\tremaining: 4m 19s\n",
      "18:\tlearn: 0.6208466\ttest: 0.6213995\tbest: 0.6213995 (18)\ttotal: 2m 33s\tremaining: 4m 11s\n",
      "19:\tlearn: 0.6203103\ttest: 0.6208619\tbest: 0.6208619 (19)\ttotal: 2m 41s\tremaining: 4m 2s\n",
      "20:\tlearn: 0.6201236\ttest: 0.6207051\tbest: 0.6207051 (20)\ttotal: 2m 49s\tremaining: 3m 53s\n",
      "21:\tlearn: 0.6197768\ttest: 0.6203831\tbest: 0.6203831 (21)\ttotal: 2m 57s\tremaining: 3m 46s\n",
      "22:\tlearn: 0.6193707\ttest: 0.6200182\tbest: 0.6200182 (22)\ttotal: 3m 5s\tremaining: 3m 37s\n",
      "23:\tlearn: 0.6189088\ttest: 0.6195867\tbest: 0.6195867 (23)\ttotal: 3m 13s\tremaining: 3m 29s\n",
      "24:\tlearn: 0.6185192\ttest: 0.6192445\tbest: 0.6192445 (24)\ttotal: 3m 21s\tremaining: 3m 21s\n",
      "25:\tlearn: 0.6182656\ttest: 0.6190186\tbest: 0.6190186 (25)\ttotal: 3m 29s\tremaining: 3m 13s\n",
      "26:\tlearn: 0.6178125\ttest: 0.6185921\tbest: 0.6185921 (26)\ttotal: 3m 37s\tremaining: 3m 5s\n",
      "27:\tlearn: 0.6175302\ttest: 0.6183880\tbest: 0.6183880 (27)\ttotal: 3m 45s\tremaining: 2m 57s\n",
      "28:\tlearn: 0.6173193\ttest: 0.6181869\tbest: 0.6181869 (28)\ttotal: 3m 54s\tremaining: 2m 49s\n",
      "29:\tlearn: 0.6169679\ttest: 0.6178438\tbest: 0.6178438 (29)\ttotal: 4m 2s\tremaining: 2m 41s\n",
      "30:\tlearn: 0.6168315\ttest: 0.6177442\tbest: 0.6177442 (30)\ttotal: 4m 10s\tremaining: 2m 33s\n",
      "31:\tlearn: 0.6163884\ttest: 0.6173266\tbest: 0.6173266 (31)\ttotal: 4m 18s\tremaining: 2m 25s\n",
      "32:\tlearn: 0.6159106\ttest: 0.6168611\tbest: 0.6168611 (32)\ttotal: 4m 26s\tremaining: 2m 17s\n",
      "33:\tlearn: 0.6153294\ttest: 0.6163035\tbest: 0.6163035 (33)\ttotal: 4m 34s\tremaining: 2m 9s\n",
      "34:\tlearn: 0.6149207\ttest: 0.6159787\tbest: 0.6159787 (34)\ttotal: 4m 43s\tremaining: 2m 1s\n",
      "35:\tlearn: 0.6146654\ttest: 0.6157691\tbest: 0.6157691 (35)\ttotal: 4m 51s\tremaining: 1m 53s\n",
      "36:\tlearn: 0.6143527\ttest: 0.6154566\tbest: 0.6154566 (36)\ttotal: 4m 58s\tremaining: 1m 45s\n",
      "37:\tlearn: 0.6138730\ttest: 0.6150139\tbest: 0.6150139 (37)\ttotal: 5m 6s\tremaining: 1m 36s\n",
      "38:\tlearn: 0.6136887\ttest: 0.6148551\tbest: 0.6148551 (38)\ttotal: 5m 14s\tremaining: 1m 28s\n",
      "39:\tlearn: 0.6133847\ttest: 0.6145810\tbest: 0.6145810 (39)\ttotal: 5m 22s\tremaining: 1m 20s\n",
      "40:\tlearn: 0.6130373\ttest: 0.6142708\tbest: 0.6142708 (40)\ttotal: 5m 30s\tremaining: 1m 12s\n",
      "41:\tlearn: 0.6124064\ttest: 0.6136436\tbest: 0.6136436 (41)\ttotal: 5m 38s\tremaining: 1m 4s\n",
      "42:\tlearn: 0.6122159\ttest: 0.6134739\tbest: 0.6134739 (42)\ttotal: 5m 47s\tremaining: 56.5s\n",
      "43:\tlearn: 0.6119789\ttest: 0.6132506\tbest: 0.6132506 (43)\ttotal: 5m 55s\tremaining: 48.5s\n",
      "44:\tlearn: 0.6116276\ttest: 0.6129013\tbest: 0.6129013 (44)\ttotal: 6m 3s\tremaining: 40.4s\n",
      "45:\tlearn: 0.6111644\ttest: 0.6124258\tbest: 0.6124258 (45)\ttotal: 6m 11s\tremaining: 32.3s\n",
      "46:\tlearn: 0.6110503\ttest: 0.6123180\tbest: 0.6123180 (46)\ttotal: 6m 19s\tremaining: 24.2s\n",
      "47:\tlearn: 0.6105728\ttest: 0.6118796\tbest: 0.6118796 (47)\ttotal: 6m 27s\tremaining: 16.2s\n",
      "48:\tlearn: 0.6104099\ttest: 0.6117354\tbest: 0.6117354 (48)\ttotal: 6m 35s\tremaining: 8.07s\n",
      "49:\tlearn: 0.6101961\ttest: 0.6115630\tbest: 0.6115630 (49)\ttotal: 6m 43s\tremaining: 0us\n",
      "\n",
      "bestTest = 0.6115629918\n",
      "bestIteration = 49\n",
      "\n",
      "Training on fold [4/5]\n",
      "0:\tlearn: 0.6582672\ttest: 0.6582733\tbest: 0.6582733 (0)\ttotal: 9.21s\tremaining: 7m 31s\n",
      "1:\tlearn: 0.6481875\ttest: 0.6482432\tbest: 0.6482432 (1)\ttotal: 17.5s\tremaining: 7m\n",
      "2:\tlearn: 0.6357392\ttest: 0.6356989\tbest: 0.6356989 (2)\ttotal: 25.4s\tremaining: 6m 38s\n",
      "3:\tlearn: 0.6318493\ttest: 0.6316337\tbest: 0.6316337 (3)\ttotal: 33s\tremaining: 6m 19s\n",
      "4:\tlearn: 0.6300323\ttest: 0.6298167\tbest: 0.6298167 (4)\ttotal: 41.3s\tremaining: 6m 11s\n",
      "5:\tlearn: 0.6286869\ttest: 0.6284415\tbest: 0.6284415 (5)\ttotal: 49.5s\tremaining: 6m 3s\n",
      "6:\tlearn: 0.6277847\ttest: 0.6276288\tbest: 0.6276288 (6)\ttotal: 57.4s\tremaining: 5m 52s\n",
      "7:\tlearn: 0.6269343\ttest: 0.6268190\tbest: 0.6268190 (7)\ttotal: 1m 5s\tremaining: 5m 43s\n",
      "8:\tlearn: 0.6264757\ttest: 0.6264324\tbest: 0.6264324 (8)\ttotal: 1m 13s\tremaining: 5m 34s\n",
      "9:\tlearn: 0.6255969\ttest: 0.6255623\tbest: 0.6255623 (9)\ttotal: 1m 21s\tremaining: 5m 27s\n",
      "10:\tlearn: 0.6252345\ttest: 0.6252170\tbest: 0.6252170 (10)\ttotal: 1m 29s\tremaining: 5m 18s\n",
      "11:\tlearn: 0.6245044\ttest: 0.6245013\tbest: 0.6245013 (11)\ttotal: 1m 38s\tremaining: 5m 10s\n",
      "12:\tlearn: 0.6235697\ttest: 0.6235776\tbest: 0.6235776 (12)\ttotal: 1m 45s\tremaining: 5m 1s\n",
      "13:\tlearn: 0.6230796\ttest: 0.6231050\tbest: 0.6231050 (13)\ttotal: 1m 54s\tremaining: 4m 53s\n",
      "14:\tlearn: 0.6226813\ttest: 0.6227501\tbest: 0.6227501 (14)\ttotal: 2m 2s\tremaining: 4m 45s\n",
      "15:\tlearn: 0.6223515\ttest: 0.6224831\tbest: 0.6224831 (15)\ttotal: 2m 10s\tremaining: 4m 37s\n",
      "16:\tlearn: 0.6217932\ttest: 0.6220164\tbest: 0.6220164 (16)\ttotal: 2m 18s\tremaining: 4m 29s\n",
      "17:\tlearn: 0.6216365\ttest: 0.6218868\tbest: 0.6218868 (17)\ttotal: 2m 26s\tremaining: 4m 20s\n",
      "18:\tlearn: 0.6213300\ttest: 0.6216170\tbest: 0.6216170 (18)\ttotal: 2m 34s\tremaining: 4m 12s\n",
      "19:\tlearn: 0.6211386\ttest: 0.6214727\tbest: 0.6214727 (19)\ttotal: 2m 42s\tremaining: 4m 3s\n",
      "20:\tlearn: 0.6204813\ttest: 0.6208592\tbest: 0.6208592 (20)\ttotal: 2m 50s\tremaining: 3m 54s\n",
      "21:\tlearn: 0.6199670\ttest: 0.6203949\tbest: 0.6203949 (21)\ttotal: 2m 57s\tremaining: 3m 46s\n",
      "22:\tlearn: 0.6195487\ttest: 0.6199916\tbest: 0.6199916 (22)\ttotal: 3m 5s\tremaining: 3m 38s\n",
      "23:\tlearn: 0.6192652\ttest: 0.6197477\tbest: 0.6197477 (23)\ttotal: 3m 14s\tremaining: 3m 30s\n",
      "24:\tlearn: 0.6190260\ttest: 0.6195624\tbest: 0.6195624 (24)\ttotal: 3m 21s\tremaining: 3m 21s\n",
      "25:\tlearn: 0.6187852\ttest: 0.6193433\tbest: 0.6193433 (25)\ttotal: 3m 30s\tremaining: 3m 13s\n",
      "26:\tlearn: 0.6183555\ttest: 0.6189492\tbest: 0.6189492 (26)\ttotal: 3m 38s\tremaining: 3m 6s\n",
      "27:\tlearn: 0.6178170\ttest: 0.6184677\tbest: 0.6184677 (27)\ttotal: 3m 46s\tremaining: 2m 57s\n",
      "28:\tlearn: 0.6172349\ttest: 0.6178915\tbest: 0.6178915 (28)\ttotal: 3m 54s\tremaining: 2m 49s\n",
      "29:\tlearn: 0.6169086\ttest: 0.6176309\tbest: 0.6176309 (29)\ttotal: 4m 2s\tremaining: 2m 41s\n",
      "30:\tlearn: 0.6167911\ttest: 0.6175354\tbest: 0.6175354 (30)\ttotal: 4m 10s\tremaining: 2m 33s\n",
      "31:\tlearn: 0.6165714\ttest: 0.6173433\tbest: 0.6173433 (31)\ttotal: 4m 19s\tremaining: 2m 25s\n",
      "32:\tlearn: 0.6161070\ttest: 0.6168808\tbest: 0.6168808 (32)\ttotal: 4m 27s\tremaining: 2m 17s\n",
      "33:\tlearn: 0.6157810\ttest: 0.6165822\tbest: 0.6165822 (33)\ttotal: 4m 35s\tremaining: 2m 9s\n",
      "34:\tlearn: 0.6153507\ttest: 0.6161822\tbest: 0.6161822 (34)\ttotal: 4m 43s\tremaining: 2m 1s\n",
      "35:\tlearn: 0.6148207\ttest: 0.6156806\tbest: 0.6156806 (35)\ttotal: 4m 51s\tremaining: 1m 53s\n",
      "36:\tlearn: 0.6143065\ttest: 0.6152048\tbest: 0.6152048 (36)\ttotal: 4m 59s\tremaining: 1m 45s\n",
      "37:\tlearn: 0.6141900\ttest: 0.6151051\tbest: 0.6151051 (37)\ttotal: 5m 6s\tremaining: 1m 36s\n",
      "38:\tlearn: 0.6136081\ttest: 0.6145877\tbest: 0.6145877 (38)\ttotal: 5m 14s\tremaining: 1m 28s\n",
      "39:\tlearn: 0.6133292\ttest: 0.6143396\tbest: 0.6143396 (39)\ttotal: 5m 23s\tremaining: 1m 20s\n",
      "40:\tlearn: 0.6130996\ttest: 0.6141241\tbest: 0.6141241 (40)\ttotal: 5m 30s\tremaining: 1m 12s\n",
      "41:\tlearn: 0.6130222\ttest: 0.6140724\tbest: 0.6140724 (41)\ttotal: 5m 38s\tremaining: 1m 4s\n",
      "42:\tlearn: 0.6125079\ttest: 0.6135793\tbest: 0.6135793 (42)\ttotal: 5m 45s\tremaining: 56.3s\n",
      "43:\tlearn: 0.6120626\ttest: 0.6131465\tbest: 0.6131465 (43)\ttotal: 5m 54s\tremaining: 48.3s\n",
      "44:\tlearn: 0.6117998\ttest: 0.6129101\tbest: 0.6129101 (44)\ttotal: 6m 2s\tremaining: 40.3s\n",
      "45:\tlearn: 0.6114161\ttest: 0.6125575\tbest: 0.6125575 (45)\ttotal: 6m 10s\tremaining: 32.2s\n",
      "46:\tlearn: 0.6112589\ttest: 0.6124369\tbest: 0.6124369 (46)\ttotal: 6m 18s\tremaining: 24.1s\n",
      "47:\tlearn: 0.6109227\ttest: 0.6121289\tbest: 0.6121289 (47)\ttotal: 6m 26s\tremaining: 16.1s\n",
      "48:\tlearn: 0.6104678\ttest: 0.6116585\tbest: 0.6116585 (48)\ttotal: 6m 34s\tremaining: 8.04s\n",
      "49:\tlearn: 0.6096586\ttest: 0.6109002\tbest: 0.6109002 (49)\ttotal: 6m 42s\tremaining: 0us\n",
      "\n",
      "bestTest = 0.6109002313\n",
      "bestIteration = 49\n",
      "\n"
     ]
    }
   ],
   "source": [
    "categorical = [0, 1, 2, 3, 5, 12, 14]\n",
    "pool = Pool(data=X, label=y, cat_features=categorical, has_header=True)\n",
    "\n",
    "params = {'loss_function': 'Logloss',\n",
    "          'custom_loss': 'AUC',\n",
    "          'iterations': 50}\n",
    "\n",
    "model = CatBoostClassifier(**params)\n",
    "\n",
    "# проведём гридсёрч по паре параметров\n",
    "param_grid = {'learning_rate': [0.01, 0.1, 0.5],\n",
    "              'depth':[5, 10],}\n",
    "\n",
    "grid_search_info = model.grid_search(param_grid,\n",
    "                                     pool,\n",
    "                                     cv=5,\n",
    "                                     calc_cv_statistics=True,\n",
    "                                     search_by_train_test_split=True,\n",
    "                                     train_size=0.7,\n",
    "                                     verbose=False,\n",
    "                                     )\n"
   ]
  },
  {
   "cell_type": "code",
   "execution_count": null,
   "metadata": {
    "colab": {
     "base_uri": "https://localhost:8080/",
     "height": 350
    },
    "id": "OGcWqSxAc2X5",
    "outputId": "82f0b3b2-ef62-4131-a400-cd1c2dadb8fa"
   },
   "outputs": [
    {
     "data": {
      "image/png": "[encoded data removed]",
      "text/plain": [
       "<Figure size 1080x360 with 2 Axes>"
      ]
     },
     "metadata": {
      "needs_background": "light"
     },
     "output_type": "display_data"
    }
   ],
   "source": [
    "f, (ax1, ax2) = plt.subplots(1, 2, sharey=False, figsize=(15, 5))\n",
    "\n",
    "loss = grid_search_info['cv_results']['test-Logloss-mean']\n",
    "metric = grid_search_info['cv_results']['test-AUC-mean']\n",
    "ax1.plot(loss)\n",
    "ax1.set_title('Loss')\n",
    "ax1.set_xlabel('iteration')\n",
    "\n",
    "ax2.plot(metric)\n",
    "ax2.set_title('AUC')\n",
    "ax2.set_xlabel('iteration')\n",
    "\n",
    "\n",
    "plt.show()"
   ]
  },
  {
   "cell_type": "code",
   "execution_count": null,
   "metadata": {
    "colab": {
     "base_uri": "https://localhost:8080/"
    },
    "id": "D1m7LVFUenYq",
    "outputId": "3cd1ac31-c20c-43bf-8a6b-5fc6a0a8aa5f"
   },
   "outputs": [
    {
     "name": "stdout",
     "output_type": "stream",
     "text": [
      "AUC: 0.7250916018867861\n"
     ]
    }
   ],
   "source": [
    "print('AUC:', grid_search_info['cv_results']['test-AUC-mean'][-1])"
   ]
  },
  {
   "cell_type": "code",
   "execution_count": null,
   "metadata": {
    "colab": {
     "base_uri": "https://localhost:8080/",
     "height": 204
    },
    "id": "OGZh5Xtk6fiw",
    "outputId": "b0481773-dba3-46dc-bda6-37145cb549e4"
   },
   "outputs": [
    {
     "data": {
      "text/html": [
       "<div>\n",
       "<style scoped>\n",
       "    .dataframe tbody tr th:only-of-type {\n",
       "        vertical-align: middle;\n",
       "    }\n",
       "\n",
       "    .dataframe tbody tr th {\n",
       "        vertical-align: top;\n",
       "    }\n",
       "\n",
       "    .dataframe thead th {\n",
       "        text-align: right;\n",
       "    }\n",
       "</style>\n",
       "<table border=\"1\" class=\"dataframe\">\n",
       "  <thead>\n",
       "    <tr style=\"text-align: right;\">\n",
       "      <th></th>\n",
       "      <th>iterations</th>\n",
       "      <th>test-Logloss-mean</th>\n",
       "      <th>test-Logloss-std</th>\n",
       "      <th>train-Logloss-mean</th>\n",
       "      <th>train-Logloss-std</th>\n",
       "      <th>test-AUC-mean</th>\n",
       "      <th>test-AUC-std</th>\n",
       "    </tr>\n",
       "  </thead>\n",
       "  <tbody>\n",
       "    <tr>\n",
       "      <th>0</th>\n",
       "      <td>0</td>\n",
       "      <td>0.658080</td>\n",
       "      <td>0.000186</td>\n",
       "      <td>0.658054</td>\n",
       "      <td>0.000181</td>\n",
       "      <td>0.667984</td>\n",
       "      <td>0.000537</td>\n",
       "    </tr>\n",
       "    <tr>\n",
       "      <th>1</th>\n",
       "      <td>1</td>\n",
       "      <td>0.647986</td>\n",
       "      <td>0.000252</td>\n",
       "      <td>0.647903</td>\n",
       "      <td>0.000214</td>\n",
       "      <td>0.673656</td>\n",
       "      <td>0.000575</td>\n",
       "    </tr>\n",
       "    <tr>\n",
       "      <th>2</th>\n",
       "      <td>2</td>\n",
       "      <td>0.635502</td>\n",
       "      <td>0.000236</td>\n",
       "      <td>0.635559</td>\n",
       "      <td>0.000176</td>\n",
       "      <td>0.693337</td>\n",
       "      <td>0.000494</td>\n",
       "    </tr>\n",
       "    <tr>\n",
       "      <th>3</th>\n",
       "      <td>3</td>\n",
       "      <td>0.631683</td>\n",
       "      <td>0.000295</td>\n",
       "      <td>0.631861</td>\n",
       "      <td>0.000187</td>\n",
       "      <td>0.697063</td>\n",
       "      <td>0.000514</td>\n",
       "    </tr>\n",
       "    <tr>\n",
       "      <th>4</th>\n",
       "      <td>4</td>\n",
       "      <td>0.629655</td>\n",
       "      <td>0.000226</td>\n",
       "      <td>0.629893</td>\n",
       "      <td>0.000257</td>\n",
       "      <td>0.699294</td>\n",
       "      <td>0.000446</td>\n",
       "    </tr>\n",
       "  </tbody>\n",
       "</table>\n",
       "</div>"
      ],
      "text/plain": [
       "   iterations  test-Logloss-mean  ...  test-AUC-mean  test-AUC-std\n",
       "0           0           0.658080  ...       0.667984      0.000537\n",
       "1           1           0.647986  ...       0.673656      0.000575\n",
       "2           2           0.635502  ...       0.693337      0.000494\n",
       "3           3           0.631683  ...       0.697063      0.000514\n",
       "4           4           0.629655  ...       0.699294      0.000446\n",
       "\n",
       "[5 rows x 7 columns]"
      ]
     },
     "execution_count": 48,
     "metadata": {},
     "output_type": "execute_result"
    }
   ],
   "source": [
    "pd.DataFrame(grid_search_info['cv_results']).head()"
   ]
  },
  {
   "cell_type": "code",
   "execution_count": null,
   "metadata": {
    "colab": {
     "base_uri": "https://localhost:8080/",
     "height": 204
    },
    "id": "5aGdsftFKJ9p",
    "outputId": "1f079c43-1f19-4f54-b29b-4e902d1560ab"
   },
   "outputs": [
    {
     "data": {
      "text/html": [
       "<div>\n",
       "<style scoped>\n",
       "    .dataframe tbody tr th:only-of-type {\n",
       "        vertical-align: middle;\n",
       "    }\n",
       "\n",
       "    .dataframe tbody tr th {\n",
       "        vertical-align: top;\n",
       "    }\n",
       "\n",
       "    .dataframe thead th {\n",
       "        text-align: right;\n",
       "    }\n",
       "</style>\n",
       "<table border=\"1\" class=\"dataframe\">\n",
       "  <thead>\n",
       "    <tr style=\"text-align: right;\">\n",
       "      <th></th>\n",
       "      <th>iterations</th>\n",
       "      <th>test-Logloss-mean</th>\n",
       "      <th>test-Logloss-std</th>\n",
       "      <th>train-Logloss-mean</th>\n",
       "      <th>train-Logloss-std</th>\n",
       "      <th>test-AUC-mean</th>\n",
       "      <th>test-AUC-std</th>\n",
       "    </tr>\n",
       "  </thead>\n",
       "  <tbody>\n",
       "    <tr>\n",
       "      <th>45</th>\n",
       "      <td>45</td>\n",
       "      <td>0.612306</td>\n",
       "      <td>0.000265</td>\n",
       "      <td>0.611310</td>\n",
       "      <td>0.000211</td>\n",
       "      <td>0.723443</td>\n",
       "      <td>0.000437</td>\n",
       "    </tr>\n",
       "    <tr>\n",
       "      <th>46</th>\n",
       "      <td>46</td>\n",
       "      <td>0.612019</td>\n",
       "      <td>0.000530</td>\n",
       "      <td>0.611002</td>\n",
       "      <td>0.000382</td>\n",
       "      <td>0.723849</td>\n",
       "      <td>0.000794</td>\n",
       "    </tr>\n",
       "    <tr>\n",
       "      <th>47</th>\n",
       "      <td>47</td>\n",
       "      <td>0.611681</td>\n",
       "      <td>0.000554</td>\n",
       "      <td>0.610635</td>\n",
       "      <td>0.000431</td>\n",
       "      <td>0.724301</td>\n",
       "      <td>0.000806</td>\n",
       "    </tr>\n",
       "    <tr>\n",
       "      <th>48</th>\n",
       "      <td>48</td>\n",
       "      <td>0.611435</td>\n",
       "      <td>0.000566</td>\n",
       "      <td>0.610366</td>\n",
       "      <td>0.000481</td>\n",
       "      <td>0.724640</td>\n",
       "      <td>0.000795</td>\n",
       "    </tr>\n",
       "    <tr>\n",
       "      <th>49</th>\n",
       "      <td>49</td>\n",
       "      <td>0.611097</td>\n",
       "      <td>0.000604</td>\n",
       "      <td>0.609977</td>\n",
       "      <td>0.000510</td>\n",
       "      <td>0.725092</td>\n",
       "      <td>0.000871</td>\n",
       "    </tr>\n",
       "  </tbody>\n",
       "</table>\n",
       "</div>"
      ],
      "text/plain": [
       "    iterations  test-Logloss-mean  ...  test-AUC-mean  test-AUC-std\n",
       "45          45           0.612306  ...       0.723443      0.000437\n",
       "46          46           0.612019  ...       0.723849      0.000794\n",
       "47          47           0.611681  ...       0.724301      0.000806\n",
       "48          48           0.611435  ...       0.724640      0.000795\n",
       "49          49           0.611097  ...       0.725092      0.000871\n",
       "\n",
       "[5 rows x 7 columns]"
      ]
     },
     "execution_count": 49,
     "metadata": {},
     "output_type": "execute_result"
    }
   ],
   "source": [
    "pd.DataFrame(grid_search_info['cv_results']).tail()"
   ]
  },
  {
   "cell_type": "code",
   "execution_count": null,
   "metadata": {
    "colab": {
     "base_uri": "https://localhost:8080/"
    },
    "id": "PFnwRoDZKQ4F",
    "outputId": "827c03c2-e30c-4cd1-df95-098bbbf6250c"
   },
   "outputs": [
    {
     "data": {
      "text/plain": [
       "{'depth': 10, 'learning_rate': 0.5}"
      ]
     },
     "execution_count": 50,
     "metadata": {},
     "output_type": "execute_result"
    }
   ],
   "source": [
    "# лучшие параметры\n",
    "grid_search_info['params']"
   ]
  },
  {
   "cell_type": "markdown",
   "metadata": {
    "id": "EXmIlUSB1sxe"
   },
   "source": [
    "Будем обучать модель 100 эпох с найденными параметрами."
   ]
  },
  {
   "cell_type": "code",
   "execution_count": null,
   "metadata": {
    "colab": {
     "base_uri": "https://localhost:8080/"
    },
    "id": "84rm740CWbl-",
    "outputId": "04cd3f55-0f1e-4ef5-d757-ac881eed6d81"
   },
   "outputs": [
    {
     "name": "stdout",
     "output_type": "stream",
     "text": [
      "Training on fold [0/5]\n",
      "0:\tlearn: 0.6578810\ttest: 0.6582329\tbest: 0.6582329 (0)\ttotal: 9.35s\tremaining: 15m 25s\n",
      "1:\tlearn: 0.6477341\ttest: 0.6481842\tbest: 0.6481842 (1)\ttotal: 17.8s\tremaining: 14m 33s\n",
      "2:\tlearn: 0.6353572\ttest: 0.6356801\tbest: 0.6356801 (2)\ttotal: 26s\tremaining: 14m\n",
      "3:\tlearn: 0.6316442\ttest: 0.6318700\tbest: 0.6318700 (3)\ttotal: 34.1s\tremaining: 13m 38s\n",
      "4:\tlearn: 0.6294561\ttest: 0.6295756\tbest: 0.6295756 (4)\ttotal: 42.4s\tremaining: 13m 25s\n",
      "5:\tlearn: 0.6283497\ttest: 0.6284846\tbest: 0.6284846 (5)\ttotal: 50.2s\tremaining: 13m 6s\n",
      "6:\tlearn: 0.6273820\ttest: 0.6275058\tbest: 0.6275058 (6)\ttotal: 58.2s\tremaining: 12m 53s\n",
      "7:\tlearn: 0.6266380\ttest: 0.6268193\tbest: 0.6268193 (7)\ttotal: 1m 6s\tremaining: 12m 41s\n",
      "8:\tlearn: 0.6258761\ttest: 0.6261400\tbest: 0.6261400 (8)\ttotal: 1m 14s\tremaining: 12m 33s\n",
      "9:\tlearn: 0.6252810\ttest: 0.6255848\tbest: 0.6255848 (9)\ttotal: 1m 22s\tremaining: 12m 21s\n",
      "10:\tlearn: 0.6248131\ttest: 0.6251469\tbest: 0.6251469 (10)\ttotal: 1m 30s\tremaining: 12m 13s\n",
      "11:\tlearn: 0.6244464\ttest: 0.6248241\tbest: 0.6248241 (11)\ttotal: 1m 38s\tremaining: 12m 2s\n",
      "12:\tlearn: 0.6235201\ttest: 0.6239103\tbest: 0.6239103 (12)\ttotal: 1m 46s\tremaining: 11m 55s\n",
      "13:\tlearn: 0.6233138\ttest: 0.6237089\tbest: 0.6237089 (13)\ttotal: 1m 54s\tremaining: 11m 44s\n",
      "14:\tlearn: 0.6230337\ttest: 0.6234755\tbest: 0.6234755 (14)\ttotal: 2m 2s\tremaining: 11m 33s\n",
      "15:\tlearn: 0.6222926\ttest: 0.6227868\tbest: 0.6227868 (15)\ttotal: 2m 10s\tremaining: 11m 24s\n",
      "16:\tlearn: 0.6216805\ttest: 0.6222282\tbest: 0.6222282 (16)\ttotal: 2m 18s\tremaining: 11m 17s\n",
      "17:\tlearn: 0.6211753\ttest: 0.6217544\tbest: 0.6217544 (17)\ttotal: 2m 26s\tremaining: 11m 7s\n",
      "18:\tlearn: 0.6203456\ttest: 0.6209363\tbest: 0.6209363 (18)\ttotal: 2m 34s\tremaining: 10m 59s\n",
      "19:\tlearn: 0.6198957\ttest: 0.6205031\tbest: 0.6205031 (19)\ttotal: 2m 42s\tremaining: 10m 50s\n",
      "20:\tlearn: 0.6194864\ttest: 0.6201443\tbest: 0.6201443 (20)\ttotal: 2m 50s\tremaining: 10m 42s\n",
      "21:\tlearn: 0.6192323\ttest: 0.6199053\tbest: 0.6199053 (21)\ttotal: 2m 58s\tremaining: 10m 34s\n",
      "22:\tlearn: 0.6190577\ttest: 0.6197573\tbest: 0.6197573 (22)\ttotal: 3m 6s\tremaining: 10m 24s\n",
      "23:\tlearn: 0.6188051\ttest: 0.6195239\tbest: 0.6195239 (23)\ttotal: 3m 14s\tremaining: 10m 17s\n",
      "24:\tlearn: 0.6185441\ttest: 0.6193126\tbest: 0.6193126 (24)\ttotal: 3m 23s\tremaining: 10m 9s\n",
      "25:\tlearn: 0.6182226\ttest: 0.6189987\tbest: 0.6189987 (25)\ttotal: 3m 31s\tremaining: 10m\n",
      "26:\tlearn: 0.6181526\ttest: 0.6189455\tbest: 0.6189455 (26)\ttotal: 3m 38s\tremaining: 9m 51s\n",
      "27:\tlearn: 0.6179919\ttest: 0.6187898\tbest: 0.6187898 (27)\ttotal: 3m 47s\tremaining: 9m 44s\n",
      "28:\tlearn: 0.6177104\ttest: 0.6185098\tbest: 0.6185098 (28)\ttotal: 3m 55s\tremaining: 9m 35s\n",
      "29:\tlearn: 0.6174722\ttest: 0.6182903\tbest: 0.6182903 (29)\ttotal: 4m 3s\tremaining: 9m 27s\n",
      "30:\tlearn: 0.6170520\ttest: 0.6178947\tbest: 0.6178947 (30)\ttotal: 4m 11s\tremaining: 9m 19s\n",
      "31:\tlearn: 0.6168372\ttest: 0.6177354\tbest: 0.6177354 (31)\ttotal: 4m 19s\tremaining: 9m 11s\n",
      "32:\tlearn: 0.6162407\ttest: 0.6171524\tbest: 0.6171524 (32)\ttotal: 4m 27s\tremaining: 9m 2s\n",
      "33:\tlearn: 0.6156150\ttest: 0.6165771\tbest: 0.6165771 (33)\ttotal: 4m 35s\tremaining: 8m 55s\n",
      "34:\tlearn: 0.6152547\ttest: 0.6162616\tbest: 0.6162616 (34)\ttotal: 4m 43s\tremaining: 8m 46s\n",
      "35:\tlearn: 0.6149581\ttest: 0.6159979\tbest: 0.6159979 (35)\ttotal: 4m 51s\tremaining: 8m 38s\n",
      "36:\tlearn: 0.6146928\ttest: 0.6157829\tbest: 0.6157829 (36)\ttotal: 5m\tremaining: 8m 31s\n",
      "37:\tlearn: 0.6143142\ttest: 0.6154388\tbest: 0.6154388 (37)\ttotal: 5m 8s\tremaining: 8m 22s\n",
      "38:\tlearn: 0.6139810\ttest: 0.6151211\tbest: 0.6151211 (38)\ttotal: 5m 16s\tremaining: 8m 14s\n",
      "39:\tlearn: 0.6133205\ttest: 0.6145030\tbest: 0.6145030 (39)\ttotal: 5m 24s\tremaining: 8m 6s\n",
      "40:\tlearn: 0.6130545\ttest: 0.6142968\tbest: 0.6142968 (40)\ttotal: 5m 31s\tremaining: 7m 57s\n",
      "41:\tlearn: 0.6129322\ttest: 0.6141993\tbest: 0.6141993 (41)\ttotal: 5m 39s\tremaining: 7m 49s\n",
      "42:\tlearn: 0.6125710\ttest: 0.6138283\tbest: 0.6138283 (42)\ttotal: 5m 48s\tremaining: 7m 41s\n",
      "43:\tlearn: 0.6119199\ttest: 0.6131762\tbest: 0.6131762 (43)\ttotal: 5m 56s\tremaining: 7m 33s\n",
      "44:\tlearn: 0.6115119\ttest: 0.6128015\tbest: 0.6128015 (44)\ttotal: 6m 4s\tremaining: 7m 25s\n",
      "45:\tlearn: 0.6110365\ttest: 0.6123804\tbest: 0.6123804 (45)\ttotal: 6m 12s\tremaining: 7m 17s\n",
      "46:\tlearn: 0.6106379\ttest: 0.6120110\tbest: 0.6120110 (46)\ttotal: 6m 20s\tremaining: 7m 9s\n",
      "47:\tlearn: 0.6102803\ttest: 0.6116958\tbest: 0.6116958 (47)\ttotal: 6m 28s\tremaining: 7m 1s\n",
      "48:\tlearn: 0.6099691\ttest: 0.6114281\tbest: 0.6114281 (48)\ttotal: 6m 37s\tremaining: 6m 53s\n",
      "49:\tlearn: 0.6097665\ttest: 0.6112927\tbest: 0.6112927 (49)\ttotal: 6m 45s\tremaining: 6m 45s\n",
      "50:\tlearn: 0.6093621\ttest: 0.6109533\tbest: 0.6109533 (50)\ttotal: 6m 53s\tremaining: 6m 37s\n",
      "51:\tlearn: 0.6091748\ttest: 0.6107930\tbest: 0.6107930 (51)\ttotal: 7m 1s\tremaining: 6m 28s\n",
      "52:\tlearn: 0.6087326\ttest: 0.6103671\tbest: 0.6103671 (52)\ttotal: 7m 9s\tremaining: 6m 20s\n",
      "53:\tlearn: 0.6086062\ttest: 0.6102451\tbest: 0.6102451 (53)\ttotal: 7m 17s\tremaining: 6m 12s\n",
      "54:\tlearn: 0.6080719\ttest: 0.6097333\tbest: 0.6097333 (54)\ttotal: 7m 25s\tremaining: 6m 4s\n",
      "55:\tlearn: 0.6079782\ttest: 0.6096485\tbest: 0.6096485 (55)\ttotal: 7m 33s\tremaining: 5m 56s\n",
      "56:\tlearn: 0.6078099\ttest: 0.6094890\tbest: 0.6094890 (56)\ttotal: 7m 41s\tremaining: 5m 47s\n",
      "57:\tlearn: 0.6075117\ttest: 0.6092303\tbest: 0.6092303 (57)\ttotal: 7m 49s\tremaining: 5m 39s\n",
      "58:\tlearn: 0.6073210\ttest: 0.6090533\tbest: 0.6090533 (58)\ttotal: 7m 57s\tremaining: 5m 31s\n",
      "59:\tlearn: 0.6072046\ttest: 0.6089712\tbest: 0.6089712 (59)\ttotal: 8m 5s\tremaining: 5m 23s\n",
      "60:\tlearn: 0.6067664\ttest: 0.6085622\tbest: 0.6085622 (60)\ttotal: 8m 13s\tremaining: 5m 15s\n",
      "61:\tlearn: 0.6065144\ttest: 0.6083591\tbest: 0.6083591 (61)\ttotal: 8m 22s\tremaining: 5m 7s\n",
      "62:\tlearn: 0.6063644\ttest: 0.6082329\tbest: 0.6082329 (62)\ttotal: 8m 29s\tremaining: 4m 59s\n",
      "63:\tlearn: 0.6061095\ttest: 0.6080227\tbest: 0.6080227 (63)\ttotal: 8m 38s\tremaining: 4m 51s\n",
      "64:\tlearn: 0.6058098\ttest: 0.6077485\tbest: 0.6077485 (64)\ttotal: 8m 46s\tremaining: 4m 43s\n",
      "65:\tlearn: 0.6050353\ttest: 0.6070219\tbest: 0.6070219 (65)\ttotal: 8m 54s\tremaining: 4m 35s\n",
      "66:\tlearn: 0.6047167\ttest: 0.6067326\tbest: 0.6067326 (66)\ttotal: 9m 2s\tremaining: 4m 27s\n",
      "67:\tlearn: 0.6044392\ttest: 0.6064936\tbest: 0.6064936 (67)\ttotal: 9m 10s\tremaining: 4m 19s\n",
      "68:\tlearn: 0.6043469\ttest: 0.6064309\tbest: 0.6064309 (68)\ttotal: 9m 18s\tremaining: 4m 11s\n",
      "69:\tlearn: 0.6040514\ttest: 0.6061673\tbest: 0.6061673 (69)\ttotal: 9m 26s\tremaining: 4m 2s\n",
      "70:\tlearn: 0.6040152\ttest: 0.6061310\tbest: 0.6061310 (70)\ttotal: 9m 34s\tremaining: 3m 54s\n",
      "71:\tlearn: 0.6036590\ttest: 0.6058216\tbest: 0.6058216 (71)\ttotal: 9m 42s\tremaining: 3m 46s\n",
      "72:\tlearn: 0.6035901\ttest: 0.6057681\tbest: 0.6057681 (72)\ttotal: 9m 49s\tremaining: 3m 38s\n",
      "73:\tlearn: 0.6034400\ttest: 0.6056304\tbest: 0.6056304 (73)\ttotal: 9m 57s\tremaining: 3m 30s\n",
      "74:\tlearn: 0.6030801\ttest: 0.6053096\tbest: 0.6053096 (74)\ttotal: 10m 5s\tremaining: 3m 21s\n",
      "75:\tlearn: 0.6029212\ttest: 0.6051940\tbest: 0.6051940 (75)\ttotal: 10m 13s\tremaining: 3m 13s\n",
      "76:\tlearn: 0.6026867\ttest: 0.6049820\tbest: 0.6049820 (76)\ttotal: 10m 21s\tremaining: 3m 5s\n",
      "77:\tlearn: 0.6024685\ttest: 0.6047945\tbest: 0.6047945 (77)\ttotal: 10m 30s\tremaining: 2m 57s\n",
      "78:\tlearn: 0.6021071\ttest: 0.6044650\tbest: 0.6044650 (78)\ttotal: 10m 38s\tremaining: 2m 49s\n",
      "79:\tlearn: 0.6018919\ttest: 0.6042663\tbest: 0.6042663 (79)\ttotal: 10m 46s\tremaining: 2m 41s\n",
      "80:\tlearn: 0.6016049\ttest: 0.6039937\tbest: 0.6039937 (80)\ttotal: 10m 54s\tremaining: 2m 33s\n",
      "81:\tlearn: 0.6013671\ttest: 0.6037808\tbest: 0.6037808 (81)\ttotal: 11m 2s\tremaining: 2m 25s\n",
      "82:\tlearn: 0.6012046\ttest: 0.6036399\tbest: 0.6036399 (82)\ttotal: 11m 10s\tremaining: 2m 17s\n",
      "83:\tlearn: 0.6011600\ttest: 0.6035950\tbest: 0.6035950 (83)\ttotal: 11m 18s\tremaining: 2m 9s\n",
      "84:\tlearn: 0.6009552\ttest: 0.6033866\tbest: 0.6033866 (84)\ttotal: 11m 26s\tremaining: 2m 1s\n",
      "85:\tlearn: 0.6008312\ttest: 0.6032671\tbest: 0.6032671 (85)\ttotal: 11m 34s\tremaining: 1m 53s\n",
      "86:\tlearn: 0.6006343\ttest: 0.6030793\tbest: 0.6030793 (86)\ttotal: 11m 42s\tremaining: 1m 44s\n",
      "87:\tlearn: 0.6004928\ttest: 0.6029497\tbest: 0.6029497 (87)\ttotal: 11m 50s\tremaining: 1m 36s\n",
      "88:\tlearn: 0.6003779\ttest: 0.6028685\tbest: 0.6028685 (88)\ttotal: 11m 58s\tremaining: 1m 28s\n",
      "89:\tlearn: 0.6001459\ttest: 0.6026709\tbest: 0.6026709 (89)\ttotal: 12m 6s\tremaining: 1m 20s\n",
      "90:\tlearn: 0.5998362\ttest: 0.6023863\tbest: 0.6023863 (90)\ttotal: 12m 14s\tremaining: 1m 12s\n",
      "91:\tlearn: 0.5996098\ttest: 0.6021760\tbest: 0.6021760 (91)\ttotal: 12m 21s\tremaining: 1m 4s\n",
      "92:\tlearn: 0.5994468\ttest: 0.6020542\tbest: 0.6020542 (92)\ttotal: 12m 30s\tremaining: 56.5s\n",
      "93:\tlearn: 0.5992636\ttest: 0.6018882\tbest: 0.6018882 (93)\ttotal: 12m 37s\tremaining: 48.4s\n",
      "94:\tlearn: 0.5991335\ttest: 0.6017808\tbest: 0.6017808 (94)\ttotal: 12m 45s\tremaining: 40.3s\n",
      "95:\tlearn: 0.5989532\ttest: 0.6016029\tbest: 0.6016029 (95)\ttotal: 12m 54s\tremaining: 32.3s\n",
      "96:\tlearn: 0.5988738\ttest: 0.6015297\tbest: 0.6015297 (96)\ttotal: 13m 2s\tremaining: 24.2s\n",
      "97:\tlearn: 0.5985225\ttest: 0.6012106\tbest: 0.6012106 (97)\ttotal: 13m 10s\tremaining: 16.1s\n",
      "98:\tlearn: 0.5981608\ttest: 0.6008847\tbest: 0.6008847 (98)\ttotal: 13m 18s\tremaining: 8.07s\n",
      "99:\tlearn: 0.5979928\ttest: 0.6007321\tbest: 0.6007321 (99)\ttotal: 13m 26s\tremaining: 0us\n",
      "\n",
      "bestTest = 0.600732055\n",
      "bestIteration = 99\n",
      "\n",
      "Training on fold [1/5]\n",
      "0:\tlearn: 0.6579997\ttest: 0.6578154\tbest: 0.6578154 (0)\ttotal: 9.36s\tremaining: 15m 26s\n",
      "1:\tlearn: 0.6478483\ttest: 0.6477010\tbest: 0.6477010 (1)\ttotal: 17.2s\tremaining: 14m 1s\n",
      "2:\tlearn: 0.6355151\ttest: 0.6351791\tbest: 0.6351791 (2)\ttotal: 25.1s\tremaining: 13m 31s\n",
      "3:\tlearn: 0.6317571\ttest: 0.6312586\tbest: 0.6312586 (3)\ttotal: 33.2s\tremaining: 13m 15s\n",
      "4:\tlearn: 0.6299450\ttest: 0.6294133\tbest: 0.6294133 (4)\ttotal: 41.6s\tremaining: 13m 10s\n",
      "5:\tlearn: 0.6287820\ttest: 0.6282391\tbest: 0.6282391 (5)\ttotal: 49.5s\tremaining: 12m 55s\n",
      "6:\tlearn: 0.6276901\ttest: 0.6271558\tbest: 0.6271558 (6)\ttotal: 57.6s\tremaining: 12m 45s\n",
      "7:\tlearn: 0.6267124\ttest: 0.6261962\tbest: 0.6261962 (7)\ttotal: 1m 5s\tremaining: 12m 35s\n",
      "8:\tlearn: 0.6261746\ttest: 0.6256976\tbest: 0.6256976 (8)\ttotal: 1m 13s\tremaining: 12m 27s\n",
      "9:\tlearn: 0.6258032\ttest: 0.6253730\tbest: 0.6253730 (9)\ttotal: 1m 22s\tremaining: 12m 19s\n",
      "10:\tlearn: 0.6252908\ttest: 0.6248753\tbest: 0.6248753 (10)\ttotal: 1m 30s\tremaining: 12m 11s\n",
      "11:\tlearn: 0.6245385\ttest: 0.6241566\tbest: 0.6241566 (11)\ttotal: 1m 38s\tremaining: 12m\n",
      "12:\tlearn: 0.6233078\ttest: 0.6229786\tbest: 0.6229786 (12)\ttotal: 1m 46s\tremaining: 11m 49s\n",
      "13:\tlearn: 0.6228992\ttest: 0.6226040\tbest: 0.6226040 (13)\ttotal: 1m 54s\tremaining: 11m 42s\n",
      "14:\tlearn: 0.6226645\ttest: 0.6223962\tbest: 0.6223962 (14)\ttotal: 2m 2s\tremaining: 11m 35s\n",
      "15:\tlearn: 0.6216920\ttest: 0.6214212\tbest: 0.6214212 (15)\ttotal: 2m 10s\tremaining: 11m 27s\n",
      "16:\tlearn: 0.6214946\ttest: 0.6212566\tbest: 0.6212566 (16)\ttotal: 2m 18s\tremaining: 11m 17s\n",
      "17:\tlearn: 0.6211414\ttest: 0.6209575\tbest: 0.6209575 (17)\ttotal: 2m 26s\tremaining: 11m 7s\n",
      "18:\tlearn: 0.6204309\ttest: 0.6202932\tbest: 0.6202932 (18)\ttotal: 2m 34s\tremaining: 10m 59s\n",
      "19:\tlearn: 0.6202151\ttest: 0.6200840\tbest: 0.6200840 (19)\ttotal: 2m 43s\tremaining: 10m 52s\n",
      "20:\tlearn: 0.6198862\ttest: 0.6198008\tbest: 0.6198008 (20)\ttotal: 2m 51s\tremaining: 10m 44s\n",
      "21:\tlearn: 0.6196075\ttest: 0.6195400\tbest: 0.6195400 (21)\ttotal: 2m 59s\tremaining: 10m 36s\n",
      "22:\tlearn: 0.6192636\ttest: 0.6192154\tbest: 0.6192154 (22)\ttotal: 3m 7s\tremaining: 10m 26s\n",
      "23:\tlearn: 0.6189880\ttest: 0.6189972\tbest: 0.6189972 (23)\ttotal: 3m 15s\tremaining: 10m 18s\n",
      "24:\tlearn: 0.6188232\ttest: 0.6188675\tbest: 0.6188675 (24)\ttotal: 3m 23s\tremaining: 10m 10s\n",
      "25:\tlearn: 0.6184467\ttest: 0.6185423\tbest: 0.6185423 (25)\ttotal: 3m 31s\tremaining: 10m 2s\n",
      "26:\tlearn: 0.6182914\ttest: 0.6184304\tbest: 0.6184304 (26)\ttotal: 3m 40s\tremaining: 9m 55s\n",
      "27:\tlearn: 0.6179864\ttest: 0.6180991\tbest: 0.6180991 (27)\ttotal: 3m 48s\tremaining: 9m 46s\n",
      "28:\tlearn: 0.6178135\ttest: 0.6179461\tbest: 0.6179461 (28)\ttotal: 3m 56s\tremaining: 9m 38s\n",
      "29:\tlearn: 0.6175058\ttest: 0.6175999\tbest: 0.6175999 (29)\ttotal: 4m 4s\tremaining: 9m 30s\n",
      "30:\tlearn: 0.6172947\ttest: 0.6174218\tbest: 0.6174218 (30)\ttotal: 4m 12s\tremaining: 9m 22s\n",
      "31:\tlearn: 0.6169322\ttest: 0.6170628\tbest: 0.6170628 (31)\ttotal: 4m 20s\tremaining: 9m 14s\n",
      "32:\tlearn: 0.6162417\ttest: 0.6163964\tbest: 0.6163964 (32)\ttotal: 4m 28s\tremaining: 9m 5s\n",
      "33:\tlearn: 0.6157220\ttest: 0.6158867\tbest: 0.6158867 (33)\ttotal: 4m 37s\tremaining: 8m 57s\n",
      "34:\tlearn: 0.6151552\ttest: 0.6153213\tbest: 0.6153213 (34)\ttotal: 4m 44s\tremaining: 8m 49s\n",
      "35:\tlearn: 0.6149726\ttest: 0.6151547\tbest: 0.6151547 (35)\ttotal: 4m 53s\tremaining: 8m 40s\n",
      "36:\tlearn: 0.6146960\ttest: 0.6149083\tbest: 0.6149083 (36)\ttotal: 5m 1s\tremaining: 8m 32s\n",
      "37:\tlearn: 0.6141144\ttest: 0.6143774\tbest: 0.6143774 (37)\ttotal: 5m 9s\tremaining: 8m 24s\n",
      "38:\tlearn: 0.6139857\ttest: 0.6142928\tbest: 0.6142928 (38)\ttotal: 5m 17s\tremaining: 8m 16s\n",
      "39:\tlearn: 0.6138387\ttest: 0.6141435\tbest: 0.6141435 (39)\ttotal: 5m 25s\tremaining: 8m 8s\n",
      "40:\tlearn: 0.6130712\ttest: 0.6133843\tbest: 0.6133843 (40)\ttotal: 5m 33s\tremaining: 8m\n",
      "41:\tlearn: 0.6126445\ttest: 0.6129759\tbest: 0.6129759 (41)\ttotal: 5m 42s\tremaining: 7m 52s\n",
      "42:\tlearn: 0.6124161\ttest: 0.6127992\tbest: 0.6127992 (42)\ttotal: 5m 50s\tremaining: 7m 43s\n",
      "43:\tlearn: 0.6117803\ttest: 0.6122201\tbest: 0.6122201 (43)\ttotal: 5m 58s\tremaining: 7m 35s\n",
      "44:\tlearn: 0.6115871\ttest: 0.6120489\tbest: 0.6120489 (44)\ttotal: 6m 5s\tremaining: 7m 27s\n",
      "45:\tlearn: 0.6113608\ttest: 0.6118601\tbest: 0.6118601 (45)\ttotal: 6m 13s\tremaining: 7m 18s\n",
      "46:\tlearn: 0.6105941\ttest: 0.6111143\tbest: 0.6111143 (46)\ttotal: 6m 21s\tremaining: 7m 10s\n",
      "47:\tlearn: 0.6101889\ttest: 0.6107303\tbest: 0.6107303 (47)\ttotal: 6m 30s\tremaining: 7m 2s\n",
      "48:\tlearn: 0.6098906\ttest: 0.6104676\tbest: 0.6104676 (48)\ttotal: 6m 37s\tremaining: 6m 54s\n",
      "49:\tlearn: 0.6094997\ttest: 0.6101369\tbest: 0.6101369 (49)\ttotal: 6m 45s\tremaining: 6m 45s\n",
      "50:\tlearn: 0.6091447\ttest: 0.6098065\tbest: 0.6098065 (50)\ttotal: 6m 54s\tremaining: 6m 37s\n",
      "51:\tlearn: 0.6087698\ttest: 0.6095070\tbest: 0.6095070 (51)\ttotal: 7m 1s\tremaining: 6m 29s\n",
      "52:\tlearn: 0.6086621\ttest: 0.6094301\tbest: 0.6094301 (52)\ttotal: 7m 10s\tremaining: 6m 21s\n",
      "53:\tlearn: 0.6082731\ttest: 0.6090551\tbest: 0.6090551 (53)\ttotal: 7m 17s\tremaining: 6m 12s\n",
      "54:\tlearn: 0.6081223\ttest: 0.6089331\tbest: 0.6089331 (54)\ttotal: 7m 25s\tremaining: 6m 4s\n",
      "55:\tlearn: 0.6079239\ttest: 0.6087800\tbest: 0.6087800 (55)\ttotal: 7m 33s\tremaining: 5m 56s\n",
      "56:\tlearn: 0.6078302\ttest: 0.6086904\tbest: 0.6086904 (56)\ttotal: 7m 42s\tremaining: 5m 48s\n",
      "57:\tlearn: 0.6075591\ttest: 0.6084460\tbest: 0.6084460 (57)\ttotal: 7m 50s\tremaining: 5m 40s\n",
      "58:\tlearn: 0.6071834\ttest: 0.6081163\tbest: 0.6081163 (58)\ttotal: 7m 58s\tremaining: 5m 32s\n",
      "59:\tlearn: 0.6065918\ttest: 0.6075726\tbest: 0.6075726 (59)\ttotal: 8m 6s\tremaining: 5m 24s\n",
      "60:\tlearn: 0.6063851\ttest: 0.6073852\tbest: 0.6073852 (60)\ttotal: 8m 14s\tremaining: 5m 16s\n",
      "61:\tlearn: 0.6060932\ttest: 0.6071245\tbest: 0.6071245 (61)\ttotal: 8m 22s\tremaining: 5m 8s\n",
      "62:\tlearn: 0.6059424\ttest: 0.6070036\tbest: 0.6070036 (62)\ttotal: 8m 30s\tremaining: 4m 59s\n",
      "63:\tlearn: 0.6055530\ttest: 0.6066198\tbest: 0.6066198 (63)\ttotal: 8m 38s\tremaining: 4m 51s\n",
      "64:\tlearn: 0.6054371\ttest: 0.6065316\tbest: 0.6065316 (64)\ttotal: 8m 46s\tremaining: 4m 43s\n",
      "65:\tlearn: 0.6050027\ttest: 0.6061137\tbest: 0.6061137 (65)\ttotal: 8m 54s\tremaining: 4m 35s\n",
      "66:\tlearn: 0.6046920\ttest: 0.6058216\tbest: 0.6058216 (66)\ttotal: 9m 3s\tremaining: 4m 27s\n",
      "67:\tlearn: 0.6042522\ttest: 0.6054072\tbest: 0.6054072 (67)\ttotal: 9m 11s\tremaining: 4m 19s\n",
      "68:\tlearn: 0.6040249\ttest: 0.6051907\tbest: 0.6051907 (68)\ttotal: 9m 19s\tremaining: 4m 11s\n",
      "69:\tlearn: 0.6038086\ttest: 0.6049963\tbest: 0.6049963 (69)\ttotal: 9m 27s\tremaining: 4m 3s\n",
      "70:\tlearn: 0.6035592\ttest: 0.6047917\tbest: 0.6047917 (70)\ttotal: 9m 35s\tremaining: 3m 55s\n",
      "71:\tlearn: 0.6032007\ttest: 0.6044789\tbest: 0.6044789 (71)\ttotal: 9m 43s\tremaining: 3m 46s\n",
      "72:\tlearn: 0.6030612\ttest: 0.6043486\tbest: 0.6043486 (72)\ttotal: 9m 51s\tremaining: 3m 38s\n",
      "73:\tlearn: 0.6029773\ttest: 0.6042940\tbest: 0.6042940 (73)\ttotal: 9m 59s\tremaining: 3m 30s\n",
      "74:\tlearn: 0.6028226\ttest: 0.6041390\tbest: 0.6041390 (74)\ttotal: 10m 7s\tremaining: 3m 22s\n",
      "75:\tlearn: 0.6026703\ttest: 0.6040089\tbest: 0.6040089 (75)\ttotal: 10m 15s\tremaining: 3m 14s\n",
      "76:\tlearn: 0.6023534\ttest: 0.6037110\tbest: 0.6037110 (76)\ttotal: 10m 23s\tremaining: 3m 6s\n",
      "77:\tlearn: 0.6020187\ttest: 0.6033935\tbest: 0.6033935 (77)\ttotal: 10m 31s\tremaining: 2m 58s\n",
      "78:\tlearn: 0.6018845\ttest: 0.6032988\tbest: 0.6032988 (78)\ttotal: 10m 39s\tremaining: 2m 49s\n",
      "79:\tlearn: 0.6015117\ttest: 0.6029488\tbest: 0.6029488 (79)\ttotal: 10m 47s\tremaining: 2m 41s\n",
      "80:\tlearn: 0.6014662\ttest: 0.6029105\tbest: 0.6029105 (80)\ttotal: 10m 55s\tremaining: 2m 33s\n",
      "81:\tlearn: 0.6011612\ttest: 0.6026017\tbest: 0.6026017 (81)\ttotal: 11m 3s\tremaining: 2m 25s\n",
      "82:\tlearn: 0.6009140\ttest: 0.6024247\tbest: 0.6024247 (82)\ttotal: 11m 11s\tremaining: 2m 17s\n",
      "83:\tlearn: 0.6007909\ttest: 0.6022991\tbest: 0.6022991 (83)\ttotal: 11m 19s\tremaining: 2m 9s\n",
      "84:\tlearn: 0.6006380\ttest: 0.6021770\tbest: 0.6021770 (84)\ttotal: 11m 27s\tremaining: 2m 1s\n",
      "85:\tlearn: 0.6005710\ttest: 0.6021272\tbest: 0.6021272 (85)\ttotal: 11m 35s\tremaining: 1m 53s\n",
      "86:\tlearn: 0.6003253\ttest: 0.6019065\tbest: 0.6019065 (86)\ttotal: 11m 43s\tremaining: 1m 45s\n",
      "87:\tlearn: 0.6001789\ttest: 0.6018093\tbest: 0.6018093 (87)\ttotal: 11m 50s\tremaining: 1m 36s\n",
      "88:\tlearn: 0.5999717\ttest: 0.6016373\tbest: 0.6016373 (88)\ttotal: 11m 59s\tremaining: 1m 28s\n",
      "89:\tlearn: 0.5997429\ttest: 0.6014320\tbest: 0.6014320 (89)\ttotal: 12m 7s\tremaining: 1m 20s\n",
      "90:\tlearn: 0.5996795\ttest: 0.6013783\tbest: 0.6013783 (90)\ttotal: 12m 15s\tremaining: 1m 12s\n",
      "91:\tlearn: 0.5995690\ttest: 0.6013017\tbest: 0.6013017 (91)\ttotal: 12m 23s\tremaining: 1m 4s\n",
      "92:\tlearn: 0.5993037\ttest: 0.6010392\tbest: 0.6010392 (92)\ttotal: 12m 31s\tremaining: 56.6s\n",
      "93:\tlearn: 0.5992050\ttest: 0.6009805\tbest: 0.6009805 (93)\ttotal: 12m 39s\tremaining: 48.5s\n",
      "94:\tlearn: 0.5989723\ttest: 0.6007562\tbest: 0.6007562 (94)\ttotal: 12m 47s\tremaining: 40.4s\n",
      "95:\tlearn: 0.5985554\ttest: 0.6003682\tbest: 0.6003682 (95)\ttotal: 12m 55s\tremaining: 32.3s\n",
      "96:\tlearn: 0.5985153\ttest: 0.6003379\tbest: 0.6003379 (96)\ttotal: 13m 3s\tremaining: 24.2s\n",
      "97:\tlearn: 0.5983899\ttest: 0.6002492\tbest: 0.6002492 (97)\ttotal: 13m 11s\tremaining: 16.1s\n",
      "98:\tlearn: 0.5983060\ttest: 0.6002032\tbest: 0.6002032 (98)\ttotal: 13m 19s\tremaining: 8.07s\n",
      "99:\tlearn: 0.5982213\ttest: 0.6001533\tbest: 0.6001533 (99)\ttotal: 13m 27s\tremaining: 0us\n",
      "\n",
      "bestTest = 0.6001533481\n",
      "bestIteration = 99\n",
      "\n",
      "Training on fold [2/5]\n",
      "0:\tlearn: 0.6582243\ttest: 0.6579903\tbest: 0.6579903 (0)\ttotal: 9.61s\tremaining: 15m 51s\n",
      "1:\tlearn: 0.6480567\ttest: 0.6477395\tbest: 0.6477395 (1)\ttotal: 18.1s\tremaining: 14m 45s\n",
      "2:\tlearn: 0.6357455\ttest: 0.6353235\tbest: 0.6353235 (2)\ttotal: 26.4s\tremaining: 14m 15s\n",
      "3:\tlearn: 0.6321408\ttest: 0.6316164\tbest: 0.6316164 (3)\ttotal: 34.3s\tremaining: 13m 44s\n",
      "4:\tlearn: 0.6301159\ttest: 0.6295092\tbest: 0.6295092 (4)\ttotal: 42.5s\tremaining: 13m 27s\n",
      "5:\tlearn: 0.6290346\ttest: 0.6284235\tbest: 0.6284235 (5)\ttotal: 50.3s\tremaining: 13m 8s\n",
      "6:\tlearn: 0.6280399\ttest: 0.6274956\tbest: 0.6274956 (6)\ttotal: 58.5s\tremaining: 12m 57s\n",
      "7:\tlearn: 0.6264039\ttest: 0.6258561\tbest: 0.6258561 (7)\ttotal: 1m 6s\tremaining: 12m 50s\n",
      "8:\tlearn: 0.6258793\ttest: 0.6253771\tbest: 0.6253771 (8)\ttotal: 1m 15s\tremaining: 12m 40s\n",
      "9:\tlearn: 0.6252954\ttest: 0.6248129\tbest: 0.6248129 (9)\ttotal: 1m 22s\tremaining: 12m 25s\n",
      "10:\tlearn: 0.6247830\ttest: 0.6243391\tbest: 0.6243391 (10)\ttotal: 1m 30s\tremaining: 12m 16s\n",
      "11:\tlearn: 0.6242852\ttest: 0.6238994\tbest: 0.6238994 (11)\ttotal: 1m 39s\tremaining: 12m 7s\n",
      "12:\tlearn: 0.6234634\ttest: 0.6231059\tbest: 0.6231059 (12)\ttotal: 1m 47s\tremaining: 11m 58s\n",
      "13:\tlearn: 0.6232343\ttest: 0.6229260\tbest: 0.6229260 (13)\ttotal: 1m 55s\tremaining: 11m 49s\n",
      "14:\tlearn: 0.6228390\ttest: 0.6224886\tbest: 0.6224886 (14)\ttotal: 2m 3s\tremaining: 11m 39s\n",
      "15:\tlearn: 0.6223018\ttest: 0.6219886\tbest: 0.6219886 (15)\ttotal: 2m 11s\tremaining: 11m 29s\n",
      "16:\tlearn: 0.6220117\ttest: 0.6217497\tbest: 0.6217497 (16)\ttotal: 2m 19s\tremaining: 11m 20s\n",
      "17:\tlearn: 0.6217215\ttest: 0.6214957\tbest: 0.6214957 (17)\ttotal: 2m 27s\tremaining: 11m 11s\n",
      "18:\tlearn: 0.6213429\ttest: 0.6211278\tbest: 0.6211278 (18)\ttotal: 2m 35s\tremaining: 11m 3s\n",
      "19:\tlearn: 0.6208802\ttest: 0.6207626\tbest: 0.6207626 (19)\ttotal: 2m 43s\tremaining: 10m 55s\n",
      "20:\tlearn: 0.6201596\ttest: 0.6200828\tbest: 0.6200828 (20)\ttotal: 2m 51s\tremaining: 10m 45s\n",
      "21:\tlearn: 0.6198665\ttest: 0.6198226\tbest: 0.6198226 (21)\ttotal: 2m 59s\tremaining: 10m 37s\n",
      "22:\tlearn: 0.6192725\ttest: 0.6192500\tbest: 0.6192500 (22)\ttotal: 3m 8s\tremaining: 10m 29s\n",
      "23:\tlearn: 0.6191799\ttest: 0.6191857\tbest: 0.6191857 (23)\ttotal: 3m 15s\tremaining: 10m 19s\n",
      "24:\tlearn: 0.6188568\ttest: 0.6188885\tbest: 0.6188885 (24)\ttotal: 3m 23s\tremaining: 10m 10s\n",
      "25:\tlearn: 0.6185720\ttest: 0.6186458\tbest: 0.6186458 (25)\ttotal: 3m 31s\tremaining: 10m 1s\n",
      "26:\tlearn: 0.6182054\ttest: 0.6183070\tbest: 0.6183070 (26)\ttotal: 3m 39s\tremaining: 9m 53s\n",
      "27:\tlearn: 0.6180346\ttest: 0.6181473\tbest: 0.6181473 (27)\ttotal: 3m 47s\tremaining: 9m 44s\n",
      "28:\tlearn: 0.6173928\ttest: 0.6175724\tbest: 0.6175724 (28)\ttotal: 3m 55s\tremaining: 9m 36s\n",
      "29:\tlearn: 0.6171482\ttest: 0.6174027\tbest: 0.6174027 (29)\ttotal: 4m 3s\tremaining: 9m 29s\n",
      "30:\tlearn: 0.6169616\ttest: 0.6172476\tbest: 0.6172476 (30)\ttotal: 4m 11s\tremaining: 9m 20s\n",
      "31:\tlearn: 0.6165880\ttest: 0.6168966\tbest: 0.6168966 (31)\ttotal: 4m 20s\tremaining: 9m 12s\n",
      "32:\tlearn: 0.6162848\ttest: 0.6166058\tbest: 0.6166058 (32)\ttotal: 4m 28s\tremaining: 9m 4s\n",
      "33:\tlearn: 0.6161034\ttest: 0.6164599\tbest: 0.6164599 (33)\ttotal: 4m 35s\tremaining: 8m 55s\n",
      "34:\tlearn: 0.6156881\ttest: 0.6160682\tbest: 0.6160682 (34)\ttotal: 4m 43s\tremaining: 8m 46s\n",
      "35:\tlearn: 0.6152610\ttest: 0.6156935\tbest: 0.6156935 (35)\ttotal: 4m 51s\tremaining: 8m 38s\n",
      "36:\tlearn: 0.6145893\ttest: 0.6150520\tbest: 0.6150520 (36)\ttotal: 4m 59s\tremaining: 8m 30s\n",
      "37:\tlearn: 0.6143317\ttest: 0.6148471\tbest: 0.6148471 (37)\ttotal: 5m 7s\tremaining: 8m 21s\n",
      "38:\tlearn: 0.6142252\ttest: 0.6147718\tbest: 0.6147718 (38)\ttotal: 5m 15s\tremaining: 8m 13s\n",
      "39:\tlearn: 0.6140589\ttest: 0.6146197\tbest: 0.6146197 (39)\ttotal: 5m 23s\tremaining: 8m 5s\n",
      "40:\tlearn: 0.6137806\ttest: 0.6143817\tbest: 0.6143817 (40)\ttotal: 5m 32s\tremaining: 7m 57s\n",
      "41:\tlearn: 0.6135334\ttest: 0.6141474\tbest: 0.6141474 (41)\ttotal: 5m 40s\tremaining: 7m 49s\n",
      "42:\tlearn: 0.6128802\ttest: 0.6135017\tbest: 0.6135017 (42)\ttotal: 5m 48s\tremaining: 7m 42s\n",
      "43:\tlearn: 0.6122687\ttest: 0.6129505\tbest: 0.6129505 (43)\ttotal: 5m 57s\tremaining: 7m 34s\n",
      "44:\tlearn: 0.6117075\ttest: 0.6124059\tbest: 0.6124059 (44)\ttotal: 6m 5s\tremaining: 7m 26s\n",
      "45:\tlearn: 0.6115727\ttest: 0.6123078\tbest: 0.6123078 (45)\ttotal: 6m 13s\tremaining: 7m 18s\n",
      "46:\tlearn: 0.6114681\ttest: 0.6122164\tbest: 0.6122164 (46)\ttotal: 6m 21s\tremaining: 7m 10s\n",
      "47:\tlearn: 0.6112111\ttest: 0.6119702\tbest: 0.6119702 (47)\ttotal: 6m 29s\tremaining: 7m 2s\n",
      "48:\tlearn: 0.6110946\ttest: 0.6118867\tbest: 0.6118867 (48)\ttotal: 6m 38s\tremaining: 6m 54s\n",
      "49:\tlearn: 0.6107639\ttest: 0.6115906\tbest: 0.6115906 (49)\ttotal: 6m 46s\tremaining: 6m 46s\n",
      "50:\tlearn: 0.6104507\ttest: 0.6112989\tbest: 0.6112989 (50)\ttotal: 6m 54s\tremaining: 6m 38s\n",
      "51:\tlearn: 0.6100265\ttest: 0.6108792\tbest: 0.6108792 (51)\ttotal: 7m 2s\tremaining: 6m 30s\n",
      "52:\tlearn: 0.6096483\ttest: 0.6105204\tbest: 0.6105204 (52)\ttotal: 7m 10s\tremaining: 6m 22s\n",
      "53:\tlearn: 0.6091339\ttest: 0.6100105\tbest: 0.6100105 (53)\ttotal: 7m 18s\tremaining: 6m 13s\n",
      "54:\tlearn: 0.6090443\ttest: 0.6099324\tbest: 0.6099324 (54)\ttotal: 7m 27s\tremaining: 6m 5s\n",
      "55:\tlearn: 0.6085923\ttest: 0.6094905\tbest: 0.6094905 (55)\ttotal: 7m 35s\tremaining: 5m 57s\n",
      "56:\tlearn: 0.6082078\ttest: 0.6091288\tbest: 0.6091288 (56)\ttotal: 7m 43s\tremaining: 5m 49s\n",
      "57:\tlearn: 0.6079785\ttest: 0.6089394\tbest: 0.6089394 (57)\ttotal: 7m 51s\tremaining: 5m 41s\n",
      "58:\tlearn: 0.6077082\ttest: 0.6087159\tbest: 0.6087159 (58)\ttotal: 7m 59s\tremaining: 5m 33s\n",
      "59:\tlearn: 0.6075638\ttest: 0.6086116\tbest: 0.6086116 (59)\ttotal: 8m 7s\tremaining: 5m 24s\n",
      "60:\tlearn: 0.6070574\ttest: 0.6081375\tbest: 0.6081375 (60)\ttotal: 8m 15s\tremaining: 5m 16s\n",
      "61:\tlearn: 0.6067844\ttest: 0.6079277\tbest: 0.6079277 (61)\ttotal: 8m 23s\tremaining: 5m 8s\n",
      "62:\tlearn: 0.6065936\ttest: 0.6077650\tbest: 0.6077650 (62)\ttotal: 8m 31s\tremaining: 5m\n",
      "63:\tlearn: 0.6062833\ttest: 0.6074921\tbest: 0.6074921 (63)\ttotal: 8m 39s\tremaining: 4m 51s\n",
      "64:\tlearn: 0.6058038\ttest: 0.6070037\tbest: 0.6070037 (64)\ttotal: 8m 46s\tremaining: 4m 43s\n",
      "65:\tlearn: 0.6055887\ttest: 0.6067955\tbest: 0.6067955 (65)\ttotal: 8m 54s\tremaining: 4m 35s\n",
      "66:\tlearn: 0.6054431\ttest: 0.6066691\tbest: 0.6066691 (66)\ttotal: 9m 2s\tremaining: 4m 27s\n",
      "67:\tlearn: 0.6052614\ttest: 0.6065173\tbest: 0.6065173 (67)\ttotal: 9m 10s\tremaining: 4m 19s\n",
      "68:\tlearn: 0.6050875\ttest: 0.6063581\tbest: 0.6063581 (68)\ttotal: 9m 18s\tremaining: 4m 10s\n",
      "69:\tlearn: 0.6048818\ttest: 0.6061650\tbest: 0.6061650 (69)\ttotal: 9m 26s\tremaining: 4m 2s\n",
      "70:\tlearn: 0.6045033\ttest: 0.6058315\tbest: 0.6058315 (70)\ttotal: 9m 34s\tremaining: 3m 54s\n",
      "71:\tlearn: 0.6041642\ttest: 0.6055040\tbest: 0.6055040 (71)\ttotal: 9m 42s\tremaining: 3m 46s\n",
      "72:\tlearn: 0.6040189\ttest: 0.6054011\tbest: 0.6054011 (72)\ttotal: 9m 50s\tremaining: 3m 38s\n",
      "73:\tlearn: 0.6036990\ttest: 0.6051118\tbest: 0.6051118 (73)\ttotal: 9m 58s\tremaining: 3m 30s\n",
      "74:\tlearn: 0.6035724\ttest: 0.6050086\tbest: 0.6050086 (74)\ttotal: 10m 6s\tremaining: 3m 22s\n",
      "75:\tlearn: 0.6035122\ttest: 0.6049849\tbest: 0.6049849 (75)\ttotal: 10m 14s\tremaining: 3m 14s\n",
      "76:\tlearn: 0.6033439\ttest: 0.6048256\tbest: 0.6048256 (76)\ttotal: 10m 22s\tremaining: 3m 6s\n",
      "77:\tlearn: 0.6032045\ttest: 0.6046975\tbest: 0.6046975 (77)\ttotal: 10m 30s\tremaining: 2m 57s\n",
      "78:\tlearn: 0.6030063\ttest: 0.6045098\tbest: 0.6045098 (78)\ttotal: 10m 38s\tremaining: 2m 49s\n",
      "79:\tlearn: 0.6026758\ttest: 0.6041957\tbest: 0.6041957 (79)\ttotal: 10m 47s\tremaining: 2m 41s\n",
      "80:\tlearn: 0.6021206\ttest: 0.6036779\tbest: 0.6036779 (80)\ttotal: 10m 55s\tremaining: 2m 33s\n",
      "81:\tlearn: 0.6020123\ttest: 0.6036065\tbest: 0.6036065 (81)\ttotal: 11m 3s\tremaining: 2m 25s\n",
      "82:\tlearn: 0.6018559\ttest: 0.6034967\tbest: 0.6034967 (82)\ttotal: 11m 12s\tremaining: 2m 17s\n",
      "83:\tlearn: 0.6016521\ttest: 0.6033342\tbest: 0.6033342 (83)\ttotal: 11m 20s\tremaining: 2m 9s\n",
      "84:\tlearn: 0.6015719\ttest: 0.6032645\tbest: 0.6032645 (84)\ttotal: 11m 27s\tremaining: 2m 1s\n",
      "85:\tlearn: 0.6013935\ttest: 0.6031221\tbest: 0.6031221 (85)\ttotal: 11m 36s\tremaining: 1m 53s\n",
      "86:\tlearn: 0.6010371\ttest: 0.6027845\tbest: 0.6027845 (86)\ttotal: 11m 43s\tremaining: 1m 45s\n",
      "87:\tlearn: 0.6008534\ttest: 0.6026655\tbest: 0.6026655 (87)\ttotal: 11m 51s\tremaining: 1m 37s\n",
      "88:\tlearn: 0.6005391\ttest: 0.6024137\tbest: 0.6024137 (88)\ttotal: 11m 59s\tremaining: 1m 28s\n",
      "89:\tlearn: 0.6002630\ttest: 0.6021574\tbest: 0.6021574 (89)\ttotal: 12m 7s\tremaining: 1m 20s\n",
      "90:\tlearn: 0.5999045\ttest: 0.6017968\tbest: 0.6017968 (90)\ttotal: 12m 14s\tremaining: 1m 12s\n",
      "91:\tlearn: 0.5998119\ttest: 0.6017474\tbest: 0.6017474 (91)\ttotal: 12m 23s\tremaining: 1m 4s\n",
      "92:\tlearn: 0.5994564\ttest: 0.6014228\tbest: 0.6014228 (92)\ttotal: 12m 31s\tremaining: 56.6s\n",
      "93:\tlearn: 0.5991955\ttest: 0.6012294\tbest: 0.6012294 (93)\ttotal: 12m 39s\tremaining: 48.5s\n",
      "94:\tlearn: 0.5988707\ttest: 0.6009132\tbest: 0.6009132 (94)\ttotal: 12m 47s\tremaining: 40.4s\n",
      "95:\tlearn: 0.5986529\ttest: 0.6007251\tbest: 0.6007251 (95)\ttotal: 12m 55s\tremaining: 32.3s\n",
      "96:\tlearn: 0.5984266\ttest: 0.6005070\tbest: 0.6005070 (96)\ttotal: 13m 3s\tremaining: 24.2s\n",
      "97:\tlearn: 0.5982046\ttest: 0.6003386\tbest: 0.6003386 (97)\ttotal: 13m 11s\tremaining: 16.2s\n",
      "98:\tlearn: 0.5980521\ttest: 0.6001889\tbest: 0.6001889 (98)\ttotal: 13m 19s\tremaining: 8.08s\n",
      "99:\tlearn: 0.5979185\ttest: 0.6000701\tbest: 0.6000701 (99)\ttotal: 13m 27s\tremaining: 0us\n",
      "\n",
      "bestTest = 0.6000701151\n",
      "bestIteration = 99\n",
      "\n",
      "Training on fold [3/5]\n",
      "0:\tlearn: 0.6578993\ttest: 0.6580891\tbest: 0.6580891 (0)\ttotal: 9.8s\tremaining: 16m 10s\n",
      "1:\tlearn: 0.6476873\ttest: 0.6480634\tbest: 0.6480634 (1)\ttotal: 18.1s\tremaining: 14m 47s\n",
      "2:\tlearn: 0.6354394\ttest: 0.6356270\tbest: 0.6356270 (2)\ttotal: 26.2s\tremaining: 14m 6s\n",
      "3:\tlearn: 0.6319154\ttest: 0.6320368\tbest: 0.6320368 (3)\ttotal: 34.6s\tremaining: 13m 49s\n",
      "4:\tlearn: 0.6299163\ttest: 0.6299595\tbest: 0.6299595 (4)\ttotal: 42.3s\tremaining: 13m 24s\n",
      "5:\tlearn: 0.6285194\ttest: 0.6286010\tbest: 0.6286010 (5)\ttotal: 50.5s\tremaining: 13m 11s\n",
      "6:\tlearn: 0.6277435\ttest: 0.6278076\tbest: 0.6278076 (6)\ttotal: 58.5s\tremaining: 12m 57s\n",
      "7:\tlearn: 0.6268392\ttest: 0.6269805\tbest: 0.6269805 (7)\ttotal: 1m 6s\tremaining: 12m 43s\n",
      "8:\tlearn: 0.6259780\ttest: 0.6261331\tbest: 0.6261331 (8)\ttotal: 1m 14s\tremaining: 12m 33s\n",
      "9:\tlearn: 0.6254295\ttest: 0.6256353\tbest: 0.6256353 (9)\ttotal: 1m 22s\tremaining: 12m 25s\n",
      "10:\tlearn: 0.6250947\ttest: 0.6253789\tbest: 0.6253789 (10)\ttotal: 1m 30s\tremaining: 12m 13s\n",
      "11:\tlearn: 0.6242939\ttest: 0.6246151\tbest: 0.6246151 (11)\ttotal: 1m 39s\tremaining: 12m 6s\n",
      "12:\tlearn: 0.6239129\ttest: 0.6242798\tbest: 0.6242798 (12)\ttotal: 1m 47s\tremaining: 11m 59s\n",
      "13:\tlearn: 0.6235976\ttest: 0.6240190\tbest: 0.6240190 (13)\ttotal: 1m 55s\tremaining: 11m 51s\n",
      "14:\tlearn: 0.6231129\ttest: 0.6236156\tbest: 0.6236156 (14)\ttotal: 2m 3s\tremaining: 11m 42s\n",
      "15:\tlearn: 0.6224793\ttest: 0.6229765\tbest: 0.6229765 (15)\ttotal: 2m 12s\tremaining: 11m 35s\n",
      "16:\tlearn: 0.6216800\ttest: 0.6222051\tbest: 0.6222051 (16)\ttotal: 2m 20s\tremaining: 11m 25s\n",
      "17:\tlearn: 0.6212036\ttest: 0.6217301\tbest: 0.6217301 (17)\ttotal: 2m 28s\tremaining: 11m 15s\n",
      "18:\tlearn: 0.6208466\ttest: 0.6213995\tbest: 0.6213995 (18)\ttotal: 2m 36s\tremaining: 11m 6s\n",
      "19:\tlearn: 0.6203103\ttest: 0.6208619\tbest: 0.6208619 (19)\ttotal: 2m 44s\tremaining: 10m 56s\n",
      "20:\tlearn: 0.6201236\ttest: 0.6207051\tbest: 0.6207051 (20)\ttotal: 2m 52s\tremaining: 10m 47s\n",
      "21:\tlearn: 0.6197768\ttest: 0.6203831\tbest: 0.6203831 (21)\ttotal: 3m\tremaining: 10m 39s\n",
      "22:\tlearn: 0.6193707\ttest: 0.6200182\tbest: 0.6200182 (22)\ttotal: 3m 8s\tremaining: 10m 29s\n",
      "23:\tlearn: 0.6189088\ttest: 0.6195867\tbest: 0.6195867 (23)\ttotal: 3m 16s\tremaining: 10m 21s\n",
      "24:\tlearn: 0.6185192\ttest: 0.6192445\tbest: 0.6192445 (24)\ttotal: 3m 24s\tremaining: 10m 12s\n",
      "25:\tlearn: 0.6182656\ttest: 0.6190186\tbest: 0.6190186 (25)\ttotal: 3m 32s\tremaining: 10m 5s\n",
      "26:\tlearn: 0.6178125\ttest: 0.6185921\tbest: 0.6185921 (26)\ttotal: 3m 41s\tremaining: 9m 58s\n",
      "27:\tlearn: 0.6175302\ttest: 0.6183880\tbest: 0.6183880 (27)\ttotal: 3m 49s\tremaining: 9m 50s\n",
      "28:\tlearn: 0.6173193\ttest: 0.6181869\tbest: 0.6181869 (28)\ttotal: 3m 57s\tremaining: 9m 42s\n",
      "29:\tlearn: 0.6169679\ttest: 0.6178438\tbest: 0.6178438 (29)\ttotal: 4m 5s\tremaining: 9m 33s\n",
      "30:\tlearn: 0.6168315\ttest: 0.6177442\tbest: 0.6177442 (30)\ttotal: 4m 13s\tremaining: 9m 25s\n",
      "31:\tlearn: 0.6163884\ttest: 0.6173266\tbest: 0.6173266 (31)\ttotal: 4m 21s\tremaining: 9m 16s\n",
      "32:\tlearn: 0.6159106\ttest: 0.6168611\tbest: 0.6168611 (32)\ttotal: 4m 29s\tremaining: 9m 7s\n",
      "33:\tlearn: 0.6153294\ttest: 0.6163035\tbest: 0.6163035 (33)\ttotal: 4m 37s\tremaining: 8m 58s\n",
      "34:\tlearn: 0.6149207\ttest: 0.6159787\tbest: 0.6159787 (34)\ttotal: 4m 45s\tremaining: 8m 50s\n",
      "35:\tlearn: 0.6146654\ttest: 0.6157691\tbest: 0.6157691 (35)\ttotal: 4m 53s\tremaining: 8m 42s\n",
      "36:\tlearn: 0.6143527\ttest: 0.6154566\tbest: 0.6154566 (36)\ttotal: 5m 1s\tremaining: 8m 33s\n",
      "37:\tlearn: 0.6138730\ttest: 0.6150139\tbest: 0.6150139 (37)\ttotal: 5m 9s\tremaining: 8m 25s\n",
      "38:\tlearn: 0.6136887\ttest: 0.6148551\tbest: 0.6148551 (38)\ttotal: 5m 17s\tremaining: 8m 17s\n",
      "39:\tlearn: 0.6133847\ttest: 0.6145810\tbest: 0.6145810 (39)\ttotal: 5m 25s\tremaining: 8m 8s\n",
      "40:\tlearn: 0.6130373\ttest: 0.6142708\tbest: 0.6142708 (40)\ttotal: 5m 33s\tremaining: 8m\n",
      "41:\tlearn: 0.6124064\ttest: 0.6136436\tbest: 0.6136436 (41)\ttotal: 5m 42s\tremaining: 7m 52s\n",
      "42:\tlearn: 0.6122159\ttest: 0.6134739\tbest: 0.6134739 (42)\ttotal: 5m 50s\tremaining: 7m 44s\n",
      "43:\tlearn: 0.6119789\ttest: 0.6132506\tbest: 0.6132506 (43)\ttotal: 5m 58s\tremaining: 7m 36s\n",
      "44:\tlearn: 0.6116276\ttest: 0.6129013\tbest: 0.6129013 (44)\ttotal: 6m 6s\tremaining: 7m 28s\n",
      "45:\tlearn: 0.6111644\ttest: 0.6124258\tbest: 0.6124258 (45)\ttotal: 6m 15s\tremaining: 7m 20s\n",
      "46:\tlearn: 0.6110503\ttest: 0.6123180\tbest: 0.6123180 (46)\ttotal: 6m 22s\tremaining: 7m 11s\n",
      "47:\tlearn: 0.6105728\ttest: 0.6118796\tbest: 0.6118796 (47)\ttotal: 6m 30s\tremaining: 7m 3s\n",
      "48:\tlearn: 0.6104099\ttest: 0.6117354\tbest: 0.6117354 (48)\ttotal: 6m 38s\tremaining: 6m 54s\n",
      "49:\tlearn: 0.6101961\ttest: 0.6115630\tbest: 0.6115630 (49)\ttotal: 6m 46s\tremaining: 6m 46s\n",
      "50:\tlearn: 0.6100385\ttest: 0.6114527\tbest: 0.6114527 (50)\ttotal: 6m 54s\tremaining: 6m 37s\n",
      "51:\tlearn: 0.6097570\ttest: 0.6112060\tbest: 0.6112060 (51)\ttotal: 7m 1s\tremaining: 6m 29s\n",
      "52:\tlearn: 0.6093026\ttest: 0.6107823\tbest: 0.6107823 (52)\ttotal: 7m 9s\tremaining: 6m 20s\n",
      "53:\tlearn: 0.6087218\ttest: 0.6101927\tbest: 0.6101927 (53)\ttotal: 7m 17s\tremaining: 6m 12s\n",
      "54:\tlearn: 0.6085336\ttest: 0.6100261\tbest: 0.6100261 (54)\ttotal: 7m 25s\tremaining: 6m 4s\n",
      "55:\tlearn: 0.6081296\ttest: 0.6096523\tbest: 0.6096523 (55)\ttotal: 7m 33s\tremaining: 5m 56s\n",
      "56:\tlearn: 0.6076508\ttest: 0.6091923\tbest: 0.6091923 (56)\ttotal: 7m 40s\tremaining: 5m 47s\n",
      "57:\tlearn: 0.6074571\ttest: 0.6090183\tbest: 0.6090183 (57)\ttotal: 7m 49s\tremaining: 5m 39s\n",
      "58:\tlearn: 0.6071517\ttest: 0.6087021\tbest: 0.6087021 (58)\ttotal: 7m 56s\tremaining: 5m 31s\n",
      "59:\tlearn: 0.6069628\ttest: 0.6085226\tbest: 0.6085226 (59)\ttotal: 8m 5s\tremaining: 5m 23s\n",
      "60:\tlearn: 0.6066875\ttest: 0.6082485\tbest: 0.6082485 (60)\ttotal: 8m 13s\tremaining: 5m 15s\n",
      "61:\tlearn: 0.6064084\ttest: 0.6079739\tbest: 0.6079739 (61)\ttotal: 8m 21s\tremaining: 5m 7s\n",
      "62:\tlearn: 0.6063288\ttest: 0.6079122\tbest: 0.6079122 (62)\ttotal: 8m 29s\tremaining: 4m 59s\n",
      "63:\tlearn: 0.6061561\ttest: 0.6077775\tbest: 0.6077775 (63)\ttotal: 8m 37s\tremaining: 4m 51s\n",
      "64:\tlearn: 0.6058726\ttest: 0.6075251\tbest: 0.6075251 (64)\ttotal: 8m 45s\tremaining: 4m 42s\n",
      "65:\tlearn: 0.6057301\ttest: 0.6073948\tbest: 0.6073948 (65)\ttotal: 8m 53s\tremaining: 4m 34s\n",
      "66:\tlearn: 0.6054837\ttest: 0.6071843\tbest: 0.6071843 (66)\ttotal: 9m 1s\tremaining: 4m 26s\n",
      "67:\tlearn: 0.6052258\ttest: 0.6069944\tbest: 0.6069944 (67)\ttotal: 9m 10s\tremaining: 4m 18s\n",
      "68:\tlearn: 0.6049961\ttest: 0.6068107\tbest: 0.6068107 (68)\ttotal: 9m 17s\tremaining: 4m 10s\n",
      "69:\tlearn: 0.6045281\ttest: 0.6063839\tbest: 0.6063839 (69)\ttotal: 9m 25s\tremaining: 4m 2s\n",
      "70:\tlearn: 0.6040852\ttest: 0.6059445\tbest: 0.6059445 (70)\ttotal: 9m 34s\tremaining: 3m 54s\n",
      "71:\tlearn: 0.6038296\ttest: 0.6057073\tbest: 0.6057073 (71)\ttotal: 9m 42s\tremaining: 3m 46s\n",
      "72:\tlearn: 0.6035123\ttest: 0.6053951\tbest: 0.6053951 (72)\ttotal: 9m 49s\tremaining: 3m 38s\n",
      "73:\tlearn: 0.6033499\ttest: 0.6052541\tbest: 0.6052541 (73)\ttotal: 9m 58s\tremaining: 3m 30s\n",
      "74:\tlearn: 0.6029647\ttest: 0.6048522\tbest: 0.6048522 (74)\ttotal: 10m 6s\tremaining: 3m 22s\n",
      "75:\tlearn: 0.6026982\ttest: 0.6046120\tbest: 0.6046120 (75)\ttotal: 10m 14s\tremaining: 3m 14s\n",
      "76:\tlearn: 0.6025281\ttest: 0.6044943\tbest: 0.6044943 (76)\ttotal: 10m 22s\tremaining: 3m 6s\n",
      "77:\tlearn: 0.6023404\ttest: 0.6043339\tbest: 0.6043339 (77)\ttotal: 10m 30s\tremaining: 2m 57s\n",
      "78:\tlearn: 0.6021798\ttest: 0.6042018\tbest: 0.6042018 (78)\ttotal: 10m 38s\tremaining: 2m 49s\n",
      "79:\tlearn: 0.6020663\ttest: 0.6040927\tbest: 0.6040927 (79)\ttotal: 10m 47s\tremaining: 2m 41s\n",
      "80:\tlearn: 0.6020102\ttest: 0.6040672\tbest: 0.6040672 (80)\ttotal: 10m 55s\tremaining: 2m 33s\n",
      "81:\tlearn: 0.6018615\ttest: 0.6039374\tbest: 0.6039374 (81)\ttotal: 11m 3s\tremaining: 2m 25s\n",
      "82:\tlearn: 0.6015999\ttest: 0.6036965\tbest: 0.6036965 (82)\ttotal: 11m 11s\tremaining: 2m 17s\n",
      "83:\tlearn: 0.6014449\ttest: 0.6036011\tbest: 0.6036011 (83)\ttotal: 11m 19s\tremaining: 2m 9s\n",
      "84:\tlearn: 0.6013752\ttest: 0.6035424\tbest: 0.6035424 (84)\ttotal: 11m 27s\tremaining: 2m 1s\n",
      "85:\tlearn: 0.6012256\ttest: 0.6034528\tbest: 0.6034528 (85)\ttotal: 11m 35s\tremaining: 1m 53s\n",
      "86:\tlearn: 0.6010996\ttest: 0.6033592\tbest: 0.6033592 (86)\ttotal: 11m 43s\tremaining: 1m 45s\n",
      "87:\tlearn: 0.6008894\ttest: 0.6031729\tbest: 0.6031729 (87)\ttotal: 11m 52s\tremaining: 1m 37s\n",
      "88:\tlearn: 0.6003628\ttest: 0.6026720\tbest: 0.6026720 (88)\ttotal: 11m 59s\tremaining: 1m 28s\n",
      "89:\tlearn: 0.6001031\ttest: 0.6024390\tbest: 0.6024390 (89)\ttotal: 12m 7s\tremaining: 1m 20s\n",
      "90:\tlearn: 0.5997266\ttest: 0.6020871\tbest: 0.6020871 (90)\ttotal: 12m 16s\tremaining: 1m 12s\n",
      "91:\tlearn: 0.5995979\ttest: 0.6020267\tbest: 0.6020267 (91)\ttotal: 12m 23s\tremaining: 1m 4s\n",
      "92:\tlearn: 0.5994436\ttest: 0.6019152\tbest: 0.6019152 (92)\ttotal: 12m 32s\tremaining: 56.6s\n",
      "93:\tlearn: 0.5991294\ttest: 0.6016079\tbest: 0.6016079 (93)\ttotal: 12m 40s\tremaining: 48.6s\n",
      "94:\tlearn: 0.5990522\ttest: 0.6015584\tbest: 0.6015584 (94)\ttotal: 12m 48s\tremaining: 40.5s\n",
      "95:\tlearn: 0.5989451\ttest: 0.6014683\tbest: 0.6014683 (95)\ttotal: 12m 57s\tremaining: 32.4s\n",
      "96:\tlearn: 0.5986549\ttest: 0.6011819\tbest: 0.6011819 (96)\ttotal: 13m 4s\tremaining: 24.3s\n",
      "97:\tlearn: 0.5984040\ttest: 0.6009550\tbest: 0.6009550 (97)\ttotal: 13m 13s\tremaining: 16.2s\n",
      "98:\tlearn: 0.5981038\ttest: 0.6006680\tbest: 0.6006680 (98)\ttotal: 13m 21s\tremaining: 8.1s\n",
      "99:\tlearn: 0.5976664\ttest: 0.6002495\tbest: 0.6002495 (99)\ttotal: 13m 29s\tremaining: 0us\n",
      "\n",
      "bestTest = 0.6002494843\n",
      "bestIteration = 99\n",
      "\n",
      "Training on fold [4/5]\n",
      "0:\tlearn: 0.6582672\ttest: 0.6582733\tbest: 0.6582733 (0)\ttotal: 8.82s\tremaining: 14m 33s\n",
      "1:\tlearn: 0.6481875\ttest: 0.6482432\tbest: 0.6482432 (1)\ttotal: 17.5s\tremaining: 14m 19s\n",
      "2:\tlearn: 0.6357392\ttest: 0.6356989\tbest: 0.6356989 (2)\ttotal: 25.4s\tremaining: 13m 41s\n",
      "3:\tlearn: 0.6318493\ttest: 0.6316337\tbest: 0.6316337 (3)\ttotal: 32.9s\tremaining: 13m 9s\n",
      "4:\tlearn: 0.6300323\ttest: 0.6298167\tbest: 0.6298167 (4)\ttotal: 40.9s\tremaining: 12m 57s\n",
      "5:\tlearn: 0.6286869\ttest: 0.6284415\tbest: 0.6284415 (5)\ttotal: 49.1s\tremaining: 12m 48s\n",
      "6:\tlearn: 0.6277847\ttest: 0.6276288\tbest: 0.6276288 (6)\ttotal: 57.4s\tremaining: 12m 41s\n",
      "7:\tlearn: 0.6269343\ttest: 0.6268190\tbest: 0.6268190 (7)\ttotal: 1m 5s\tremaining: 12m 36s\n",
      "8:\tlearn: 0.6264757\ttest: 0.6264324\tbest: 0.6264324 (8)\ttotal: 1m 13s\tremaining: 12m 22s\n",
      "9:\tlearn: 0.6255969\ttest: 0.6255623\tbest: 0.6255623 (9)\ttotal: 1m 21s\tremaining: 12m 12s\n",
      "10:\tlearn: 0.6252345\ttest: 0.6252170\tbest: 0.6252170 (10)\ttotal: 1m 29s\tremaining: 12m 5s\n",
      "11:\tlearn: 0.6245044\ttest: 0.6245013\tbest: 0.6245013 (11)\ttotal: 1m 37s\tremaining: 11m 57s\n",
      "12:\tlearn: 0.6235697\ttest: 0.6235776\tbest: 0.6235776 (12)\ttotal: 1m 46s\tremaining: 11m 52s\n",
      "13:\tlearn: 0.6230796\ttest: 0.6231050\tbest: 0.6231050 (13)\ttotal: 1m 54s\tremaining: 11m 44s\n",
      "14:\tlearn: 0.6226813\ttest: 0.6227501\tbest: 0.6227501 (14)\ttotal: 2m 2s\tremaining: 11m 34s\n",
      "15:\tlearn: 0.6223515\ttest: 0.6224831\tbest: 0.6224831 (15)\ttotal: 2m 10s\tremaining: 11m 25s\n",
      "16:\tlearn: 0.6217932\ttest: 0.6220164\tbest: 0.6220164 (16)\ttotal: 2m 18s\tremaining: 11m 15s\n",
      "17:\tlearn: 0.6216365\ttest: 0.6218868\tbest: 0.6218868 (17)\ttotal: 2m 26s\tremaining: 11m 8s\n",
      "18:\tlearn: 0.6213300\ttest: 0.6216170\tbest: 0.6216170 (18)\ttotal: 2m 35s\tremaining: 11m 1s\n",
      "19:\tlearn: 0.6211386\ttest: 0.6214727\tbest: 0.6214727 (19)\ttotal: 2m 43s\tremaining: 10m 53s\n",
      "20:\tlearn: 0.6204813\ttest: 0.6208592\tbest: 0.6208592 (20)\ttotal: 2m 51s\tremaining: 10m 45s\n",
      "21:\tlearn: 0.6199670\ttest: 0.6203949\tbest: 0.6203949 (21)\ttotal: 2m 59s\tremaining: 10m 36s\n",
      "22:\tlearn: 0.6195487\ttest: 0.6199916\tbest: 0.6199916 (22)\ttotal: 3m 7s\tremaining: 10m 27s\n",
      "23:\tlearn: 0.6192652\ttest: 0.6197477\tbest: 0.6197477 (23)\ttotal: 3m 15s\tremaining: 10m 18s\n",
      "24:\tlearn: 0.6190260\ttest: 0.6195624\tbest: 0.6195624 (24)\ttotal: 3m 23s\tremaining: 10m 10s\n",
      "25:\tlearn: 0.6187852\ttest: 0.6193433\tbest: 0.6193433 (25)\ttotal: 3m 31s\tremaining: 10m 2s\n",
      "26:\tlearn: 0.6183555\ttest: 0.6189492\tbest: 0.6189492 (26)\ttotal: 3m 39s\tremaining: 9m 54s\n",
      "27:\tlearn: 0.6178170\ttest: 0.6184677\tbest: 0.6184677 (27)\ttotal: 3m 47s\tremaining: 9m 46s\n",
      "28:\tlearn: 0.6172349\ttest: 0.6178915\tbest: 0.6178915 (28)\ttotal: 3m 55s\tremaining: 9m 37s\n",
      "29:\tlearn: 0.6169086\ttest: 0.6176309\tbest: 0.6176309 (29)\ttotal: 4m 4s\tremaining: 9m 30s\n",
      "30:\tlearn: 0.6167911\ttest: 0.6175354\tbest: 0.6175354 (30)\ttotal: 4m 12s\tremaining: 9m 21s\n",
      "31:\tlearn: 0.6165714\ttest: 0.6173433\tbest: 0.6173433 (31)\ttotal: 4m 20s\tremaining: 9m 14s\n",
      "32:\tlearn: 0.6161070\ttest: 0.6168808\tbest: 0.6168808 (32)\ttotal: 4m 29s\tremaining: 9m 6s\n",
      "33:\tlearn: 0.6157810\ttest: 0.6165822\tbest: 0.6165822 (33)\ttotal: 4m 37s\tremaining: 8m 58s\n",
      "34:\tlearn: 0.6153507\ttest: 0.6161822\tbest: 0.6161822 (34)\ttotal: 4m 45s\tremaining: 8m 50s\n",
      "35:\tlearn: 0.6148207\ttest: 0.6156806\tbest: 0.6156806 (35)\ttotal: 4m 53s\tremaining: 8m 42s\n",
      "36:\tlearn: 0.6143065\ttest: 0.6152048\tbest: 0.6152048 (36)\ttotal: 5m 1s\tremaining: 8m 34s\n",
      "37:\tlearn: 0.6141900\ttest: 0.6151051\tbest: 0.6151051 (37)\ttotal: 5m 9s\tremaining: 8m 25s\n",
      "38:\tlearn: 0.6136081\ttest: 0.6145877\tbest: 0.6145877 (38)\ttotal: 5m 17s\tremaining: 8m 17s\n",
      "39:\tlearn: 0.6133292\ttest: 0.6143396\tbest: 0.6143396 (39)\ttotal: 5m 26s\tremaining: 8m 9s\n",
      "40:\tlearn: 0.6130996\ttest: 0.6141241\tbest: 0.6141241 (40)\ttotal: 5m 33s\tremaining: 8m\n",
      "41:\tlearn: 0.6130222\ttest: 0.6140724\tbest: 0.6140724 (41)\ttotal: 5m 42s\tremaining: 7m 52s\n",
      "42:\tlearn: 0.6125079\ttest: 0.6135793\tbest: 0.6135793 (42)\ttotal: 5m 49s\tremaining: 7m 43s\n",
      "43:\tlearn: 0.6120626\ttest: 0.6131465\tbest: 0.6131465 (43)\ttotal: 5m 58s\tremaining: 7m 35s\n",
      "44:\tlearn: 0.6117998\ttest: 0.6129101\tbest: 0.6129101 (44)\ttotal: 6m 6s\tremaining: 7m 28s\n",
      "45:\tlearn: 0.6114161\ttest: 0.6125575\tbest: 0.6125575 (45)\ttotal: 6m 14s\tremaining: 7m 19s\n",
      "46:\tlearn: 0.6112589\ttest: 0.6124369\tbest: 0.6124369 (46)\ttotal: 6m 22s\tremaining: 7m 11s\n",
      "47:\tlearn: 0.6109227\ttest: 0.6121289\tbest: 0.6121289 (47)\ttotal: 6m 30s\tremaining: 7m 3s\n",
      "48:\tlearn: 0.6104678\ttest: 0.6116585\tbest: 0.6116585 (48)\ttotal: 6m 38s\tremaining: 6m 54s\n",
      "49:\tlearn: 0.6096586\ttest: 0.6109002\tbest: 0.6109002 (49)\ttotal: 6m 46s\tremaining: 6m 46s\n",
      "50:\tlearn: 0.6095357\ttest: 0.6108168\tbest: 0.6108168 (50)\ttotal: 6m 54s\tremaining: 6m 38s\n",
      "51:\tlearn: 0.6091633\ttest: 0.6104628\tbest: 0.6104628 (51)\ttotal: 7m 2s\tremaining: 6m 30s\n",
      "52:\tlearn: 0.6088140\ttest: 0.6101147\tbest: 0.6101147 (52)\ttotal: 7m 10s\tremaining: 6m 22s\n",
      "53:\tlearn: 0.6084982\ttest: 0.6098399\tbest: 0.6098399 (53)\ttotal: 7m 18s\tremaining: 6m 13s\n",
      "54:\tlearn: 0.6082699\ttest: 0.6096288\tbest: 0.6096288 (54)\ttotal: 7m 26s\tremaining: 6m 5s\n",
      "55:\tlearn: 0.6079951\ttest: 0.6093784\tbest: 0.6093784 (55)\ttotal: 7m 34s\tremaining: 5m 57s\n",
      "56:\tlearn: 0.6077452\ttest: 0.6091870\tbest: 0.6091870 (56)\ttotal: 7m 42s\tremaining: 5m 49s\n",
      "57:\tlearn: 0.6076077\ttest: 0.6090800\tbest: 0.6090800 (57)\ttotal: 7m 50s\tremaining: 5m 40s\n",
      "58:\tlearn: 0.6072960\ttest: 0.6087994\tbest: 0.6087994 (58)\ttotal: 7m 58s\tremaining: 5m 32s\n",
      "59:\tlearn: 0.6071105\ttest: 0.6086720\tbest: 0.6086720 (59)\ttotal: 8m 7s\tremaining: 5m 24s\n",
      "60:\tlearn: 0.6069168\ttest: 0.6085079\tbest: 0.6085079 (60)\ttotal: 8m 14s\tremaining: 5m 16s\n",
      "61:\tlearn: 0.6067822\ttest: 0.6083941\tbest: 0.6083941 (61)\ttotal: 8m 22s\tremaining: 5m 8s\n",
      "62:\tlearn: 0.6063507\ttest: 0.6079696\tbest: 0.6079696 (62)\ttotal: 8m 31s\tremaining: 5m\n",
      "63:\tlearn: 0.6060357\ttest: 0.6076906\tbest: 0.6076906 (63)\ttotal: 8m 39s\tremaining: 4m 52s\n",
      "64:\tlearn: 0.6056949\ttest: 0.6073816\tbest: 0.6073816 (64)\ttotal: 8m 47s\tremaining: 4m 43s\n",
      "65:\tlearn: 0.6056093\ttest: 0.6073052\tbest: 0.6073052 (65)\ttotal: 8m 55s\tremaining: 4m 35s\n",
      "66:\tlearn: 0.6054223\ttest: 0.6071577\tbest: 0.6071577 (66)\ttotal: 9m 3s\tremaining: 4m 27s\n",
      "67:\tlearn: 0.6051288\ttest: 0.6068831\tbest: 0.6068831 (67)\ttotal: 9m 11s\tremaining: 4m 19s\n",
      "68:\tlearn: 0.6047121\ttest: 0.6064481\tbest: 0.6064481 (68)\ttotal: 9m 19s\tremaining: 4m 11s\n",
      "69:\tlearn: 0.6043588\ttest: 0.6061072\tbest: 0.6061072 (69)\ttotal: 9m 27s\tremaining: 4m 3s\n",
      "70:\tlearn: 0.6040211\ttest: 0.6057694\tbest: 0.6057694 (70)\ttotal: 9m 35s\tremaining: 3m 55s\n",
      "71:\tlearn: 0.6036903\ttest: 0.6054801\tbest: 0.6054801 (71)\ttotal: 9m 43s\tremaining: 3m 47s\n",
      "72:\tlearn: 0.6034591\ttest: 0.6052682\tbest: 0.6052682 (72)\ttotal: 9m 52s\tremaining: 3m 38s\n",
      "73:\tlearn: 0.6033869\ttest: 0.6052074\tbest: 0.6052074 (73)\ttotal: 10m\tremaining: 3m 30s\n",
      "74:\tlearn: 0.6028086\ttest: 0.6046208\tbest: 0.6046208 (74)\ttotal: 10m 8s\tremaining: 3m 22s\n",
      "75:\tlearn: 0.6024801\ttest: 0.6043168\tbest: 0.6043168 (75)\ttotal: 10m 16s\tremaining: 3m 14s\n",
      "76:\tlearn: 0.6021345\ttest: 0.6039777\tbest: 0.6039777 (76)\ttotal: 10m 24s\tremaining: 3m 6s\n",
      "77:\tlearn: 0.6020643\ttest: 0.6039243\tbest: 0.6039243 (77)\ttotal: 10m 32s\tremaining: 2m 58s\n",
      "78:\tlearn: 0.6018470\ttest: 0.6037269\tbest: 0.6037269 (78)\ttotal: 10m 40s\tremaining: 2m 50s\n",
      "79:\tlearn: 0.6015296\ttest: 0.6034502\tbest: 0.6034502 (79)\ttotal: 10m 48s\tremaining: 2m 42s\n",
      "80:\tlearn: 0.6011645\ttest: 0.6030979\tbest: 0.6030979 (80)\ttotal: 10m 56s\tremaining: 2m 33s\n",
      "81:\tlearn: 0.6008605\ttest: 0.6028208\tbest: 0.6028208 (81)\ttotal: 11m 4s\tremaining: 2m 25s\n",
      "82:\tlearn: 0.6006918\ttest: 0.6026951\tbest: 0.6026951 (82)\ttotal: 11m 12s\tremaining: 2m 17s\n",
      "83:\tlearn: 0.6004837\ttest: 0.6024956\tbest: 0.6024956 (83)\ttotal: 11m 20s\tremaining: 2m 9s\n",
      "84:\tlearn: 0.6003911\ttest: 0.6024344\tbest: 0.6024344 (84)\ttotal: 11m 28s\tremaining: 2m 1s\n",
      "85:\tlearn: 0.6001977\ttest: 0.6022457\tbest: 0.6022457 (85)\ttotal: 11m 36s\tremaining: 1m 53s\n",
      "86:\tlearn: 0.6000320\ttest: 0.6021278\tbest: 0.6021278 (86)\ttotal: 11m 44s\tremaining: 1m 45s\n",
      "87:\tlearn: 0.5998115\ttest: 0.6019216\tbest: 0.6019216 (87)\ttotal: 11m 52s\tremaining: 1m 37s\n",
      "88:\tlearn: 0.5997386\ttest: 0.6018554\tbest: 0.6018554 (88)\ttotal: 12m\tremaining: 1m 29s\n",
      "89:\tlearn: 0.5992973\ttest: 0.6014376\tbest: 0.6014376 (89)\ttotal: 12m 9s\tremaining: 1m 21s\n",
      "90:\tlearn: 0.5989876\ttest: 0.6011559\tbest: 0.6011559 (90)\ttotal: 12m 17s\tremaining: 1m 12s\n",
      "91:\tlearn: 0.5987761\ttest: 0.6009872\tbest: 0.6009872 (91)\ttotal: 12m 25s\tremaining: 1m 4s\n",
      "92:\tlearn: 0.5986258\ttest: 0.6009112\tbest: 0.6009112 (92)\ttotal: 12m 33s\tremaining: 56.7s\n",
      "93:\tlearn: 0.5985316\ttest: 0.6008433\tbest: 0.6008433 (93)\ttotal: 12m 41s\tremaining: 48.6s\n",
      "94:\tlearn: 0.5982762\ttest: 0.6006357\tbest: 0.6006357 (94)\ttotal: 12m 50s\tremaining: 40.5s\n",
      "95:\tlearn: 0.5982067\ttest: 0.6005885\tbest: 0.6005885 (95)\ttotal: 12m 57s\tremaining: 32.4s\n",
      "96:\tlearn: 0.5979284\ttest: 0.6003345\tbest: 0.6003345 (96)\ttotal: 13m 5s\tremaining: 24.3s\n",
      "97:\tlearn: 0.5975805\ttest: 0.6000241\tbest: 0.6000241 (97)\ttotal: 13m 13s\tremaining: 16.2s\n",
      "98:\tlearn: 0.5973146\ttest: 0.5997532\tbest: 0.5997532 (98)\ttotal: 13m 21s\tremaining: 8.1s\n",
      "99:\tlearn: 0.5971624\ttest: 0.5996155\tbest: 0.5996155 (99)\ttotal: 13m 30s\tremaining: 0us\n",
      "\n",
      "bestTest = 0.5996154629\n",
      "bestIteration = 99\n",
      "\n"
     ]
    }
   ],
   "source": [
    "best_params = {'loss_function': 'Logloss',\n",
    "               'custom_loss': 'AUC',\n",
    "               'iterations': 100,\n",
    "               'depth': 10,\n",
    "               'learning_rate': 0.5}\n",
    "\n",
    "cv_results, ms = cv(pool=pool,\n",
    "                    params=best_params,\n",
    "                    fold_count=5,\n",
    "                    return_models=True)"
   ]
  },
  {
   "cell_type": "code",
   "execution_count": null,
   "metadata": {
    "colab": {
     "base_uri": "https://localhost:8080/",
     "height": 359
    },
    "id": "oCXFvavfVzu9",
    "outputId": "68a411ff-b380-4b58-b949-68a168a06dbd"
   },
   "outputs": [
    {
     "data": {
      "text/html": [
       "<div>\n",
       "<style scoped>\n",
       "    .dataframe tbody tr th:only-of-type {\n",
       "        vertical-align: middle;\n",
       "    }\n",
       "\n",
       "    .dataframe tbody tr th {\n",
       "        vertical-align: top;\n",
       "    }\n",
       "\n",
       "    .dataframe thead th {\n",
       "        text-align: right;\n",
       "    }\n",
       "</style>\n",
       "<table border=\"1\" class=\"dataframe\">\n",
       "  <thead>\n",
       "    <tr style=\"text-align: right;\">\n",
       "      <th></th>\n",
       "      <th>iterations</th>\n",
       "      <th>test-Logloss-mean</th>\n",
       "      <th>test-Logloss-std</th>\n",
       "      <th>train-Logloss-mean</th>\n",
       "      <th>train-Logloss-std</th>\n",
       "      <th>test-AUC-mean</th>\n",
       "      <th>test-AUC-std</th>\n",
       "    </tr>\n",
       "  </thead>\n",
       "  <tbody>\n",
       "    <tr>\n",
       "      <th>90</th>\n",
       "      <td>90</td>\n",
       "      <td>0.601761</td>\n",
       "      <td>0.000503</td>\n",
       "      <td>0.599627</td>\n",
       "      <td>0.000368</td>\n",
       "      <td>0.737236</td>\n",
       "      <td>0.000653</td>\n",
       "    </tr>\n",
       "    <tr>\n",
       "      <th>91</th>\n",
       "      <td>91</td>\n",
       "      <td>0.601648</td>\n",
       "      <td>0.000497</td>\n",
       "      <td>0.599473</td>\n",
       "      <td>0.000401</td>\n",
       "      <td>0.737375</td>\n",
       "      <td>0.000636</td>\n",
       "    </tr>\n",
       "    <tr>\n",
       "      <th>92</th>\n",
       "      <td>92</td>\n",
       "      <td>0.601469</td>\n",
       "      <td>0.000510</td>\n",
       "      <td>0.599255</td>\n",
       "      <td>0.000357</td>\n",
       "      <td>0.737609</td>\n",
       "      <td>0.000677</td>\n",
       "    </tr>\n",
       "    <tr>\n",
       "      <th>93</th>\n",
       "      <td>93</td>\n",
       "      <td>0.601310</td>\n",
       "      <td>0.000435</td>\n",
       "      <td>0.599065</td>\n",
       "      <td>0.000302</td>\n",
       "      <td>0.737815</td>\n",
       "      <td>0.000575</td>\n",
       "    </tr>\n",
       "    <tr>\n",
       "      <th>94</th>\n",
       "      <td>94</td>\n",
       "      <td>0.601129</td>\n",
       "      <td>0.000509</td>\n",
       "      <td>0.598861</td>\n",
       "      <td>0.000341</td>\n",
       "      <td>0.738044</td>\n",
       "      <td>0.000671</td>\n",
       "    </tr>\n",
       "    <tr>\n",
       "      <th>95</th>\n",
       "      <td>95</td>\n",
       "      <td>0.600951</td>\n",
       "      <td>0.000551</td>\n",
       "      <td>0.598663</td>\n",
       "      <td>0.000310</td>\n",
       "      <td>0.738266</td>\n",
       "      <td>0.000737</td>\n",
       "    </tr>\n",
       "    <tr>\n",
       "      <th>96</th>\n",
       "      <td>96</td>\n",
       "      <td>0.600778</td>\n",
       "      <td>0.000546</td>\n",
       "      <td>0.598480</td>\n",
       "      <td>0.000351</td>\n",
       "      <td>0.738487</td>\n",
       "      <td>0.000718</td>\n",
       "    </tr>\n",
       "    <tr>\n",
       "      <th>97</th>\n",
       "      <td>97</td>\n",
       "      <td>0.600555</td>\n",
       "      <td>0.000503</td>\n",
       "      <td>0.598220</td>\n",
       "      <td>0.000375</td>\n",
       "      <td>0.738750</td>\n",
       "      <td>0.000652</td>\n",
       "    </tr>\n",
       "    <tr>\n",
       "      <th>98</th>\n",
       "      <td>98</td>\n",
       "      <td>0.600340</td>\n",
       "      <td>0.000444</td>\n",
       "      <td>0.597987</td>\n",
       "      <td>0.000388</td>\n",
       "      <td>0.739026</td>\n",
       "      <td>0.000569</td>\n",
       "    </tr>\n",
       "    <tr>\n",
       "      <th>99</th>\n",
       "      <td>99</td>\n",
       "      <td>0.600164</td>\n",
       "      <td>0.000400</td>\n",
       "      <td>0.597792</td>\n",
       "      <td>0.000404</td>\n",
       "      <td>0.739245</td>\n",
       "      <td>0.000494</td>\n",
       "    </tr>\n",
       "  </tbody>\n",
       "</table>\n",
       "</div>"
      ],
      "text/plain": [
       "    iterations  test-Logloss-mean  ...  test-AUC-mean  test-AUC-std\n",
       "90          90           0.601761  ...       0.737236      0.000653\n",
       "91          91           0.601648  ...       0.737375      0.000636\n",
       "92          92           0.601469  ...       0.737609      0.000677\n",
       "93          93           0.601310  ...       0.737815      0.000575\n",
       "94          94           0.601129  ...       0.738044      0.000671\n",
       "95          95           0.600951  ...       0.738266      0.000737\n",
       "96          96           0.600778  ...       0.738487      0.000718\n",
       "97          97           0.600555  ...       0.738750      0.000652\n",
       "98          98           0.600340  ...       0.739026      0.000569\n",
       "99          99           0.600164  ...       0.739245      0.000494\n",
       "\n",
       "[10 rows x 7 columns]"
      ]
     },
     "execution_count": 57,
     "metadata": {},
     "output_type": "execute_result"
    }
   ],
   "source": [
    "cv_results.tail(10)"
   ]
  },
  {
   "cell_type": "markdown",
   "metadata": {
    "id": "PD5sOPKK2BR2"
   },
   "source": [
    "Можно заметить, что для фолдов стандартное отклонение лосса и AUCа довольно низкое, а значит сильного разброса нет. На тесте модель достигает AUC около 0.73."
   ]
  },
  {
   "cell_type": "code",
   "execution_count": null,
   "metadata": {
    "colab": {
     "base_uri": "https://localhost:8080/",
     "height": 367
    },
    "id": "UuBqrDCbfvLu",
    "outputId": "881dfeb4-bb8c-46c0-a70d-ecaf658aafcd"
   },
   "outputs": [
    {
     "data": {
      "image/png": "[encoded data removed]",
      "text/plain": [
       "<Figure size 1080x360 with 2 Axes>"
      ]
     },
     "metadata": {
      "needs_background": "light"
     },
     "output_type": "display_data"
    },
    {
     "name": "stdout",
     "output_type": "stream",
     "text": [
      "AUC: 0.7392452144698342\n"
     ]
    }
   ],
   "source": [
    "f, (ax1, ax2) = plt.subplots(1, 2, sharey=False, figsize=(15, 5))\n",
    "\n",
    "loss = cv_results['test-Logloss-mean']\n",
    "metric = cv_results['test-AUC-mean']\n",
    "ax1.plot(loss)\n",
    "ax1.set_title('Loss')\n",
    "ax1.set_xlabel('iteration')\n",
    "\n",
    "ax2.plot(metric)\n",
    "ax2.set_title('AUC')\n",
    "ax2.set_xlabel('iteration')\n",
    "\n",
    "\n",
    "plt.show()\n",
    "\n",
    "print('AUC:', cv_results['test-AUC-mean'].iloc[-1])"
   ]
  },
  {
   "cell_type": "markdown",
   "metadata": {
    "id": "U1IQ3uEn12q1"
   },
   "source": [
    "Исходя из графика, я бы предположил, что обучать можно дольше 100 эпох. Но так как чтобы обучить даже 100 эпох у меня уходило много времени, я не стал экспериментировать с количеством эпох."
   ]
  },
  {
   "cell_type": "code",
   "execution_count": null,
   "metadata": {
    "colab": {
     "base_uri": "https://localhost:8080/",
     "height": 560
    },
    "id": "QDWuCR_Zg6WA",
    "outputId": "7109954a-8bb9-45a9-95af-62551cbb94f2"
   },
   "outputs": [
    {
     "data": {
      "image/png": "[encoded data removed]",
      "text/plain": [
       "<Figure size 576x655.2 with 1 Axes>"
      ]
     },
     "metadata": {
      "needs_background": "light"
     },
     "output_type": "display_data"
    }
   ],
   "source": [
    "# интерпретация\n",
    "interpret_idxs = np.random.choice(X.index, 1000, replace=False)\n",
    "X_interpret = X.iloc[interpret_idxs]\n",
    "explainer = shap.TreeExplainer(ms[0])\n",
    "shap_values = explainer.shap_values(X_interpret)\n",
    "shap.summary_plot(shap_values, X_interpret, plot_type=\"bar\")"
   ]
  },
  {
   "cell_type": "code",
   "execution_count": null,
   "metadata": {
    "colab": {
     "base_uri": "https://localhost:8080/",
     "height": 564
    },
    "id": "QaQ3BE3LH-PJ",
    "outputId": "d40e9c1a-b792-4aac-d719-64e670eb494a"
   },
   "outputs": [
    {
     "data": {
      "image/png": "[encoded data removed]",
      "text/plain": [
       "<Figure size 576x655.2 with 2 Axes>"
      ]
     },
     "metadata": {
      "needs_background": "light"
     },
     "output_type": "display_data"
    }
   ],
   "source": [
    "shap.summary_plot(shap_values, X_interpret)"
   ]
  },
  {
   "cell_type": "markdown",
   "metadata": {
    "id": "LbvpppYS3Qr_"
   },
   "source": [
    "Исходя из графика наибольший вклад внесли `source_type`, `song_played`. Также немаловажными оказались фичи `source_system_tab`, `user_activity`, `source_screen_name`. То есть и популярность песни и активность пользователя в целом, а также некоторые внутренние характеристики приложения/сайта/сервиса."
   ]
  },
  {
   "cell_type": "markdown",
   "metadata": {
    "id": "No3iVW-1ioV7"
   },
   "source": [
    "## Задача 2: unclassical embeddings"
   ]
  },
  {
   "cell_type": "markdown",
   "metadata": {
    "id": "-LMpikDETBzy"
   },
   "source": [
    "Тут я решил использовать word-to-vec модель. Обучал её на строках вида \"artist - song\". Таким образом, для песен из датасета были получены векторные представления (размерности 64)."
   ]
  },
  {
   "cell_type": "code",
   "execution_count": null,
   "metadata": {
    "id": "qUoFoDCMQLgz"
   },
   "outputs": [],
   "source": [
    "emb_size = 64\n",
    "w2v_train = train[['msno', 'song_id', 'target','artist_name', 'name']]"
   ]
  },
  {
   "cell_type": "code",
   "execution_count": null,
   "metadata": {
    "colab": {
     "base_uri": "https://localhost:8080/",
     "height": 66,
     "referenced_widgets": [
      "c707ee792a88465e8623077d4b66b135",
      "288485c1ba424830a6d51c9602735c90",
      "c9998b46fb4d4777b25560fcc3b6b34d",
      "7e3e3470ab9f4c1eac1b06db72916210",
      "7eb1ed9d1a30497db420b45824dd02e9",
      "262d97ec73a548cd811234c1b521a6cb",
      "423f7255fa484a0ab623dd1a3d173238",
      "9212981d5bc94a7fb700c649cabf3cc0",
      "0645e4ac357b4c25aef0a51ee5ab67d6",
      "d0855f7868f44911ab70348e4ece3b7f",
      "1eae9aea5cc246f3af7122f3475c764d"
     ]
    },
    "id": "RckzSh7-TulH",
    "outputId": "8a67a3f2-5380-4cd5-ec76-6ada929eb1b3"
   },
   "outputs": [
    {
     "data": {
      "application/vnd.jupyter.widget-view+json": {
       "model_id": "c707ee792a88465e8623077d4b66b135",
       "version_major": 2,
       "version_minor": 0
      },
      "text/plain": [
       "  0%|          | 0/7377304 [00:00<?, ?it/s]"
      ]
     },
     "metadata": {},
     "output_type": "display_data"
    },
    {
     "data": {
      "text/plain": [
       "(105404355, 110659560)"
      ]
     },
     "execution_count": 43,
     "metadata": {},
     "output_type": "execute_result"
    }
   ],
   "source": [
    "# группируем данные для обучения w2v\n",
    "\n",
    "users = np.unique(w2v_train['msno'])\n",
    "user_items = defaultdict(list)\n",
    "\n",
    "for row in tqdm(w2v_train.iterrows(), total=len(w2v_train)):\n",
    "    row = row[1]\n",
    "    user = row['msno']\n",
    "    artist = row['artist_name']\n",
    "    song = row['name']\n",
    "    user_items[user].append(f'{artist} - {song}')\n",
    "corpus = list(user_items.values())\n",
    "\n",
    "# инициализация и обучение w2v\n",
    "w2v = Word2Vec(window=10, size=emb_size, negative=15, sg=1, hs=0, alpha=0.03,\n",
    "               min_alpha=0.0007, workers=multiprocessing.cpu_count())\n",
    "w2v.build_vocab(corpus)\n",
    "w2v.train(corpus, total_examples=w2v.corpus_count, epochs=15)\n",
    "w2v.init_sims(replace=True)"
   ]
  },
  {
   "cell_type": "markdown",
   "metadata": {
    "id": "ZYlRP0r2ExnU"
   },
   "source": [
    "### a) similars"
   ]
  },
  {
   "cell_type": "code",
   "execution_count": null,
   "metadata": {
    "id": "qHxIzFGM_OcE"
   },
   "outputs": [],
   "source": [
    "song_list = list(w2v.wv.vocab.items())\n",
    "\n",
    "def random_example(k=5):\n",
    "    idx = np.random.randint(len(song_list))\n",
    "    query = song_list[idx][0]\n",
    "    print(\"QUERY:\", query)\n",
    "    print(\"SIMILARS:\")\n",
    "    similars = w2v.similar_by_vector(w2v[query], topn=k+1)[1:]\n",
    "    return similars"
   ]
  },
  {
   "cell_type": "code",
   "execution_count": null,
   "metadata": {
    "colab": {
     "base_uri": "https://localhost:8080/"
    },
    "id": "jFq3x0yA5eKB",
    "outputId": "78e51c65-b27b-4c82-98ef-8896b79df2c8"
   },
   "outputs": [
    {
     "name": "stdout",
     "output_type": "stream",
     "text": [
      "QUERY: The Weeknd - Starboy\n",
      "SIMILARS:\n"
     ]
    },
    {
     "data": {
      "text/plain": [
       "[('Clean Bandit - Rockabye', 0.8957654237747192),\n",
       " ('Mike Posner - I Took A Pill In Ibiza', 0.8940248489379883),\n",
       " ('Fifth Harmony - Work from Home', 0.88713139295578),\n",
       " ('Justin Timberlake - CAN\\'T STOP THE FEELING! (Original Song from DreamWorks Animation\\'s \"TROLLS\")',\n",
       "  0.8845698833465576),\n",
       " ('ZAYN| Taylor Swift - I Don’t Wanna Live Forever (Fifty Shades Darker)',\n",
       "  0.8843075037002563)]"
      ]
     },
     "execution_count": 53,
     "metadata": {},
     "output_type": "execute_result"
    }
   ],
   "source": [
    "random_example()"
   ]
  },
  {
   "cell_type": "code",
   "execution_count": null,
   "metadata": {
    "colab": {
     "base_uri": "https://localhost:8080/"
    },
    "id": "lQHhQjN-5elS",
    "outputId": "78b06dd7-e4bc-42a9-d2cd-f48eb69a0930"
   },
   "outputs": [
    {
     "name": "stdout",
     "output_type": "stream",
     "text": [
      "QUERY: Relax α Wave - Let It Go\n",
      "SIMILARS:\n"
     ]
    },
    {
     "data": {
      "text/plain": [
       "[('Relax α Wave - Once Upon a Dream', 0.8673030138015747),\n",
       " ('Relax α Wave - Part of Your World', 0.8428133726119995),\n",
       " ('Relax α Wave - Beauty and the Beast', 0.8156678676605225),\n",
       " ('Relax α Wave - Colors of the Wind', 0.7888686060905457),\n",
       " ('Relax α Wave - When You Wish Upon a Star', 0.7829329371452332)]"
      ]
     },
     "execution_count": 54,
     "metadata": {},
     "output_type": "execute_result"
    }
   ],
   "source": [
    "random_example()"
   ]
  },
  {
   "cell_type": "code",
   "execution_count": null,
   "metadata": {
    "colab": {
     "base_uri": "https://localhost:8080/"
    },
    "id": "sEi6n98d5e_J",
    "outputId": "aa45e6aa-3672-4a41-f10d-b53352ccf3b6"
   },
   "outputs": [
    {
     "name": "stdout",
     "output_type": "stream",
     "text": [
      "QUERY: Boys Noize - Inhale / Exhale\n",
      "SIMILARS:\n"
     ]
    },
    {
     "data": {
      "text/plain": [
       "[('Bonobo - First Fires', 0.7060795426368713),\n",
       " ('Vindata - Spirals', 0.6870056986808777),\n",
       " ('Breakbot - One Out Of Two (feat. Irfane)', 0.6770935654640198),\n",
       " ('D/R/U/G/S feat. Akiine - New Born Love', 0.6698501706123352),\n",
       " ('Andain - Turn Up the Sound (Tristan Garner Remix)', 0.6689170598983765)]"
      ]
     },
     "execution_count": 71,
     "metadata": {},
     "output_type": "execute_result"
    }
   ],
   "source": [
    "random_example()"
   ]
  },
  {
   "cell_type": "code",
   "execution_count": null,
   "metadata": {
    "colab": {
     "base_uri": "https://localhost:8080/"
    },
    "id": "TCeTehI19mG6",
    "outputId": "f4aaac50-6349-456b-cc0a-fb8aa7a978a2"
   },
   "outputs": [
    {
     "name": "stdout",
     "output_type": "stream",
     "text": [
      "QUERY: BIRDY - All You Never Say\n",
      "SIMILARS:\n"
     ]
    },
    {
     "data": {
      "text/plain": [
       "[('BIRDY - Words As Weapons', 0.7521324157714844),\n",
       " ('BIRDY - Wild Horses', 0.7169698476791382),\n",
       " ('BIRDY - Wings', 0.7073356509208679),\n",
       " ('BIRDY - No Angel', 0.700459897518158),\n",
       " ('BIRDY - Skinny Love', 0.6975072026252747)]"
      ]
     },
     "execution_count": 96,
     "metadata": {},
     "output_type": "execute_result"
    }
   ],
   "source": [
    "random_example()"
   ]
  },
  {
   "cell_type": "code",
   "execution_count": null,
   "metadata": {
    "colab": {
     "base_uri": "https://localhost:8080/"
    },
    "id": "RIsFMZUM_ULb",
    "outputId": "480eb1a2-974f-4398-96fa-a969a1cd39c0"
   },
   "outputs": [
    {
     "name": "stdout",
     "output_type": "stream",
     "text": [
      "QUERY: IL DIVO - Regresa A Mi\n",
      "SIMILARS:\n"
     ]
    },
    {
     "data": {
      "text/plain": [
       "[('Celine Dion - Right In Front Of You', 0.7568114399909973),\n",
       " ('IL DIVO - Time to Say Goodbye (Con Te Partirò)', 0.7553979754447937),\n",
       " ('IL DIVO - Ti Amero', 0.7525670528411865),\n",
       " ('Sting - Mad About You', 0.7388925552368164),\n",
       " ('IL DIVO - Heroe(英雄)', 0.7303694486618042)]"
      ]
     },
     "execution_count": 101,
     "metadata": {},
     "output_type": "execute_result"
    }
   ],
   "source": [
    "random_example()"
   ]
  },
  {
   "cell_type": "code",
   "execution_count": null,
   "metadata": {
    "colab": {
     "base_uri": "https://localhost:8080/"
    },
    "id": "ulzyC2po_Yl7",
    "outputId": "58323597-e5a8-4bda-a64b-7bd149ee0657"
   },
   "outputs": [
    {
     "name": "stdout",
     "output_type": "stream",
     "text": [
      "QUERY: Michael Bolton - How Am I Supposed to Live Without You\n",
      "SIMILARS:\n"
     ]
    },
    {
     "data": {
      "text/plain": [
       "[('Air Supply - Here I Am (Just When I Thought I Was Over You)(有我在此)',\n",
       "  0.704836368560791),\n",
       " ('Paul Anka - Put Your Head On My Shoulder', 0.7016338109970093),\n",
       " ('70s Love - Baby Come Back', 0.7014877796173096),\n",
       " ('Roxette - It Must Have Been Love', 0.6995276808738708),\n",
       " ('Gerard Joling - Ticket To The Tropics', 0.6958640813827515),\n",
       " ('Daughtry - Life After You', 0.6835019588470459),\n",
       " ('Taylor Dayne - Love Will Lead You Back', 0.6787685751914978),\n",
       " ('Heart - These Dreams', 0.6744419932365417),\n",
       " ('Elton John - Can You Feel The Love Tonight', 0.6736887097358704),\n",
       " ('Chicago - Hard Habit To Break', 0.6692962646484375)]"
      ]
     },
     "execution_count": 103,
     "metadata": {},
     "output_type": "execute_result"
    }
   ],
   "source": [
    "random_example(10)"
   ]
  },
  {
   "cell_type": "code",
   "execution_count": null,
   "metadata": {
    "colab": {
     "base_uri": "https://localhost:8080/"
    },
    "id": "hjbyBRpx_bfq",
    "outputId": "51020bd7-b0e8-482d-b409-e045a2eaee85"
   },
   "outputs": [
    {
     "name": "stdout",
     "output_type": "stream",
     "text": [
      "QUERY: Bryan Adams - I'll Always Be Right There\n",
      "SIMILARS:\n"
     ]
    },
    {
     "data": {
      "text/plain": [
       "[('Bryan Adams - Straight From The Heart', 0.7163077592849731),\n",
       " ('Bryan Adams - Please Forgive Me', 0.6980815529823303),\n",
       " ('Paolo Nutini - New Shoes (Album Version)', 0.6929312348365784),\n",
       " ('Eagles - Doolin-Dalton', 0.6894090175628662),\n",
       " (\"Bryan Adams - Summer Of '69\", 0.6784887313842773),\n",
       " ('Bryan Adams - She Knows Me', 0.6782256960868835),\n",
       " (\"Eagles - Lyin' Eyes\", 0.6776796579360962),\n",
       " ('Eagles - Life In The Fast Lane', 0.6747273206710815),\n",
       " ('Eagles - Business ACenter Of The Universes Usual', 0.6679564118385315),\n",
       " ('Bee Gees - Spicks and Specks', 0.6669367551803589)]"
      ]
     },
     "execution_count": 104,
     "metadata": {},
     "output_type": "execute_result"
    }
   ],
   "source": [
    "random_example(10)"
   ]
  },
  {
   "cell_type": "code",
   "execution_count": null,
   "metadata": {
    "colab": {
     "base_uri": "https://localhost:8080/"
    },
    "id": "0DyESLSo_hsh",
    "outputId": "614e2166-adb6-4222-e7a0-54e75ad0c7d2"
   },
   "outputs": [
    {
     "name": "stdout",
     "output_type": "stream",
     "text": [
      "QUERY: Taking Back Sunday - Tidal Wave\n",
      "SIMILARS:\n"
     ]
    },
    {
     "data": {
      "text/plain": [
       "[('Sum 41 - God Save Us All (Death to POP)', 0.6915134191513062),\n",
       " ('Bastille - Glory', 0.6864012479782104),\n",
       " ('twenty one pilots - Cancer', 0.6734537482261658),\n",
       " ('Green Day - Youngblood', 0.6721490025520325),\n",
       " ('TWO DOOR CINEMA CLUB - Gameshow', 0.6660529375076294),\n",
       " ('Green Day - Ordinary World', 0.6576299667358398),\n",
       " (\"Coldplay - Don't Panic\", 0.6556333303451538),\n",
       " ('Ed Sheeran - Little Bird', 0.6529711484909058),\n",
       " ('Agnes Obel - Golden Green', 0.6495360136032104),\n",
       " ('We The Kings - Sad Song (feat. Elena Coats)', 0.6461539268493652)]"
      ]
     },
     "execution_count": 136,
     "metadata": {},
     "output_type": "execute_result"
    }
   ],
   "source": [
    "random_example(10)"
   ]
  },
  {
   "cell_type": "markdown",
   "metadata": {
    "id": "klCxG03y6aQQ"
   },
   "source": [
    "Кажется, симилары выглядят неплохо. Это либо песни того же исполнителя, либо что-то похожее."
   ]
  },
  {
   "cell_type": "markdown",
   "metadata": {
    "id": "PV3BmVHSE3Zu"
   },
   "source": [
    "### b) recommender = w2v, сравнение с GBDT"
   ]
  },
  {
   "cell_type": "markdown",
   "metadata": {
    "id": "3Yc4Nl-vAFkJ"
   },
   "source": [
    "Чтобы использовать w2v в качестве рекомендательной системы, необходимо иметь эмбединг пользователя. Для этого будем усреднять эмбеддинги прослушенных пользователем песен (с таргет = 1)."
   ]
  },
  {
   "cell_type": "code",
   "execution_count": null,
   "metadata": {
    "id": "Z95yYENIs-GB"
   },
   "outputs": [],
   "source": [
    "# разобъём данные\n",
    "w2v_train = train[['msno', 'song_id', 'target','artist_name', 'name']]\n",
    "w2v_train, w2v_val = train_test_split(w2v_train, test_size = 0.3, stratify=train.target)"
   ]
  },
  {
   "cell_type": "code",
   "execution_count": null,
   "metadata": {
    "id": "jHB9sWXfE5an"
   },
   "outputs": [],
   "source": [
    "def create_user_embeddings(model, df):\n",
    "    users = np.unique(df.msno)\n",
    "    user_embeddings = defaultdict(lambda: np.zeros(emb_size))\n",
    "    user_counts = defaultdict(lambda: 1e-8)\n",
    "    for row in tqdm(df.iterrows(), total=len(df)):\n",
    "        row = row[1]\n",
    "        song_name = row['name']\n",
    "        artist = row['artist_name']\n",
    "        user_id = row['msno']\n",
    "        input_model = artist + ' - ' + song_name\n",
    "        if row['target'] == 1:\n",
    "            if input_model in model:\n",
    "                user_embeddings[user_id] += model[input_model]\n",
    "\n",
    "    for user_id in user_embeddings.keys():\n",
    "        user_embeddings[user_id] /= user_counts[user_id]\n",
    "\n",
    "    return user_embeddings"
   ]
  },
  {
   "cell_type": "code",
   "execution_count": null,
   "metadata": {
    "id": "rCMSdZ48tNuD"
   },
   "outputs": [],
   "source": [
    "user_embeddings = create_user_embeddings(w2v, w2v_train)"
   ]
  },
  {
   "cell_type": "code",
   "execution_count": null,
   "metadata": {
    "id": "9474o1UFKnNv"
   },
   "outputs": [],
   "source": [
    "# оценим w2v рекомендательную систему\n",
    "\n",
    "y_true = []\n",
    "y_pred_prob = []\n",
    "for row in tqdm(w2v_val.iterrows(), total=len(w2v_val)):\n",
    "    row = row[1]\n",
    "    song_name = row['name']\n",
    "    artist = row['artist_name']\n",
    "    user_id = row['msno']\n",
    "    target = row['target']\n",
    "    input_model = artist + ' - ' + song_name\n",
    "    \n",
    "    if input_model in w2v:\n",
    "        item_embedding = w2v[input_model]\n",
    "    else:\n",
    "        item_embedding = np.zeros(emb_size)\n",
    "    item_embedding = item_embedding / (norm(item_embedding) + 1e-8)\n",
    "    user_embedding = user_embeddings[user_id]\n",
    "    user_embedding = user_embedding / (norm(user_embedding) + 1e-8)\n",
    "    sim = item_embedding @ user_embedding\n",
    "    y_pred_prob.append(sim)\n",
    "    y_true.append(target)\n",
    "\n",
    "from sklearn.metrics import roc_auc_score\n",
    "print('AUC:', roc_auc_score(y_true, y_pred_prob))"
   ]
  },
  {
   "cell_type": "code",
   "execution_count": null,
   "metadata": {
    "colab": {
     "base_uri": "https://localhost:8080/",
     "height": 66,
     "referenced_widgets": [
      "426a06e2e62b4591ba4662f7dddda3c2",
      "e39e3411f6c442399fb8ca90841ecb64",
      "7187fdc7fb754187bdc09060e63fb8cb",
      "09a76a62b9b44832b8646f7a879a4a17",
      "f88d63f29d8b43798530a91625dd445a",
      "a5b5bbde351b4f61b3a4ef54dcada168",
      "f7c9b29258ac447ba6a713de0f6c761f",
      "88ac7d7e868d4e0688a1dd988a061785",
      "122197276b284fd29235a3253668f805",
      "50eb17d43c9640db9a1bd3cc82811a50",
      "9f359e114ef44a93b50b98b3d1d7c277"
     ]
    },
    "id": "h7M60lkNrD4-",
    "outputId": "ca8cb32d-778f-43aa-8515-1e54f973537c"
   },
   "outputs": [
    {
     "data": {
      "application/vnd.jupyter.widget-view+json": {
       "model_id": "426a06e2e62b4591ba4662f7dddda3c2",
       "version_major": 2,
       "version_minor": 0
      },
      "text/plain": [
       "  0%|          | 0/2213192 [00:00<?, ?it/s]"
      ]
     },
     "metadata": {},
     "output_type": "display_data"
    },
    {
     "name": "stdout",
     "output_type": "stream",
     "text": [
      "AUC: 0.7117799097315372\n"
     ]
    }
   ],
   "source": [
    "# оценим w2v рек сис:\n",
    "from numpy.linalg import norm\n",
    "y_true = []\n",
    "y_pred_prob = []\n",
    "for row in tqdm(w2v_val.iterrows(), total=len(w2v_val)):\n",
    "    row = row[1]\n",
    "    song_name = row['name']\n",
    "    artist = row['artist_name']\n",
    "    user_id = row['msno']\n",
    "    target = row['target']\n",
    "    input_model = artist + ' - ' + song_name\n",
    "    \n",
    "    if input_model in w2v:\n",
    "        item_embedding = w2v[input_model]\n",
    "    else:\n",
    "        item_embedding = np.zeros(emb_size)\n",
    "    item_embedding = item_embedding / (norm(item_embedding) + 1e-8)\n",
    "    user_embedding = user_embeddings[user_id]\n",
    "    user_embedding = user_embedding / (norm(user_embedding) + 1e-8)\n",
    "    sim = item_embedding @ user_embedding\n",
    "    y_pred_prob.append(sim)\n",
    "    y_true.append(target)\n",
    "\n",
    "from sklearn.metrics import roc_auc_score\n",
    "print('AUC:', roc_auc_score(y_true, y_pred_prob))"
   ]
  },
  {
   "cell_type": "markdown",
   "metadata": {
    "id": "I1ixDtYs7sGT"
   },
   "source": [
    "AUC оказался немного ниже, чем в задаче 1 (0.73). Но, кажется, что получить такой результат только по названиям довольно неплохо. "
   ]
  },
  {
   "cell_type": "markdown",
   "metadata": {
    "id": "kb-GqMcW8e8b"
   },
   "source": [
    "Можно ещё просто посмотреть как выглядят рекомендации для случайного пользователя."
   ]
  },
  {
   "cell_type": "code",
   "execution_count": null,
   "metadata": {
    "id": "gVjxLX8-EQoi"
   },
   "outputs": [],
   "source": [
    "users = np.unique(w2v_val.msno)\n",
    "\n",
    "def recommend(model, users, user_embeddings, k=5):\n",
    "    idx = np.random.randint(len(users))\n",
    "    user = users[idx]\n",
    "    user_emb = user_embeddings[user]\n",
    "\n",
    "    print(\"RECOMMENDATIONS:\")\n",
    "    recommendations = model.similar_by_vector(user_emb, topn=k)\n",
    "    return recommendations"
   ]
  },
  {
   "cell_type": "code",
   "execution_count": null,
   "metadata": {
    "colab": {
     "base_uri": "https://localhost:8080/"
    },
    "id": "EdTbNDkQI3rU",
    "outputId": "0ab2736f-8717-4658-e01e-abb8f3411753"
   },
   "outputs": [
    {
     "name": "stdout",
     "output_type": "stream",
     "text": [
      "RECOMMENDATIONS:\n"
     ]
    },
    {
     "data": {
      "text/plain": [
       "[('Fifth Harmony - Work from Home', 0.7260327339172363),\n",
       " ('Fifth Harmony - Worth It', 0.7232092022895813),\n",
       " ('Justin Timberlake - CAN\\'T STOP THE FEELING! (Original Song from DreamWorks Animation\\'s \"TROLLS\")',\n",
       "  0.7229118347167969),\n",
       " ('twenty one pilots - Heathens', 0.7211467027664185),\n",
       " ('The Chainsmokers - Closer', 0.7207790017127991)]"
      ]
     },
     "execution_count": 209,
     "metadata": {},
     "output_type": "execute_result"
    }
   ],
   "source": [
    "recommend(w2v, users, user_embeddings, k=5)"
   ]
  },
  {
   "cell_type": "code",
   "execution_count": null,
   "metadata": {
    "colab": {
     "base_uri": "https://localhost:8080/"
    },
    "id": "Tc3HB1Xkt0bt",
    "outputId": "c4c18bc5-c246-4ba9-c09d-86cfd6e7a993"
   },
   "outputs": [
    {
     "name": "stdout",
     "output_type": "stream",
     "text": [
      "RECOMMENDATIONS:\n"
     ]
    },
    {
     "data": {
      "text/plain": [
       "[('Bruno Mars - Versace On The Floor', 0.8474882245063782),\n",
       " ('The Weeknd - Party Monster', 0.8354108333587646),\n",
       " ('Robin Schulz & David Guetta - Shed A Light', 0.8248117566108704),\n",
       " ('John Legend - Love Me Now', 0.7971640825271606),\n",
       " ('The xx - On Hold', 0.7817398309707642)]"
      ]
     },
     "execution_count": 62,
     "metadata": {},
     "output_type": "execute_result"
    }
   ],
   "source": [
    "recommend(w2v, users, user_embeddings, k=5)"
   ]
  },
  {
   "cell_type": "code",
   "execution_count": null,
   "metadata": {
    "colab": {
     "base_uri": "https://localhost:8080/"
    },
    "id": "NiGwYhX_t0d6",
    "outputId": "8b017dfb-0832-4957-b9ba-d46f029382f1"
   },
   "outputs": [
    {
     "name": "stdout",
     "output_type": "stream",
     "text": [
      "RECOMMENDATIONS:\n"
     ]
    },
    {
     "data": {
      "text/plain": [
       "[('Crush - Beautiful', 0.7811492085456848),\n",
       " ('Sam Kim - Who are you', 0.7754925489425659),\n",
       " ('Alan Walker - Alone', 0.7754560112953186),\n",
       " ('Eddy Kim - You are so beautiful', 0.7752922773361206),\n",
       " ('EXO CHANYEOL & PUNCH - Stay With Me', 0.7728744149208069)]"
      ]
     },
     "execution_count": 86,
     "metadata": {},
     "output_type": "execute_result"
    }
   ],
   "source": [
    "recommend(w2v, users, user_embeddings, k=5)"
   ]
  },
  {
   "cell_type": "code",
   "execution_count": null,
   "metadata": {
    "colab": {
     "base_uri": "https://localhost:8080/"
    },
    "id": "Un_9ByCpt0gg",
    "outputId": "01429fd6-0b5d-43a2-d69e-019c7e127b75"
   },
   "outputs": [
    {
     "name": "stdout",
     "output_type": "stream",
     "text": [
      "RECOMMENDATIONS:\n"
     ]
    },
    {
     "data": {
      "text/plain": [
       "[('Imagine Dragons - Demons (電影「跨越世紀的情書」預告曲、美國職棒大聯盟一週好球)', 0.8038269281387329),\n",
       " ('OneRepublic - Counting Stars', 0.7920511364936829),\n",
       " ('Carly Rae Jepsen - I Really Like You', 0.7893536686897278),\n",
       " ('Rixton - Me And My Broken Heart', 0.785542368888855),\n",
       " ('Colbie Caillat - Try', 0.7789655923843384)]"
      ]
     },
     "execution_count": 65,
     "metadata": {},
     "output_type": "execute_result"
    }
   ],
   "source": [
    "recommend(w2v, users, user_embeddings, k=5)"
   ]
  },
  {
   "cell_type": "code",
   "execution_count": null,
   "metadata": {
    "colab": {
     "base_uri": "https://localhost:8080/"
    },
    "id": "jSfHC6TdI7J0",
    "outputId": "c588f327-d7a8-4fd9-8d0f-fdbfeb2e907d"
   },
   "outputs": [
    {
     "name": "stdout",
     "output_type": "stream",
     "text": [
      "RECOMMENDATIONS:\n"
     ]
    },
    {
     "data": {
      "text/plain": [
       "[('The Chainsmokers - Closer', 0.7427272200584412),\n",
       " ('Carly Rae Jepsen - I Really Like You', 0.7390003204345703),\n",
       " (\"CHARLIE PUTH - We Don't Talk Anymore\", 0.7381795048713684),\n",
       " ('Justin Timberlake - CAN\\'T STOP THE FEELING! (Original Song from DreamWorks Animation\\'s \"TROLLS\")',\n",
       "  0.7379060983657837),\n",
       " ('Alan Walker - Alone', 0.7368127107620239)]"
      ]
     },
     "execution_count": 203,
     "metadata": {},
     "output_type": "execute_result"
    }
   ],
   "source": [
    "recommend(w2v, users, user_embeddings, k=5)"
   ]
  },
  {
   "cell_type": "markdown",
   "metadata": {
    "id": "FeNvlVKRE5sE"
   },
   "source": [
    "### c) w2v + GBDT, сравнение с GBDT"
   ]
  },
  {
   "cell_type": "markdown",
   "metadata": {
    "id": "TQMjgvYjS7gg"
   },
   "source": [
    "На всём датасете обучение длится очень большое количество времени, поэтому я решил в этом пункте поработать с частью датасета."
   ]
  },
  {
   "cell_type": "code",
   "execution_count": null,
   "metadata": {
    "id": "jmHQscaHP2JU"
   },
   "outputs": [],
   "source": [
    "train = train[:1000000]\n",
    "train, val = train_test_split(train, test_size=0.3, stratify=train.target)"
   ]
  },
  {
   "cell_type": "markdown",
   "metadata": {
    "id": "gcczTj8Cycl4"
   },
   "source": [
    "Сначала сформируем train/val выборки для двух случаев:\n",
    "\n",
    "- без w2v фичей (как в задаче 1)\n",
    "\n",
    "- вместе с w2v фичами"
   ]
  },
  {
   "cell_type": "code",
   "execution_count": null,
   "metadata": {
    "colab": {
     "base_uri": "https://localhost:8080/",
     "height": 49,
     "referenced_widgets": [
      "889397dd72b44f93b72f7b18dfa9c18c",
      "f87100e0319b47338accbb0e5ead9095",
      "9bb59c95fa2f412aabf61b58b12f07a2",
      "41131f4555f14c459a8451340ffe5284",
      "4eeb3c5750604db2b507eb40c227eff6",
      "3953a31f35c44802a8f1d86dfd2096c4",
      "f1599d0c1d9842f08fff3ab50bd7b12a",
      "8a497a6ce248432fb50bf87099e1cc03",
      "82c2e50c3e6240199401babe77a052ed",
      "0cd67b5ac10b43aab69be71769cd9f86",
      "72d3bdb7eba1499ab09b6911c2be0089"
     ]
    },
    "id": "-BjeQ9Xh7erD",
    "outputId": "d186fa5e-37dd-4230-bac2-3d11b14087c3"
   },
   "outputs": [
    {
     "data": {
      "application/vnd.jupyter.widget-view+json": {
       "model_id": "889397dd72b44f93b72f7b18dfa9c18c",
       "version_major": 2,
       "version_minor": 0
      },
      "text/plain": [
       "  0%|          | 0/700000 [00:00<?, ?it/s]"
      ]
     },
     "metadata": {},
     "output_type": "display_data"
    }
   ],
   "source": [
    "# train sets creating\n",
    "w2v_train = train[['msno', 'song_id', 'target','artist_name', 'name']]\n",
    "song_embs = []\n",
    "cnt = 0\n",
    "for row in tqdm(w2v_train.iterrows(), total=len(w2v_train)):\n",
    "    row = row[1]\n",
    "    user = row['msno']\n",
    "    artist = row['artist_name']\n",
    "    song = row['name']\n",
    "    item = f'{artist} - {song}'\n",
    "    if item in w2v:\n",
    "        song_emb = w2v[item]\n",
    "    else:\n",
    "        song_emb = np.zeros(emb_size)\n",
    "        cnt += 1\n",
    "\n",
    "    song_embs.append(song_emb)\n",
    "\n",
    "song_embs_train = pd.DataFrame(song_embs)\n",
    "\n",
    "# на этом обучается бустинг в задаче 1\n",
    "X_train = train.drop(['song_id', 'msno', 'target', 'genre_ids', 'artist_name', 'composer', 'lyricist', 'name'], axis=1) # gbdt\n",
    "X_train_new = X_train.join(song_embs_train) # для w2v + gbdt\n",
    "\n",
    "y_train = train.target"
   ]
  },
  {
   "cell_type": "code",
   "execution_count": null,
   "metadata": {
    "colab": {
     "base_uri": "https://localhost:8080/",
     "height": 49,
     "referenced_widgets": [
      "820f12bbeaba43ad8f8e3f0529116f2d",
      "ae07a9a6ccf248638cd44a6556ba6021",
      "cacecdeaba4c48039464c19ce7861414",
      "efd41b91d5cc42158644fad8a4e67452",
      "4f5405e227554fb9877c10e655c1e390",
      "6d6bb75e224f4be68588e0ae6c22acb2",
      "2283c41beac743d490c8d5bc3331e18e",
      "c23a07ad57d147818dab902787e21fda",
      "c6c732813e4a4116bad6321223561f0f",
      "179db6e5315f49ffaf5995e8b48876ae",
      "05b71c9587ec4412965edb1d3f732bc4"
     ]
    },
    "id": "K8DV6cJOSU3Z",
    "outputId": "991f117d-3940-4461-a46b-45e461b73c1e"
   },
   "outputs": [
    {
     "data": {
      "application/vnd.jupyter.widget-view+json": {
       "model_id": "820f12bbeaba43ad8f8e3f0529116f2d",
       "version_major": 2,
       "version_minor": 0
      },
      "text/plain": [
       "  0%|          | 0/300000 [00:00<?, ?it/s]"
      ]
     },
     "metadata": {},
     "output_type": "display_data"
    }
   ],
   "source": [
    "# val sets creating\n",
    "w2v_val = val[['msno', 'song_id', 'target','artist_name', 'name']]\n",
    "\n",
    "song_embs = []\n",
    "cnt = 0\n",
    "for row in tqdm(w2v_val.iterrows(), total=len(w2v_val)):\n",
    "    row = row[1]\n",
    "    user = row['msno']\n",
    "    artist = row['artist_name']\n",
    "    song = row['name']\n",
    "    item = f'{artist} - {song}'\n",
    "    if item in w2v:\n",
    "        song_emb = w2v[item]\n",
    "    else:\n",
    "        song_emb = np.zeros(emb_size)\n",
    "        cnt += 1\n",
    "\n",
    "    song_embs.append(song_emb)\n",
    "\n",
    "song_embs_val = pd.DataFrame(song_embs)\n",
    "\n",
    "# на этом обучается бустинг в задаче 1\n",
    "X_val = val.drop(['song_id', 'msno', 'target', 'genre_ids', 'artist_name', 'composer', 'lyricist', 'name'], axis=1) # gbdt\n",
    "X_val_new = X_val.join(song_embs_val) # для w2v + gbdt\n",
    "\n",
    "y_val = val.target"
   ]
  },
  {
   "cell_type": "markdown",
   "metadata": {
    "id": "PmebU_Txy4sX"
   },
   "source": [
    "Переходим к обучению моделей и сравнению результатов."
   ]
  },
  {
   "cell_type": "markdown",
   "metadata": {
    "id": "pxiY7M_Pwzl1"
   },
   "source": [
    "#### gbdt"
   ]
  },
  {
   "cell_type": "code",
   "execution_count": null,
   "metadata": {
    "colab": {
     "base_uri": "https://localhost:8080/"
    },
    "id": "MArSQNLIRsgg",
    "outputId": "605c0262-9ea0-4e8f-d015-6411525478ff"
   },
   "outputs": [
    {
     "name": "stdout",
     "output_type": "stream",
     "text": [
      "0:\tlearn: 0.5956592\ttotal: 509ms\tremaining: 50.3s\n",
      "1:\tlearn: 0.5558174\ttotal: 2.48s\tremaining: 2m 1s\n",
      "2:\tlearn: 0.5372403\ttotal: 4.29s\tremaining: 2m 18s\n",
      "3:\tlearn: 0.5223151\ttotal: 6.14s\tremaining: 2m 27s\n",
      "4:\tlearn: 0.5131897\ttotal: 7.92s\tremaining: 2m 30s\n",
      "5:\tlearn: 0.5076434\ttotal: 9.68s\tremaining: 2m 31s\n",
      "6:\tlearn: 0.5027803\ttotal: 11.4s\tremaining: 2m 31s\n",
      "7:\tlearn: 0.4978593\ttotal: 13.2s\tremaining: 2m 31s\n",
      "8:\tlearn: 0.4935727\ttotal: 15s\tremaining: 2m 31s\n",
      "9:\tlearn: 0.4911514\ttotal: 16.7s\tremaining: 2m 30s\n",
      "10:\tlearn: 0.4879203\ttotal: 18.5s\tremaining: 2m 29s\n",
      "11:\tlearn: 0.4834192\ttotal: 20.3s\tremaining: 2m 28s\n",
      "12:\tlearn: 0.4812929\ttotal: 22.1s\tremaining: 2m 28s\n",
      "13:\tlearn: 0.4755330\ttotal: 23.9s\tremaining: 2m 26s\n",
      "14:\tlearn: 0.4737948\ttotal: 25.6s\tremaining: 2m 25s\n",
      "15:\tlearn: 0.4715549\ttotal: 27.4s\tremaining: 2m 23s\n",
      "16:\tlearn: 0.4696272\ttotal: 29.1s\tremaining: 2m 22s\n",
      "17:\tlearn: 0.4678543\ttotal: 30.9s\tremaining: 2m 20s\n",
      "18:\tlearn: 0.4658908\ttotal: 32.6s\tremaining: 2m 19s\n",
      "19:\tlearn: 0.4638516\ttotal: 34.4s\tremaining: 2m 17s\n",
      "20:\tlearn: 0.4615873\ttotal: 36.1s\tremaining: 2m 15s\n",
      "21:\tlearn: 0.4593726\ttotal: 37.9s\tremaining: 2m 14s\n",
      "22:\tlearn: 0.4553223\ttotal: 39.7s\tremaining: 2m 12s\n",
      "23:\tlearn: 0.4525313\ttotal: 41.4s\tremaining: 2m 11s\n",
      "24:\tlearn: 0.4508382\ttotal: 43.1s\tremaining: 2m 9s\n",
      "25:\tlearn: 0.4481866\ttotal: 45s\tremaining: 2m 8s\n",
      "26:\tlearn: 0.4459652\ttotal: 46.7s\tremaining: 2m 6s\n",
      "27:\tlearn: 0.4447229\ttotal: 48.5s\tremaining: 2m 4s\n",
      "28:\tlearn: 0.4432415\ttotal: 50.2s\tremaining: 2m 2s\n",
      "29:\tlearn: 0.4412059\ttotal: 52s\tremaining: 2m 1s\n",
      "30:\tlearn: 0.4404202\ttotal: 53.7s\tremaining: 1m 59s\n",
      "31:\tlearn: 0.4390041\ttotal: 55.5s\tremaining: 1m 57s\n",
      "32:\tlearn: 0.4363424\ttotal: 57.3s\tremaining: 1m 56s\n",
      "33:\tlearn: 0.4346803\ttotal: 59.1s\tremaining: 1m 54s\n",
      "34:\tlearn: 0.4333672\ttotal: 1m\tremaining: 1m 53s\n",
      "35:\tlearn: 0.4321858\ttotal: 1m 2s\tremaining: 1m 51s\n",
      "36:\tlearn: 0.4297094\ttotal: 1m 4s\tremaining: 1m 49s\n",
      "37:\tlearn: 0.4285402\ttotal: 1m 6s\tremaining: 1m 47s\n",
      "38:\tlearn: 0.4265338\ttotal: 1m 7s\tremaining: 1m 46s\n",
      "39:\tlearn: 0.4252808\ttotal: 1m 9s\tremaining: 1m 44s\n",
      "40:\tlearn: 0.4237953\ttotal: 1m 11s\tremaining: 1m 42s\n",
      "41:\tlearn: 0.4227281\ttotal: 1m 13s\tremaining: 1m 40s\n",
      "42:\tlearn: 0.4213267\ttotal: 1m 14s\tremaining: 1m 39s\n",
      "43:\tlearn: 0.4202941\ttotal: 1m 16s\tremaining: 1m 37s\n",
      "44:\tlearn: 0.4190301\ttotal: 1m 18s\tremaining: 1m 35s\n",
      "45:\tlearn: 0.4177767\ttotal: 1m 20s\tremaining: 1m 34s\n",
      "46:\tlearn: 0.4166138\ttotal: 1m 21s\tremaining: 1m 32s\n",
      "47:\tlearn: 0.4159081\ttotal: 1m 23s\tremaining: 1m 30s\n",
      "48:\tlearn: 0.4150960\ttotal: 1m 25s\tremaining: 1m 28s\n",
      "49:\tlearn: 0.4139675\ttotal: 1m 27s\tremaining: 1m 27s\n",
      "50:\tlearn: 0.4122675\ttotal: 1m 28s\tremaining: 1m 25s\n",
      "51:\tlearn: 0.4111793\ttotal: 1m 30s\tremaining: 1m 23s\n",
      "52:\tlearn: 0.4102431\ttotal: 1m 32s\tremaining: 1m 21s\n",
      "53:\tlearn: 0.4092330\ttotal: 1m 34s\tremaining: 1m 20s\n",
      "54:\tlearn: 0.4078117\ttotal: 1m 35s\tremaining: 1m 18s\n",
      "55:\tlearn: 0.4073229\ttotal: 1m 37s\tremaining: 1m 16s\n",
      "56:\tlearn: 0.4060491\ttotal: 1m 39s\tremaining: 1m 14s\n",
      "57:\tlearn: 0.4048365\ttotal: 1m 41s\tremaining: 1m 13s\n",
      "58:\tlearn: 0.4029321\ttotal: 1m 42s\tremaining: 1m 11s\n",
      "59:\tlearn: 0.4024630\ttotal: 1m 44s\tremaining: 1m 9s\n",
      "60:\tlearn: 0.4020647\ttotal: 1m 46s\tremaining: 1m 7s\n",
      "61:\tlearn: 0.4010028\ttotal: 1m 47s\tremaining: 1m 6s\n",
      "62:\tlearn: 0.3992192\ttotal: 1m 49s\tremaining: 1m 4s\n",
      "63:\tlearn: 0.3986793\ttotal: 1m 51s\tremaining: 1m 2s\n",
      "64:\tlearn: 0.3976238\ttotal: 1m 53s\tremaining: 1m\n",
      "65:\tlearn: 0.3967013\ttotal: 1m 54s\tremaining: 59.2s\n",
      "66:\tlearn: 0.3960871\ttotal: 1m 56s\tremaining: 57.5s\n",
      "67:\tlearn: 0.3954773\ttotal: 1m 58s\tremaining: 55.7s\n",
      "68:\tlearn: 0.3952689\ttotal: 2m\tremaining: 53.9s\n",
      "69:\tlearn: 0.3946556\ttotal: 2m 1s\tremaining: 52.2s\n",
      "70:\tlearn: 0.3936393\ttotal: 2m 3s\tremaining: 50.4s\n",
      "71:\tlearn: 0.3924889\ttotal: 2m 5s\tremaining: 48.7s\n",
      "72:\tlearn: 0.3914500\ttotal: 2m 7s\tremaining: 47s\n",
      "73:\tlearn: 0.3911654\ttotal: 2m 8s\tremaining: 45.2s\n",
      "74:\tlearn: 0.3898560\ttotal: 2m 10s\tremaining: 43.5s\n",
      "75:\tlearn: 0.3893766\ttotal: 2m 12s\tremaining: 41.7s\n",
      "76:\tlearn: 0.3891460\ttotal: 2m 13s\tremaining: 40s\n",
      "77:\tlearn: 0.3884937\ttotal: 2m 15s\tremaining: 38.3s\n",
      "78:\tlearn: 0.3874520\ttotal: 2m 17s\tremaining: 36.5s\n",
      "79:\tlearn: 0.3866618\ttotal: 2m 19s\tremaining: 34.8s\n",
      "80:\tlearn: 0.3859138\ttotal: 2m 20s\tremaining: 33.1s\n",
      "81:\tlearn: 0.3855823\ttotal: 2m 22s\tremaining: 31.3s\n",
      "82:\tlearn: 0.3846916\ttotal: 2m 24s\tremaining: 29.6s\n",
      "83:\tlearn: 0.3838701\ttotal: 2m 26s\tremaining: 27.8s\n",
      "84:\tlearn: 0.3829891\ttotal: 2m 27s\tremaining: 26.1s\n",
      "85:\tlearn: 0.3826435\ttotal: 2m 29s\tremaining: 24.4s\n",
      "86:\tlearn: 0.3823871\ttotal: 2m 31s\tremaining: 22.6s\n",
      "87:\tlearn: 0.3813078\ttotal: 2m 33s\tremaining: 20.9s\n",
      "88:\tlearn: 0.3803458\ttotal: 2m 34s\tremaining: 19.1s\n",
      "89:\tlearn: 0.3798139\ttotal: 2m 36s\tremaining: 17.4s\n",
      "90:\tlearn: 0.3796668\ttotal: 2m 38s\tremaining: 15.7s\n",
      "91:\tlearn: 0.3793281\ttotal: 2m 39s\tremaining: 13.9s\n",
      "92:\tlearn: 0.3789519\ttotal: 2m 41s\tremaining: 12.2s\n",
      "93:\tlearn: 0.3785812\ttotal: 2m 43s\tremaining: 10.4s\n",
      "94:\tlearn: 0.3780488\ttotal: 2m 45s\tremaining: 8.69s\n",
      "95:\tlearn: 0.3775401\ttotal: 2m 46s\tremaining: 6.95s\n",
      "96:\tlearn: 0.3769996\ttotal: 2m 48s\tremaining: 5.21s\n",
      "97:\tlearn: 0.3766269\ttotal: 2m 50s\tremaining: 3.47s\n",
      "98:\tlearn: 0.3760490\ttotal: 2m 51s\tremaining: 1.74s\n",
      "99:\tlearn: 0.3755343\ttotal: 2m 53s\tremaining: 0us\n"
     ]
    },
    {
     "data": {
      "text/plain": [
       "<catboost.core.CatBoostClassifier at 0x7f0c05fb5610>"
      ]
     },
     "execution_count": 45,
     "metadata": {},
     "output_type": "execute_result"
    }
   ],
   "source": [
    "# обучаем бустинг (как в задаче 1)\n",
    "categorical = [0, 1, 2, 3, 5, 12, 14]\n",
    "pool = Pool(data=X_train, label=y_train, cat_features=categorical, has_header=True)\n",
    "best_params = {'loss_function': 'Logloss',\n",
    "               'custom_loss': 'AUC',\n",
    "               'iterations': 100,\n",
    "               'depth': 15,\n",
    "               'learning_rate': 0.5}\n",
    "\n",
    "model = CatBoostClassifier(**best_params)\n",
    "model.fit(pool)"
   ]
  },
  {
   "cell_type": "code",
   "execution_count": null,
   "metadata": {
    "colab": {
     "base_uri": "https://localhost:8080/"
    },
    "id": "c98R0ZkSUfnw",
    "outputId": "79dca85d-41c8-468b-a0bf-9ee1135f35a7"
   },
   "outputs": [
    {
     "data": {
      "text/plain": [
       "0.8437636222106089"
      ]
     },
     "execution_count": 46,
     "metadata": {},
     "output_type": "execute_result"
    }
   ],
   "source": [
    "# оценка качества\n",
    "y_pred_probs = model.predict_proba(X_val)[:, 1]\n",
    "roc_auc_score(y_val, y_pred_probs)"
   ]
  },
  {
   "cell_type": "code",
   "execution_count": null,
   "metadata": {
    "colab": {
     "base_uri": "https://localhost:8080/",
     "height": 560
    },
    "id": "kgTeS8J9Vw_g",
    "outputId": "b798eeec-bfcb-4872-a464-9803741a6fd1"
   },
   "outputs": [
    {
     "data": {
      "image/png": "[encoded data removed]",
      "text/plain": [
       "<Figure size 576x655.2 with 1 Axes>"
      ]
     },
     "metadata": {
      "needs_background": "light"
     },
     "output_type": "display_data"
    }
   ],
   "source": [
    "# интерпретация\n",
    "interpret_idxs = np.random.choice(X_val.reset_index().index, 100, replace=False)\n",
    "X_interpret = X_val.iloc[interpret_idxs]\n",
    "explainer = shap.TreeExplainer(model)\n",
    "shap_values = explainer.shap_values(X_interpret)\n",
    "shap.summary_plot(shap_values, X_interpret, plot_type=\"bar\")"
   ]
  },
  {
   "cell_type": "code",
   "execution_count": null,
   "metadata": {
    "colab": {
     "base_uri": "https://localhost:8080/",
     "height": 564
    },
    "id": "8YhcwIkMZFKF",
    "outputId": "a7964555-78f0-44b9-dfb2-2b364051b0f6"
   },
   "outputs": [
    {
     "data": {
      "image/png": "[encoded data removed]",
      "text/plain": [
       "<Figure size 576x655.2 with 2 Axes>"
      ]
     },
     "metadata": {
      "needs_background": "light"
     },
     "output_type": "display_data"
    }
   ],
   "source": [
    "shap.summary_plot(shap_values, X_interpret)"
   ]
  },
  {
   "cell_type": "markdown",
   "metadata": {
    "id": "V9W18Xzrw3gx"
   },
   "source": [
    "#### w2v + gbdt"
   ]
  },
  {
   "cell_type": "code",
   "execution_count": null,
   "metadata": {
    "colab": {
     "base_uri": "https://localhost:8080/"
    },
    "id": "4_UWw9SaRw9F",
    "outputId": "713d63cc-30f0-4643-fd6b-9ae634e8a929"
   },
   "outputs": [
    {
     "name": "stdout",
     "output_type": "stream",
     "text": [
      "0:\tlearn: 0.5772095\ttotal: 14.7s\tremaining: 24m 15s\n",
      "1:\tlearn: 0.5347163\ttotal: 29.7s\tremaining: 24m 13s\n",
      "2:\tlearn: 0.5134709\ttotal: 44.4s\tremaining: 23m 54s\n",
      "3:\tlearn: 0.5050093\ttotal: 58.6s\tremaining: 23m 27s\n",
      "4:\tlearn: 0.4985674\ttotal: 1m 12s\tremaining: 23m 6s\n",
      "5:\tlearn: 0.4921292\ttotal: 1m 27s\tremaining: 22m 51s\n",
      "6:\tlearn: 0.4843795\ttotal: 1m 42s\tremaining: 22m 38s\n",
      "7:\tlearn: 0.4754058\ttotal: 1m 57s\tremaining: 22m 25s\n",
      "8:\tlearn: 0.4700538\ttotal: 2m 11s\tremaining: 22m 13s\n",
      "9:\tlearn: 0.4660177\ttotal: 2m 26s\tremaining: 21m 56s\n",
      "10:\tlearn: 0.4620012\ttotal: 2m 40s\tremaining: 21m 40s\n",
      "11:\tlearn: 0.4590530\ttotal: 2m 55s\tremaining: 21m 25s\n",
      "12:\tlearn: 0.4536543\ttotal: 3m 9s\tremaining: 21m 10s\n",
      "13:\tlearn: 0.4487041\ttotal: 3m 24s\tremaining: 20m 54s\n",
      "14:\tlearn: 0.4459837\ttotal: 3m 38s\tremaining: 20m 39s\n",
      "15:\tlearn: 0.4371201\ttotal: 3m 54s\tremaining: 20m 29s\n",
      "16:\tlearn: 0.4353295\ttotal: 4m 8s\tremaining: 20m 12s\n",
      "17:\tlearn: 0.4315738\ttotal: 4m 23s\tremaining: 20m\n",
      "18:\tlearn: 0.4261082\ttotal: 4m 38s\tremaining: 19m 48s\n",
      "19:\tlearn: 0.4217155\ttotal: 4m 53s\tremaining: 19m 35s\n",
      "20:\tlearn: 0.4176600\ttotal: 5m 8s\tremaining: 19m 21s\n",
      "21:\tlearn: 0.4136810\ttotal: 5m 23s\tremaining: 19m 8s\n",
      "22:\tlearn: 0.4115233\ttotal: 5m 38s\tremaining: 18m 52s\n",
      "23:\tlearn: 0.4066808\ttotal: 5m 53s\tremaining: 18m 39s\n",
      "24:\tlearn: 0.4026474\ttotal: 6m 8s\tremaining: 18m 24s\n",
      "25:\tlearn: 0.3997533\ttotal: 6m 23s\tremaining: 18m 10s\n",
      "26:\tlearn: 0.3967094\ttotal: 6m 37s\tremaining: 17m 55s\n",
      "27:\tlearn: 0.3933768\ttotal: 6m 52s\tremaining: 17m 40s\n",
      "28:\tlearn: 0.3894649\ttotal: 7m 7s\tremaining: 17m 26s\n",
      "29:\tlearn: 0.3873793\ttotal: 7m 22s\tremaining: 17m 11s\n",
      "30:\tlearn: 0.3823353\ttotal: 7m 36s\tremaining: 16m 56s\n",
      "31:\tlearn: 0.3779035\ttotal: 7m 51s\tremaining: 16m 42s\n",
      "32:\tlearn: 0.3762123\ttotal: 8m 5s\tremaining: 16m 26s\n",
      "33:\tlearn: 0.3735994\ttotal: 8m 20s\tremaining: 16m 10s\n",
      "34:\tlearn: 0.3702810\ttotal: 8m 35s\tremaining: 15m 56s\n",
      "35:\tlearn: 0.3673918\ttotal: 8m 49s\tremaining: 15m 41s\n",
      "36:\tlearn: 0.3625840\ttotal: 9m 4s\tremaining: 15m 27s\n",
      "37:\tlearn: 0.3596421\ttotal: 9m 19s\tremaining: 15m 13s\n",
      "38:\tlearn: 0.3569224\ttotal: 9m 34s\tremaining: 14m 58s\n",
      "39:\tlearn: 0.3540991\ttotal: 9m 49s\tremaining: 14m 43s\n",
      "40:\tlearn: 0.3521573\ttotal: 10m 3s\tremaining: 14m 28s\n",
      "41:\tlearn: 0.3492102\ttotal: 10m 18s\tremaining: 14m 14s\n",
      "42:\tlearn: 0.3476757\ttotal: 10m 32s\tremaining: 13m 58s\n",
      "43:\tlearn: 0.3454157\ttotal: 10m 47s\tremaining: 13m 44s\n",
      "44:\tlearn: 0.3444954\ttotal: 11m 1s\tremaining: 13m 28s\n",
      "45:\tlearn: 0.3428515\ttotal: 11m 16s\tremaining: 13m 13s\n",
      "46:\tlearn: 0.3395360\ttotal: 11m 31s\tremaining: 12m 59s\n",
      "47:\tlearn: 0.3371000\ttotal: 11m 45s\tremaining: 12m 44s\n",
      "48:\tlearn: 0.3334628\ttotal: 12m\tremaining: 12m 30s\n",
      "49:\tlearn: 0.3320802\ttotal: 12m 15s\tremaining: 12m 15s\n",
      "50:\tlearn: 0.3295967\ttotal: 12m 29s\tremaining: 12m\n",
      "51:\tlearn: 0.3254583\ttotal: 12m 45s\tremaining: 11m 46s\n",
      "52:\tlearn: 0.3223713\ttotal: 13m\tremaining: 11m 32s\n",
      "53:\tlearn: 0.3188658\ttotal: 13m 15s\tremaining: 11m 17s\n",
      "54:\tlearn: 0.3166737\ttotal: 13m 30s\tremaining: 11m 3s\n",
      "55:\tlearn: 0.3145017\ttotal: 13m 45s\tremaining: 10m 48s\n",
      "56:\tlearn: 0.3120638\ttotal: 14m\tremaining: 10m 33s\n",
      "57:\tlearn: 0.3091576\ttotal: 14m 15s\tremaining: 10m 19s\n",
      "58:\tlearn: 0.3076682\ttotal: 14m 30s\tremaining: 10m 4s\n",
      "59:\tlearn: 0.3041198\ttotal: 14m 45s\tremaining: 9m 50s\n",
      "60:\tlearn: 0.3021392\ttotal: 15m\tremaining: 9m 35s\n",
      "61:\tlearn: 0.3002667\ttotal: 15m 15s\tremaining: 9m 21s\n",
      "62:\tlearn: 0.2967350\ttotal: 15m 30s\tremaining: 9m 6s\n",
      "63:\tlearn: 0.2941612\ttotal: 15m 45s\tremaining: 8m 51s\n",
      "64:\tlearn: 0.2927922\ttotal: 16m\tremaining: 8m 36s\n",
      "65:\tlearn: 0.2904764\ttotal: 16m 14s\tremaining: 8m 22s\n",
      "66:\tlearn: 0.2887817\ttotal: 16m 29s\tremaining: 8m 7s\n",
      "67:\tlearn: 0.2873523\ttotal: 16m 44s\tremaining: 7m 52s\n",
      "68:\tlearn: 0.2844224\ttotal: 16m 59s\tremaining: 7m 38s\n",
      "69:\tlearn: 0.2829754\ttotal: 17m 14s\tremaining: 7m 23s\n",
      "70:\tlearn: 0.2803278\ttotal: 17m 29s\tremaining: 7m 8s\n",
      "71:\tlearn: 0.2779056\ttotal: 17m 44s\tremaining: 6m 53s\n",
      "72:\tlearn: 0.2763685\ttotal: 17m 59s\tremaining: 6m 39s\n",
      "73:\tlearn: 0.2740218\ttotal: 18m 14s\tremaining: 6m 24s\n",
      "74:\tlearn: 0.2718349\ttotal: 18m 29s\tremaining: 6m 9s\n",
      "75:\tlearn: 0.2702716\ttotal: 18m 44s\tremaining: 5m 54s\n",
      "76:\tlearn: 0.2690355\ttotal: 18m 58s\tremaining: 5m 40s\n",
      "77:\tlearn: 0.2664143\ttotal: 19m 14s\tremaining: 5m 25s\n",
      "78:\tlearn: 0.2646780\ttotal: 19m 29s\tremaining: 5m 10s\n",
      "79:\tlearn: 0.2630888\ttotal: 19m 43s\tremaining: 4m 55s\n",
      "80:\tlearn: 0.2613240\ttotal: 19m 58s\tremaining: 4m 41s\n",
      "81:\tlearn: 0.2595918\ttotal: 20m 13s\tremaining: 4m 26s\n",
      "82:\tlearn: 0.2582930\ttotal: 20m 28s\tremaining: 4m 11s\n",
      "83:\tlearn: 0.2565986\ttotal: 20m 43s\tremaining: 3m 56s\n",
      "84:\tlearn: 0.2554660\ttotal: 20m 57s\tremaining: 3m 41s\n",
      "85:\tlearn: 0.2537153\ttotal: 21m 12s\tremaining: 3m 27s\n",
      "86:\tlearn: 0.2519719\ttotal: 21m 27s\tremaining: 3m 12s\n",
      "87:\tlearn: 0.2505608\ttotal: 21m 42s\tremaining: 2m 57s\n",
      "88:\tlearn: 0.2488581\ttotal: 21m 57s\tremaining: 2m 42s\n",
      "89:\tlearn: 0.2475843\ttotal: 22m 11s\tremaining: 2m 27s\n",
      "90:\tlearn: 0.2466028\ttotal: 22m 25s\tremaining: 2m 13s\n",
      "91:\tlearn: 0.2451803\ttotal: 22m 40s\tremaining: 1m 58s\n",
      "92:\tlearn: 0.2444053\ttotal: 22m 54s\tremaining: 1m 43s\n",
      "93:\tlearn: 0.2433980\ttotal: 23m 10s\tremaining: 1m 28s\n",
      "94:\tlearn: 0.2423904\ttotal: 23m 24s\tremaining: 1m 13s\n",
      "95:\tlearn: 0.2418215\ttotal: 23m 38s\tremaining: 59.1s\n",
      "96:\tlearn: 0.2401220\ttotal: 23m 53s\tremaining: 44.3s\n",
      "97:\tlearn: 0.2383299\ttotal: 24m 8s\tremaining: 29.6s\n",
      "98:\tlearn: 0.2361934\ttotal: 24m 24s\tremaining: 14.8s\n",
      "99:\tlearn: 0.2338840\ttotal: 24m 39s\tremaining: 0us\n"
     ]
    },
    {
     "data": {
      "text/plain": [
       "<catboost.core.CatBoostClassifier at 0x7f0c0415d990>"
      ]
     },
     "execution_count": 49,
     "metadata": {},
     "output_type": "execute_result"
    }
   ],
   "source": [
    "# обучаем новый бустинг (в данных есть неклассические эмбеддинги)\n",
    "\n",
    "categorical = [0, 1, 2, 3, 5, 12, 14]\n",
    "pool = Pool(data=X_train_new, label=y_train, cat_features=categorical, has_header=True)\n",
    "best_params = {'loss_function': 'Logloss',\n",
    "               'custom_loss': 'AUC',\n",
    "               'iterations': 100,\n",
    "               'depth': 15,\n",
    "               'learning_rate': 0.5}\n",
    "\n",
    "model = CatBoostClassifier(**best_params)\n",
    "model.fit(pool)"
   ]
  },
  {
   "cell_type": "code",
   "execution_count": null,
   "metadata": {
    "colab": {
     "base_uri": "https://localhost:8080/"
    },
    "id": "GH9rsTHtYg00",
    "outputId": "ebeb05d9-1308-41c1-8d18-f21a357d387a"
   },
   "outputs": [
    {
     "data": {
      "text/plain": [
       "0.7952480682224188"
      ]
     },
     "execution_count": 50,
     "metadata": {},
     "output_type": "execute_result"
    }
   ],
   "source": [
    "# оценка качества\n",
    "y_pred_probs = model.predict_proba(X_val_new)[:, 1]\n",
    "roc_auc_score(y_val, y_pred_probs)"
   ]
  },
  {
   "cell_type": "code",
   "execution_count": null,
   "metadata": {
    "colab": {
     "base_uri": "https://localhost:8080/",
     "height": 581
    },
    "id": "25iPZztIY3Gz",
    "outputId": "0c7f1f8e-440b-43ad-ece8-eae4938be7ac"
   },
   "outputs": [
    {
     "data": {
      "image/png": "[encoded data removed]",
      "text/plain": [
       "<Figure size 576x684 with 1 Axes>"
      ]
     },
     "metadata": {
      "needs_background": "light"
     },
     "output_type": "display_data"
    }
   ],
   "source": [
    "# интерпретация\n",
    "interpret_idxs = np.random.choice(X_val_new.reset_index().index, 100, replace=False)\n",
    "X_interpret = X_val_new.iloc[interpret_idxs]\n",
    "explainer = shap.TreeExplainer(model)\n",
    "shap_values = explainer.shap_values(X_interpret)\n",
    "shap.summary_plot(shap_values, X_interpret, plot_type=\"bar\")"
   ]
  },
  {
   "cell_type": "code",
   "execution_count": null,
   "metadata": {
    "colab": {
     "base_uri": "https://localhost:8080/",
     "height": 585
    },
    "id": "8noWqJLAY7ab",
    "outputId": "89992b12-cba2-449e-c37c-22dc9634de57"
   },
   "outputs": [
    {
     "data": {
      "image/png": "[encoded data removed]",
      "text/plain": [
       "<Figure size 576x684 with 2 Axes>"
      ]
     },
     "metadata": {
      "needs_background": "light"
     },
     "output_type": "display_data"
    }
   ],
   "source": [
    "shap.summary_plot(shap_values, X_interpret)"
   ]
  },
  {
   "cell_type": "markdown",
   "metadata": {
    "id": "aXaFyjY689iE"
   },
   "source": [
    "#### итог"
   ]
  },
  {
   "cell_type": "markdown",
   "metadata": {
    "id": "masAjt-X9A-1"
   },
   "source": [
    "В результате чистый gbdt показал лучший результат (0.84 в сравнении с 0.79), при том что обучение второй модели заняло в разы больше времени из-за большого числа фичей. Расклад важности фичей изменился не сильно (во второй модели 5 компонент из 64 вышли в топ-20). \n",
    "\n",
    "В дополнение к этому: мне поздно пришла идея использовать не эмбединги песен как дополнительные фичи, а некоторое аккумулированное значение (например, скалярное произведение эмбедингов пользователя и песни). Это во первых облегчило бы обучение и, возможно, принесло улучшение. Но обучить такую модель я не успевал."
   ]
  }
 ],
 "metadata": {
  "colab": {
   "collapsed_sections": [
    "pxCJnHL5xjAI",
    "-g5Ps2RjxpIr",
    "ZYlRP0r2ExnU",
    "PV3BmVHSE3Zu"
   ],
   "name": "result_HW2_RecSys.ipynb",
   "provenance": []
  },
  "kernelspec": {
   "display_name": "Python 3",
   "language": "python",
   "name": "python3"
  },
  "language_info": {
   "codemirror_mode": {
    "name": "ipython",
    "version": 3
   },
   "file_extension": ".py",
   "mimetype": "text/x-python",
   "name": "python",
   "nbconvert_exporter": "python",
   "pygments_lexer": "ipython3",
   "version": "3.8.10"
  },
  "widgets": {
   "application/vnd.jupyter.widget-state+json": {
    "05b71c9587ec4412965edb1d3f732bc4": {
     "model_module": "@jupyter-widgets/base",
     "model_module_version": "1.2.0",
     "model_name": "LayoutModel",
     "state": {
      "_model_module": "@jupyter-widgets/base",
      "_model_module_version": "1.2.0",
      "_model_name": "LayoutModel",
      "_view_count": null,
      "_view_module": "@jupyter-widgets/base",
      "_view_module_version": "1.2.0",
      "_view_name": "LayoutView",
      "align_content": null,
      "align_items": null,
      "align_self": null,
      "border": null,
      "bottom": null,
      "display": null,
      "flex": null,
      "flex_flow": null,
      "grid_area": null,
      "grid_auto_columns": null,
      "grid_auto_flow": null,
      "grid_auto_rows": null,
      "grid_column": null,
      "grid_gap": null,
      "grid_row": null,
      "grid_template_areas": null,
      "grid_template_columns": null,
      "grid_template_rows": null,
      "height": null,
      "justify_content": null,
      "justify_items": null,
      "left": null,
      "margin": null,
      "max_height": null,
      "max_width": null,
      "min_height": null,
      "min_width": null,
      "object_fit": null,
      "object_position": null,
      "order": null,
      "overflow": null,
      "overflow_x": null,
      "overflow_y": null,
      "padding": null,
      "right": null,
      "top": null,
      "visibility": null,
      "width": null
     }
    },
    "0645e4ac357b4c25aef0a51ee5ab67d6": {
     "model_module": "@jupyter-widgets/base",
     "model_module_version": "1.2.0",
     "model_name": "LayoutModel",
     "state": {
      "_model_module": "@jupyter-widgets/base",
      "_model_module_version": "1.2.0",
      "_model_name": "LayoutModel",
      "_view_count": null,
      "_view_module": "@jupyter-widgets/base",
      "_view_module_version": "1.2.0",
      "_view_name": "LayoutView",
      "align_content": null,
      "align_items": null,
      "align_self": null,
      "border": null,
      "bottom": null,
      "display": null,
      "flex": null,
      "flex_flow": null,
      "grid_area": null,
      "grid_auto_columns": null,
      "grid_auto_flow": null,
      "grid_auto_rows": null,
      "grid_column": null,
      "grid_gap": null,
      "grid_row": null,
      "grid_template_areas": null,
      "grid_template_columns": null,
      "grid_template_rows": null,
      "height": null,
      "justify_content": null,
      "justify_items": null,
      "left": null,
      "margin": null,
      "max_height": null,
      "max_width": null,
      "min_height": null,
      "min_width": null,
      "object_fit": null,
      "object_position": null,
      "order": null,
      "overflow": null,
      "overflow_x": null,
      "overflow_y": null,
      "padding": null,
      "right": null,
      "top": null,
      "visibility": null,
      "width": null
     }
    },
    "0cd67b5ac10b43aab69be71769cd9f86": {
     "model_module": "@jupyter-widgets/controls",
     "model_module_version": "1.5.0",
     "model_name": "DescriptionStyleModel",
     "state": {
      "_model_module": "@jupyter-widgets/controls",
      "_model_module_version": "1.5.0",
      "_model_name": "DescriptionStyleModel",
      "_view_count": null,
      "_view_module": "@jupyter-widgets/base",
      "_view_module_version": "1.2.0",
      "_view_name": "StyleView",
      "description_width": ""
     }
    },
    "179db6e5315f49ffaf5995e8b48876ae": {
     "model_module": "@jupyter-widgets/controls",
     "model_module_version": "1.5.0",
     "model_name": "DescriptionStyleModel",
     "state": {
      "_model_module": "@jupyter-widgets/controls",
      "_model_module_version": "1.5.0",
      "_model_name": "DescriptionStyleModel",
      "_view_count": null,
      "_view_module": "@jupyter-widgets/base",
      "_view_module_version": "1.2.0",
      "_view_name": "StyleView",
      "description_width": ""
     }
    },
    "1eae9aea5cc246f3af7122f3475c764d": {
     "model_module": "@jupyter-widgets/base",
     "model_module_version": "1.2.0",
     "model_name": "LayoutModel",
     "state": {
      "_model_module": "@jupyter-widgets/base",
      "_model_module_version": "1.2.0",
      "_model_name": "LayoutModel",
      "_view_count": null,
      "_view_module": "@jupyter-widgets/base",
      "_view_module_version": "1.2.0",
      "_view_name": "LayoutView",
      "align_content": null,
      "align_items": null,
      "align_self": null,
      "border": null,
      "bottom": null,
      "display": null,
      "flex": null,
      "flex_flow": null,
      "grid_area": null,
      "grid_auto_columns": null,
      "grid_auto_flow": null,
      "grid_auto_rows": null,
      "grid_column": null,
      "grid_gap": null,
      "grid_row": null,
      "grid_template_areas": null,
      "grid_template_columns": null,
      "grid_template_rows": null,
      "height": null,
      "justify_content": null,
      "justify_items": null,
      "left": null,
      "margin": null,
      "max_height": null,
      "max_width": null,
      "min_height": null,
      "min_width": null,
      "object_fit": null,
      "object_position": null,
      "order": null,
      "overflow": null,
      "overflow_x": null,
      "overflow_y": null,
      "padding": null,
      "right": null,
      "top": null,
      "visibility": null,
      "width": null
     }
    },
    "2283c41beac743d490c8d5bc3331e18e": {
     "model_module": "@jupyter-widgets/base",
     "model_module_version": "1.2.0",
     "model_name": "LayoutModel",
     "state": {
      "_model_module": "@jupyter-widgets/base",
      "_model_module_version": "1.2.0",
      "_model_name": "LayoutModel",
      "_view_count": null,
      "_view_module": "@jupyter-widgets/base",
      "_view_module_version": "1.2.0",
      "_view_name": "LayoutView",
      "align_content": null,
      "align_items": null,
      "align_self": null,
      "border": null,
      "bottom": null,
      "display": null,
      "flex": null,
      "flex_flow": null,
      "grid_area": null,
      "grid_auto_columns": null,
      "grid_auto_flow": null,
      "grid_auto_rows": null,
      "grid_column": null,
      "grid_gap": null,
      "grid_row": null,
      "grid_template_areas": null,
      "grid_template_columns": null,
      "grid_template_rows": null,
      "height": null,
      "justify_content": null,
      "justify_items": null,
      "left": null,
      "margin": null,
      "max_height": null,
      "max_width": null,
      "min_height": null,
      "min_width": null,
      "object_fit": null,
      "object_position": null,
      "order": null,
      "overflow": null,
      "overflow_x": null,
      "overflow_y": null,
      "padding": null,
      "right": null,
      "top": null,
      "visibility": null,
      "width": null
     }
    },
    "262d97ec73a548cd811234c1b521a6cb": {
     "model_module": "@jupyter-widgets/controls",
     "model_module_version": "1.5.0",
     "model_name": "DescriptionStyleModel",
     "state": {
      "_model_module": "@jupyter-widgets/controls",
      "_model_module_version": "1.5.0",
      "_model_name": "DescriptionStyleModel",
      "_view_count": null,
      "_view_module": "@jupyter-widgets/base",
      "_view_module_version": "1.2.0",
      "_view_name": "StyleView",
      "description_width": ""
     }
    },
    "288485c1ba424830a6d51c9602735c90": {
     "model_module": "@jupyter-widgets/base",
     "model_module_version": "1.2.0",
     "model_name": "LayoutModel",
     "state": {
      "_model_module": "@jupyter-widgets/base",
      "_model_module_version": "1.2.0",
      "_model_name": "LayoutModel",
      "_view_count": null,
      "_view_module": "@jupyter-widgets/base",
      "_view_module_version": "1.2.0",
      "_view_name": "LayoutView",
      "align_content": null,
      "align_items": null,
      "align_self": null,
      "border": null,
      "bottom": null,
      "display": null,
      "flex": null,
      "flex_flow": null,
      "grid_area": null,
      "grid_auto_columns": null,
      "grid_auto_flow": null,
      "grid_auto_rows": null,
      "grid_column": null,
      "grid_gap": null,
      "grid_row": null,
      "grid_template_areas": null,
      "grid_template_columns": null,
      "grid_template_rows": null,
      "height": null,
      "justify_content": null,
      "justify_items": null,
      "left": null,
      "margin": null,
      "max_height": null,
      "max_width": null,
      "min_height": null,
      "min_width": null,
      "object_fit": null,
      "object_position": null,
      "order": null,
      "overflow": null,
      "overflow_x": null,
      "overflow_y": null,
      "padding": null,
      "right": null,
      "top": null,
      "visibility": null,
      "width": null
     }
    },
    "3953a31f35c44802a8f1d86dfd2096c4": {
     "model_module": "@jupyter-widgets/controls",
     "model_module_version": "1.5.0",
     "model_name": "DescriptionStyleModel",
     "state": {
      "_model_module": "@jupyter-widgets/controls",
      "_model_module_version": "1.5.0",
      "_model_name": "DescriptionStyleModel",
      "_view_count": null,
      "_view_module": "@jupyter-widgets/base",
      "_view_module_version": "1.2.0",
      "_view_name": "StyleView",
      "description_width": ""
     }
    },
    "41131f4555f14c459a8451340ffe5284": {
     "model_module": "@jupyter-widgets/controls",
     "model_module_version": "1.5.0",
     "model_name": "FloatProgressModel",
     "state": {
      "_dom_classes": [],
      "_model_module": "@jupyter-widgets/controls",
      "_model_module_version": "1.5.0",
      "_model_name": "FloatProgressModel",
      "_view_count": null,
      "_view_module": "@jupyter-widgets/controls",
      "_view_module_version": "1.5.0",
      "_view_name": "ProgressView",
      "bar_style": "success",
      "description": "",
      "description_tooltip": null,
      "layout": "IPY_MODEL_82c2e50c3e6240199401babe77a052ed",
      "max": 700000,
      "min": 0,
      "orientation": "horizontal",
      "style": "IPY_MODEL_8a497a6ce248432fb50bf87099e1cc03",
      "value": 700000
     }
    },
    "423f7255fa484a0ab623dd1a3d173238": {
     "model_module": "@jupyter-widgets/base",
     "model_module_version": "1.2.0",
     "model_name": "LayoutModel",
     "state": {
      "_model_module": "@jupyter-widgets/base",
      "_model_module_version": "1.2.0",
      "_model_name": "LayoutModel",
      "_view_count": null,
      "_view_module": "@jupyter-widgets/base",
      "_view_module_version": "1.2.0",
      "_view_name": "LayoutView",
      "align_content": null,
      "align_items": null,
      "align_self": null,
      "border": null,
      "bottom": null,
      "display": null,
      "flex": null,
      "flex_flow": null,
      "grid_area": null,
      "grid_auto_columns": null,
      "grid_auto_flow": null,
      "grid_auto_rows": null,
      "grid_column": null,
      "grid_gap": null,
      "grid_row": null,
      "grid_template_areas": null,
      "grid_template_columns": null,
      "grid_template_rows": null,
      "height": null,
      "justify_content": null,
      "justify_items": null,
      "left": null,
      "margin": null,
      "max_height": null,
      "max_width": null,
      "min_height": null,
      "min_width": null,
      "object_fit": null,
      "object_position": null,
      "order": null,
      "overflow": null,
      "overflow_x": null,
      "overflow_y": null,
      "padding": null,
      "right": null,
      "top": null,
      "visibility": null,
      "width": null
     }
    },
    "4eeb3c5750604db2b507eb40c227eff6": {
     "model_module": "@jupyter-widgets/controls",
     "model_module_version": "1.5.0",
     "model_name": "HTMLModel",
     "state": {
      "_dom_classes": [],
      "_model_module": "@jupyter-widgets/controls",
      "_model_module_version": "1.5.0",
      "_model_name": "HTMLModel",
      "_view_count": null,
      "_view_module": "@jupyter-widgets/controls",
      "_view_module_version": "1.5.0",
      "_view_name": "HTMLView",
      "description": "",
      "description_tooltip": null,
      "layout": "IPY_MODEL_72d3bdb7eba1499ab09b6911c2be0089",
      "placeholder": "​",
      "style": "IPY_MODEL_0cd67b5ac10b43aab69be71769cd9f86",
      "value": " 700000/700000 [01:26&lt;00:00, 7737.19it/s]"
     }
    },
    "4f5405e227554fb9877c10e655c1e390": {
     "model_module": "@jupyter-widgets/controls",
     "model_module_version": "1.5.0",
     "model_name": "HTMLModel",
     "state": {
      "_dom_classes": [],
      "_model_module": "@jupyter-widgets/controls",
      "_model_module_version": "1.5.0",
      "_model_name": "HTMLModel",
      "_view_count": null,
      "_view_module": "@jupyter-widgets/controls",
      "_view_module_version": "1.5.0",
      "_view_name": "HTMLView",
      "description": "",
      "description_tooltip": null,
      "layout": "IPY_MODEL_05b71c9587ec4412965edb1d3f732bc4",
      "placeholder": "​",
      "style": "IPY_MODEL_179db6e5315f49ffaf5995e8b48876ae",
      "value": " 300000/300000 [00:37&lt;00:00, 8110.95it/s]"
     }
    },
    "6d6bb75e224f4be68588e0ae6c22acb2": {
     "model_module": "@jupyter-widgets/controls",
     "model_module_version": "1.5.0",
     "model_name": "DescriptionStyleModel",
     "state": {
      "_model_module": "@jupyter-widgets/controls",
      "_model_module_version": "1.5.0",
      "_model_name": "DescriptionStyleModel",
      "_view_count": null,
      "_view_module": "@jupyter-widgets/base",
      "_view_module_version": "1.2.0",
      "_view_name": "StyleView",
      "description_width": ""
     }
    },
    "72d3bdb7eba1499ab09b6911c2be0089": {
     "model_module": "@jupyter-widgets/base",
     "model_module_version": "1.2.0",
     "model_name": "LayoutModel",
     "state": {
      "_model_module": "@jupyter-widgets/base",
      "_model_module_version": "1.2.0",
      "_model_name": "LayoutModel",
      "_view_count": null,
      "_view_module": "@jupyter-widgets/base",
      "_view_module_version": "1.2.0",
      "_view_name": "LayoutView",
      "align_content": null,
      "align_items": null,
      "align_self": null,
      "border": null,
      "bottom": null,
      "display": null,
      "flex": null,
      "flex_flow": null,
      "grid_area": null,
      "grid_auto_columns": null,
      "grid_auto_flow": null,
      "grid_auto_rows": null,
      "grid_column": null,
      "grid_gap": null,
      "grid_row": null,
      "grid_template_areas": null,
      "grid_template_columns": null,
      "grid_template_rows": null,
      "height": null,
      "justify_content": null,
      "justify_items": null,
      "left": null,
      "margin": null,
      "max_height": null,
      "max_width": null,
      "min_height": null,
      "min_width": null,
      "object_fit": null,
      "object_position": null,
      "order": null,
      "overflow": null,
      "overflow_x": null,
      "overflow_y": null,
      "padding": null,
      "right": null,
      "top": null,
      "visibility": null,
      "width": null
     }
    },
    "7e3e3470ab9f4c1eac1b06db72916210": {
     "model_module": "@jupyter-widgets/controls",
     "model_module_version": "1.5.0",
     "model_name": "FloatProgressModel",
     "state": {
      "_dom_classes": [],
      "_model_module": "@jupyter-widgets/controls",
      "_model_module_version": "1.5.0",
      "_model_name": "FloatProgressModel",
      "_view_count": null,
      "_view_module": "@jupyter-widgets/controls",
      "_view_module_version": "1.5.0",
      "_view_name": "ProgressView",
      "bar_style": "success",
      "description": "",
      "description_tooltip": null,
      "layout": "IPY_MODEL_0645e4ac357b4c25aef0a51ee5ab67d6",
      "max": 7377304,
      "min": 0,
      "orientation": "horizontal",
      "style": "IPY_MODEL_9212981d5bc94a7fb700c649cabf3cc0",
      "value": 7377304
     }
    },
    "7eb1ed9d1a30497db420b45824dd02e9": {
     "model_module": "@jupyter-widgets/controls",
     "model_module_version": "1.5.0",
     "model_name": "HTMLModel",
     "state": {
      "_dom_classes": [],
      "_model_module": "@jupyter-widgets/controls",
      "_model_module_version": "1.5.0",
      "_model_name": "HTMLModel",
      "_view_count": null,
      "_view_module": "@jupyter-widgets/controls",
      "_view_module_version": "1.5.0",
      "_view_name": "HTMLView",
      "description": "",
      "description_tooltip": null,
      "layout": "IPY_MODEL_1eae9aea5cc246f3af7122f3475c764d",
      "placeholder": "​",
      "style": "IPY_MODEL_d0855f7868f44911ab70348e4ece3b7f",
      "value": " 7377304/7377304 [12:32&lt;00:00, 9837.83it/s]"
     }
    },
    "820f12bbeaba43ad8f8e3f0529116f2d": {
     "model_module": "@jupyter-widgets/controls",
     "model_module_version": "1.5.0",
     "model_name": "HBoxModel",
     "state": {
      "_dom_classes": [],
      "_model_module": "@jupyter-widgets/controls",
      "_model_module_version": "1.5.0",
      "_model_name": "HBoxModel",
      "_view_count": null,
      "_view_module": "@jupyter-widgets/controls",
      "_view_module_version": "1.5.0",
      "_view_name": "HBoxView",
      "box_style": "",
      "children": [
       "IPY_MODEL_cacecdeaba4c48039464c19ce7861414",
       "IPY_MODEL_efd41b91d5cc42158644fad8a4e67452",
       "IPY_MODEL_4f5405e227554fb9877c10e655c1e390"
      ],
      "layout": "IPY_MODEL_ae07a9a6ccf248638cd44a6556ba6021"
     }
    },
    "82c2e50c3e6240199401babe77a052ed": {
     "model_module": "@jupyter-widgets/base",
     "model_module_version": "1.2.0",
     "model_name": "LayoutModel",
     "state": {
      "_model_module": "@jupyter-widgets/base",
      "_model_module_version": "1.2.0",
      "_model_name": "LayoutModel",
      "_view_count": null,
      "_view_module": "@jupyter-widgets/base",
      "_view_module_version": "1.2.0",
      "_view_name": "LayoutView",
      "align_content": null,
      "align_items": null,
      "align_self": null,
      "border": null,
      "bottom": null,
      "display": null,
      "flex": null,
      "flex_flow": null,
      "grid_area": null,
      "grid_auto_columns": null,
      "grid_auto_flow": null,
      "grid_auto_rows": null,
      "grid_column": null,
      "grid_gap": null,
      "grid_row": null,
      "grid_template_areas": null,
      "grid_template_columns": null,
      "grid_template_rows": null,
      "height": null,
      "justify_content": null,
      "justify_items": null,
      "left": null,
      "margin": null,
      "max_height": null,
      "max_width": null,
      "min_height": null,
      "min_width": null,
      "object_fit": null,
      "object_position": null,
      "order": null,
      "overflow": null,
      "overflow_x": null,
      "overflow_y": null,
      "padding": null,
      "right": null,
      "top": null,
      "visibility": null,
      "width": null
     }
    },
    "889397dd72b44f93b72f7b18dfa9c18c": {
     "model_module": "@jupyter-widgets/controls",
     "model_module_version": "1.5.0",
     "model_name": "HBoxModel",
     "state": {
      "_dom_classes": [],
      "_model_module": "@jupyter-widgets/controls",
      "_model_module_version": "1.5.0",
      "_model_name": "HBoxModel",
      "_view_count": null,
      "_view_module": "@jupyter-widgets/controls",
      "_view_module_version": "1.5.0",
      "_view_name": "HBoxView",
      "box_style": "",
      "children": [
       "IPY_MODEL_9bb59c95fa2f412aabf61b58b12f07a2",
       "IPY_MODEL_41131f4555f14c459a8451340ffe5284",
       "IPY_MODEL_4eeb3c5750604db2b507eb40c227eff6"
      ],
      "layout": "IPY_MODEL_f87100e0319b47338accbb0e5ead9095"
     }
    },
    "8a497a6ce248432fb50bf87099e1cc03": {
     "model_module": "@jupyter-widgets/controls",
     "model_module_version": "1.5.0",
     "model_name": "ProgressStyleModel",
     "state": {
      "_model_module": "@jupyter-widgets/controls",
      "_model_module_version": "1.5.0",
      "_model_name": "ProgressStyleModel",
      "_view_count": null,
      "_view_module": "@jupyter-widgets/base",
      "_view_module_version": "1.2.0",
      "_view_name": "StyleView",
      "bar_color": null,
      "description_width": ""
     }
    },
    "9212981d5bc94a7fb700c649cabf3cc0": {
     "model_module": "@jupyter-widgets/controls",
     "model_module_version": "1.5.0",
     "model_name": "ProgressStyleModel",
     "state": {
      "_model_module": "@jupyter-widgets/controls",
      "_model_module_version": "1.5.0",
      "_model_name": "ProgressStyleModel",
      "_view_count": null,
      "_view_module": "@jupyter-widgets/base",
      "_view_module_version": "1.2.0",
      "_view_name": "StyleView",
      "bar_color": null,
      "description_width": ""
     }
    },
    "9bb59c95fa2f412aabf61b58b12f07a2": {
     "model_module": "@jupyter-widgets/controls",
     "model_module_version": "1.5.0",
     "model_name": "HTMLModel",
     "state": {
      "_dom_classes": [],
      "_model_module": "@jupyter-widgets/controls",
      "_model_module_version": "1.5.0",
      "_model_name": "HTMLModel",
      "_view_count": null,
      "_view_module": "@jupyter-widgets/controls",
      "_view_module_version": "1.5.0",
      "_view_name": "HTMLView",
      "description": "",
      "description_tooltip": null,
      "layout": "IPY_MODEL_f1599d0c1d9842f08fff3ab50bd7b12a",
      "placeholder": "​",
      "style": "IPY_MODEL_3953a31f35c44802a8f1d86dfd2096c4",
      "value": "100%"
     }
    },
    "ae07a9a6ccf248638cd44a6556ba6021": {
     "model_module": "@jupyter-widgets/base",
     "model_module_version": "1.2.0",
     "model_name": "LayoutModel",
     "state": {
      "_model_module": "@jupyter-widgets/base",
      "_model_module_version": "1.2.0",
      "_model_name": "LayoutModel",
      "_view_count": null,
      "_view_module": "@jupyter-widgets/base",
      "_view_module_version": "1.2.0",
      "_view_name": "LayoutView",
      "align_content": null,
      "align_items": null,
      "align_self": null,
      "border": null,
      "bottom": null,
      "display": null,
      "flex": null,
      "flex_flow": null,
      "grid_area": null,
      "grid_auto_columns": null,
      "grid_auto_flow": null,
      "grid_auto_rows": null,
      "grid_column": null,
      "grid_gap": null,
      "grid_row": null,
      "grid_template_areas": null,
      "grid_template_columns": null,
      "grid_template_rows": null,
      "height": null,
      "justify_content": null,
      "justify_items": null,
      "left": null,
      "margin": null,
      "max_height": null,
      "max_width": null,
      "min_height": null,
      "min_width": null,
      "object_fit": null,
      "object_position": null,
      "order": null,
      "overflow": null,
      "overflow_x": null,
      "overflow_y": null,
      "padding": null,
      "right": null,
      "top": null,
      "visibility": null,
      "width": null
     }
    },
    "c23a07ad57d147818dab902787e21fda": {
     "model_module": "@jupyter-widgets/controls",
     "model_module_version": "1.5.0",
     "model_name": "ProgressStyleModel",
     "state": {
      "_model_module": "@jupyter-widgets/controls",
      "_model_module_version": "1.5.0",
      "_model_name": "ProgressStyleModel",
      "_view_count": null,
      "_view_module": "@jupyter-widgets/base",
      "_view_module_version": "1.2.0",
      "_view_name": "StyleView",
      "bar_color": null,
      "description_width": ""
     }
    },
    "c6c732813e4a4116bad6321223561f0f": {
     "model_module": "@jupyter-widgets/base",
     "model_module_version": "1.2.0",
     "model_name": "LayoutModel",
     "state": {
      "_model_module": "@jupyter-widgets/base",
      "_model_module_version": "1.2.0",
      "_model_name": "LayoutModel",
      "_view_count": null,
      "_view_module": "@jupyter-widgets/base",
      "_view_module_version": "1.2.0",
      "_view_name": "LayoutView",
      "align_content": null,
      "align_items": null,
      "align_self": null,
      "border": null,
      "bottom": null,
      "display": null,
      "flex": null,
      "flex_flow": null,
      "grid_area": null,
      "grid_auto_columns": null,
      "grid_auto_flow": null,
      "grid_auto_rows": null,
      "grid_column": null,
      "grid_gap": null,
      "grid_row": null,
      "grid_template_areas": null,
      "grid_template_columns": null,
      "grid_template_rows": null,
      "height": null,
      "justify_content": null,
      "justify_items": null,
      "left": null,
      "margin": null,
      "max_height": null,
      "max_width": null,
      "min_height": null,
      "min_width": null,
      "object_fit": null,
      "object_position": null,
      "order": null,
      "overflow": null,
      "overflow_x": null,
      "overflow_y": null,
      "padding": null,
      "right": null,
      "top": null,
      "visibility": null,
      "width": null
     }
    },
    "c707ee792a88465e8623077d4b66b135": {
     "model_module": "@jupyter-widgets/controls",
     "model_module_version": "1.5.0",
     "model_name": "HBoxModel",
     "state": {
      "_dom_classes": [],
      "_model_module": "@jupyter-widgets/controls",
      "_model_module_version": "1.5.0",
      "_model_name": "HBoxModel",
      "_view_count": null,
      "_view_module": "@jupyter-widgets/controls",
      "_view_module_version": "1.5.0",
      "_view_name": "HBoxView",
      "box_style": "",
      "children": [
       "IPY_MODEL_c9998b46fb4d4777b25560fcc3b6b34d",
       "IPY_MODEL_7e3e3470ab9f4c1eac1b06db72916210",
       "IPY_MODEL_7eb1ed9d1a30497db420b45824dd02e9"
      ],
      "layout": "IPY_MODEL_288485c1ba424830a6d51c9602735c90"
     }
    },
    "c9998b46fb4d4777b25560fcc3b6b34d": {
     "model_module": "@jupyter-widgets/controls",
     "model_module_version": "1.5.0",
     "model_name": "HTMLModel",
     "state": {
      "_dom_classes": [],
      "_model_module": "@jupyter-widgets/controls",
      "_model_module_version": "1.5.0",
      "_model_name": "HTMLModel",
      "_view_count": null,
      "_view_module": "@jupyter-widgets/controls",
      "_view_module_version": "1.5.0",
      "_view_name": "HTMLView",
      "description": "",
      "description_tooltip": null,
      "layout": "IPY_MODEL_423f7255fa484a0ab623dd1a3d173238",
      "placeholder": "​",
      "style": "IPY_MODEL_262d97ec73a548cd811234c1b521a6cb",
      "value": "100%"
     }
    },
    "cacecdeaba4c48039464c19ce7861414": {
     "model_module": "@jupyter-widgets/controls",
     "model_module_version": "1.5.0",
     "model_name": "HTMLModel",
     "state": {
      "_dom_classes": [],
      "_model_module": "@jupyter-widgets/controls",
      "_model_module_version": "1.5.0",
      "_model_name": "HTMLModel",
      "_view_count": null,
      "_view_module": "@jupyter-widgets/controls",
      "_view_module_version": "1.5.0",
      "_view_name": "HTMLView",
      "description": "",
      "description_tooltip": null,
      "layout": "IPY_MODEL_2283c41beac743d490c8d5bc3331e18e",
      "placeholder": "​",
      "style": "IPY_MODEL_6d6bb75e224f4be68588e0ae6c22acb2",
      "value": "100%"
     }
    },
    "d0855f7868f44911ab70348e4ece3b7f": {
     "model_module": "@jupyter-widgets/controls",
     "model_module_version": "1.5.0",
     "model_name": "DescriptionStyleModel",
     "state": {
      "_model_module": "@jupyter-widgets/controls",
      "_model_module_version": "1.5.0",
      "_model_name": "DescriptionStyleModel",
      "_view_count": null,
      "_view_module": "@jupyter-widgets/base",
      "_view_module_version": "1.2.0",
      "_view_name": "StyleView",
      "description_width": ""
     }
    },
    "efd41b91d5cc42158644fad8a4e67452": {
     "model_module": "@jupyter-widgets/controls",
     "model_module_version": "1.5.0",
     "model_name": "FloatProgressModel",
     "state": {
      "_dom_classes": [],
      "_model_module": "@jupyter-widgets/controls",
      "_model_module_version": "1.5.0",
      "_model_name": "FloatProgressModel",
      "_view_count": null,
      "_view_module": "@jupyter-widgets/controls",
      "_view_module_version": "1.5.0",
      "_view_name": "ProgressView",
      "bar_style": "success",
      "description": "",
      "description_tooltip": null,
      "layout": "IPY_MODEL_c6c732813e4a4116bad6321223561f0f",
      "max": 300000,
      "min": 0,
      "orientation": "horizontal",
      "style": "IPY_MODEL_c23a07ad57d147818dab902787e21fda",
      "value": 300000
     }
    },
    "f1599d0c1d9842f08fff3ab50bd7b12a": {
     "model_module": "@jupyter-widgets/base",
     "model_module_version": "1.2.0",
     "model_name": "LayoutModel",
     "state": {
      "_model_module": "@jupyter-widgets/base",
      "_model_module_version": "1.2.0",
      "_model_name": "LayoutModel",
      "_view_count": null,
      "_view_module": "@jupyter-widgets/base",
      "_view_module_version": "1.2.0",
      "_view_name": "LayoutView",
      "align_content": null,
      "align_items": null,
      "align_self": null,
      "border": null,
      "bottom": null,
      "display": null,
      "flex": null,
      "flex_flow": null,
      "grid_area": null,
      "grid_auto_columns": null,
      "grid_auto_flow": null,
      "grid_auto_rows": null,
      "grid_column": null,
      "grid_gap": null,
      "grid_row": null,
      "grid_template_areas": null,
      "grid_template_columns": null,
      "grid_template_rows": null,
      "height": null,
      "justify_content": null,
      "justify_items": null,
      "left": null,
      "margin": null,
      "max_height": null,
      "max_width": null,
      "min_height": null,
      "min_width": null,
      "object_fit": null,
      "object_position": null,
      "order": null,
      "overflow": null,
      "overflow_x": null,
      "overflow_y": null,
      "padding": null,
      "right": null,
      "top": null,
      "visibility": null,
      "width": null
     }
    },
    "f87100e0319b47338accbb0e5ead9095": {
     "model_module": "@jupyter-widgets/base",
     "model_module_version": "1.2.0",
     "model_name": "LayoutModel",
     "state": {
      "_model_module": "@jupyter-widgets/base",
      "_model_module_version": "1.2.0",
      "_model_name": "LayoutModel",
      "_view_count": null,
      "_view_module": "@jupyter-widgets/base",
      "_view_module_version": "1.2.0",
      "_view_name": "LayoutView",
      "align_content": null,
      "align_items": null,
      "align_self": null,
      "border": null,
      "bottom": null,
      "display": null,
      "flex": null,
      "flex_flow": null,
      "grid_area": null,
      "grid_auto_columns": null,
      "grid_auto_flow": null,
      "grid_auto_rows": null,
      "grid_column": null,
      "grid_gap": null,
      "grid_row": null,
      "grid_template_areas": null,
      "grid_template_columns": null,
      "grid_template_rows": null,
      "height": null,
      "justify_content": null,
      "justify_items": null,
      "left": null,
      "margin": null,
      "max_height": null,
      "max_width": null,
      "min_height": null,
      "min_width": null,
      "object_fit": null,
      "object_position": null,
      "order": null,
      "overflow": null,
      "overflow_x": null,
      "overflow_y": null,
      "padding": null,
      "right": null,
      "top": null,
      "visibility": null,
      "width": null
     }
    }
   }
  }
 },
 "nbformat": 4,
 "nbformat_minor": 4
}
